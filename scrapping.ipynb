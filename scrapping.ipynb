{
 "cells": [
  {
   "cell_type": "code",
   "execution_count": 4,
   "id": "b28dcc11-32cb-4a8c-967b-7ba528d3ccdf",
   "metadata": {
    "execution": {
     "iopub.execute_input": "2023-01-31T13:08:43.066487Z",
     "iopub.status.busy": "2023-01-31T13:08:43.066173Z",
     "iopub.status.idle": "2023-01-31T13:08:43.070064Z",
     "shell.execute_reply": "2023-01-31T13:08:43.069159Z",
     "shell.execute_reply.started": "2023-01-31T13:08:43.066462Z"
    },
    "tags": []
   },
   "outputs": [],
   "source": [
    "import requests\n",
    "from bs4 import BeautifulSoup"
   ]
  },
  {
   "cell_type": "code",
   "execution_count": 64,
   "id": "57d36583-48be-4e80-b896-3b28736f7d82",
   "metadata": {
    "execution": {
     "iopub.execute_input": "2023-01-31T14:06:35.471438Z",
     "iopub.status.busy": "2023-01-31T14:06:35.471002Z",
     "iopub.status.idle": "2023-01-31T14:06:35.579134Z",
     "shell.execute_reply": "2023-01-31T14:06:35.578436Z",
     "shell.execute_reply.started": "2023-01-31T14:06:35.471405Z"
    },
    "tags": []
   },
   "outputs": [],
   "source": [
    "# url = \"https://www.space.com/archive\"\n",
    "# response = requests.get(url)\n",
    "# soup = BeautifulSoup(response.text, \"html.parser\")"
   ]
  },
  {
   "cell_type": "code",
   "execution_count": 65,
   "id": "3713a1a0-1023-4155-89f9-76b06e9e7961",
   "metadata": {
    "execution": {
     "iopub.execute_input": "2023-01-31T14:06:37.020934Z",
     "iopub.status.busy": "2023-01-31T14:06:37.020581Z",
     "iopub.status.idle": "2023-01-31T14:06:59.264489Z",
     "shell.execute_reply": "2023-01-31T14:06:59.263736Z",
     "shell.execute_reply.started": "2023-01-31T14:06:37.020908Z"
    },
    "tags": []
   },
   "outputs": [],
   "source": [
    "# list_of_articles = []\n",
    "\n",
    "# for archive_row in soup.find_all(\"li\", class_=\"day-article\"):\n",
    "#     link = archive_row.find(\"a\")[\"href\"]\n",
    "#     response = requests.get(link)\n",
    "#     soup = BeautifulSoup(response.text, \"html.parser\")\n",
    "#     paragraphs = soup.find_all(\"p\")[1:-5]\n",
    "    \n",
    "#     text = []\n",
    "#     for p in paragraphs:\n",
    "#         text.append(p.get_text())\n",
    "#     article = ' '.join(text)\n",
    "#     list_of_articles.append(article)"
   ]
  },
  {
   "cell_type": "code",
   "execution_count": null,
   "id": "0931c9c7-8f47-44d5-b4f6-38b6f5bd2db3",
   "metadata": {
    "execution": {
     "iopub.execute_input": "2023-01-31T14:20:54.818780Z",
     "iopub.status.busy": "2023-01-31T14:20:54.818465Z"
    },
    "tags": []
   },
   "outputs": [
    {
     "name": "stdout",
     "output_type": "stream",
     "text": [
      "https://www.space.com/archive/2010/1\n",
      "https://www.space.com/archive/2010/2\n",
      "https://www.space.com/archive/2010/3\n",
      "https://www.space.com/archive/2010/4\n",
      "https://www.space.com/archive/2010/5\n",
      "https://www.space.com/archive/2010/6\n",
      "https://www.space.com/archive/2010/7\n",
      "https://www.space.com/archive/2010/8\n",
      "https://www.space.com/archive/2010/9\n",
      "https://www.space.com/archive/2010/10\n",
      "https://www.space.com/archive/2010/11\n",
      "https://www.space.com/archive/2010/12\n",
      "https://www.space.com/archive/2011/1\n",
      "https://www.space.com/archive/2011/2\n",
      "https://www.space.com/archive/2011/3\n",
      "https://www.space.com/archive/2011/4\n",
      "https://www.space.com/archive/2011/5\n",
      "https://www.space.com/archive/2011/6\n",
      "https://www.space.com/archive/2011/7\n",
      "https://www.space.com/archive/2011/8\n",
      "https://www.space.com/archive/2011/9\n",
      "https://www.space.com/archive/2011/10\n",
      "https://www.space.com/archive/2011/11\n",
      "https://www.space.com/archive/2011/12\n",
      "https://www.space.com/archive/2012/1\n",
      "https://www.space.com/archive/2012/2\n",
      "https://www.space.com/archive/2012/3\n",
      "https://www.space.com/archive/2012/4\n",
      "https://www.space.com/archive/2012/5\n",
      "https://www.space.com/archive/2012/6\n",
      "https://www.space.com/archive/2012/7\n",
      "https://www.space.com/archive/2012/8\n",
      "https://www.space.com/archive/2012/9\n",
      "https://www.space.com/archive/2012/10\n",
      "https://www.space.com/archive/2012/11\n",
      "https://www.space.com/archive/2012/12\n"
     ]
    }
   ],
   "source": [
    "list_of_articles = []\n",
    "\n",
    "for year in range(2010, 2023, 1):\n",
    "    for month in range(1, 13):\n",
    "        url = \"https://www.space.com/archive/\" + str(year) + '/' + str(month)\n",
    "        response = requests.get(url)\n",
    "        soup = BeautifulSoup(response.text, \"html.parser\")\n",
    "        \n",
    "        for archive_row in soup.find_all(\"li\", class_=\"day-article\"):\n",
    "            link = archive_row.find(\"a\")[\"href\"]\n",
    "            \n",
    "            response = requests.get(link)\n",
    "            soup = BeautifulSoup(response.text, \"html.parser\")\n",
    "            paragraphs = soup.find_all(\"p\")[1:-5]\n",
    "    \n",
    "            text = []\n",
    "            for p in paragraphs:\n",
    "                text.append(p.get_text())\n",
    "            article = ' '.join(text)\n",
    "            list_of_articles.append(article)"
   ]
  },
  {
   "cell_type": "code",
   "execution_count": null,
   "id": "25c65b1e-536b-4c69-ac45-45d79f85e892",
   "metadata": {
    "tags": []
   },
   "outputs": [],
   "source": [
    "print(len(list_of_articles))"
   ]
  },
  {
   "cell_type": "code",
   "execution_count": null,
   "id": "6cff3917-d9e5-4fe2-80bd-8e0ef35f3010",
   "metadata": {},
   "outputs": [],
   "source": [
    "import boto3\n",
    "\n",
    "s3 = boto3.client('s3')\n",
    "\n",
    "def write_to_s3(articles):\n",
    "    file = \"articles.txt\"\n",
    "    with open(file, \"w\") as f:\n",
    "        for article in articles:\n",
    "            f.write(article + \"\\n\")\n",
    "\n",
    "    s3.upload_file(file, \"pkruk-big-data\", \"articles/articles.txt\")"
   ]
  }
 ],
 "metadata": {
  "kernelspec": {
   "display_name": "Python 3",
   "language": "python",
   "name": "python3"
  },
  "language_info": {
   "codemirror_mode": {
    "name": "ipython",
    "version": 3
   },
   "file_extension": ".py",
   "mimetype": "text/x-python",
   "name": "python",
   "nbconvert_exporter": "python",
   "pygments_lexer": "ipython3",
   "version": "3.7.13"
  }
 },
 "nbformat": 4,
 "nbformat_minor": 5
}
