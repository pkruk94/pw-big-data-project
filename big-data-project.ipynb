{
 "cells": [
  {
   "cell_type": "code",
   "execution_count": 1,
   "id": "59e70446-fe89-4992-a505-e03f4acc9265",
   "metadata": {
    "execution": {
     "iopub.execute_input": "2023-01-28T15:55:35.723926Z",
     "iopub.status.busy": "2023-01-28T15:55:35.723626Z",
     "iopub.status.idle": "2023-01-28T15:56:08.409921Z",
     "shell.execute_reply": "2023-01-28T15:56:08.409235Z",
     "shell.execute_reply.started": "2023-01-28T15:55:35.723892Z"
    },
    "tags": []
   },
   "outputs": [
    {
     "data": {
      "application/vnd.jupyter.widget-view+json": {
       "model_id": "a303f6dd98974b1292f04e97afa24c52",
       "version_major": 2,
       "version_minor": 0
      },
      "text/plain": [
       "VBox()"
      ]
     },
     "metadata": {},
     "output_type": "display_data"
    },
    {
     "name": "stdout",
     "output_type": "stream",
     "text": [
      "Starting Spark application\n"
     ]
    },
    {
     "data": {
      "text/html": [
       "<table>\n",
       "<tr><th>ID</th><th>YARN Application ID</th><th>Kind</th><th>State</th><th>Spark UI</th><th>Driver log</th><th>User</th><th>Current session?</th></tr><tr><td>1</td><td>application_1674913086828_0002</td><td>pyspark</td><td>idle</td><td><a target=\"_blank\" href=\"http://ip-172-31-19-122.ec2.internal:20888/proxy/application_1674913086828_0002/\" class=\"emr-proxy-link\" emr-resource=\"j-28B64KLY7IP9G\n",
       "\" application-id=\"application_1674913086828_0002\">Link</a></td><td><a target=\"_blank\" href=\"http://ip-172-31-21-19.ec2.internal:8042/node/containerlogs/container_1674913086828_0002_01_000001/livy\" >Link</a></td><td>None</td><td>✔</td></tr></table>"
      ],
      "text/plain": [
       "<IPython.core.display.HTML object>"
      ]
     },
     "metadata": {},
     "output_type": "display_data"
    },
    {
     "data": {
      "application/vnd.jupyter.widget-view+json": {
       "model_id": "",
       "version_major": 2,
       "version_minor": 0
      },
      "text/plain": [
       "FloatProgress(value=0.0, bar_style='info', description='Progress:', layout=Layout(height='25px', width='50%'),…"
      ]
     },
     "metadata": {},
     "output_type": "display_data"
    },
    {
     "name": "stdout",
     "output_type": "stream",
     "text": [
      "SparkSession available as 'spark'.\n"
     ]
    },
    {
     "data": {
      "application/vnd.jupyter.widget-view+json": {
       "model_id": "",
       "version_major": 2,
       "version_minor": 0
      },
      "text/plain": [
       "FloatProgress(value=0.0, bar_style='info', description='Progress:', layout=Layout(height='25px', width='50%'),…"
      ]
     },
     "metadata": {},
     "output_type": "display_data"
    }
   ],
   "source": [
    "from pyspark.sql import SparkSession\n",
    "import os\n",
    "\n",
    "# os.environ['PYSPARK_SUBMIT_ARGS'] = '--packages com.databricks:spark-xml_2.12:0.16.0 pyspark-shell'"
   ]
  },
  {
   "cell_type": "code",
   "execution_count": 2,
   "id": "ac7de1b1-6252-4268-966a-ac33c1ae4c2a",
   "metadata": {
    "execution": {
     "iopub.execute_input": "2023-01-28T15:56:08.411347Z",
     "iopub.status.busy": "2023-01-28T15:56:08.411122Z",
     "iopub.status.idle": "2023-01-28T15:56:10.353470Z",
     "shell.execute_reply": "2023-01-28T15:56:10.352489Z",
     "shell.execute_reply.started": "2023-01-28T15:56:08.411322Z"
    },
    "tags": []
   },
   "outputs": [
    {
     "name": "stderr",
     "output_type": "stream",
     "text": [
      "Welcome to\n",
      "      ____              __\n",
      "     / __/__  ___ _____/ /__\n",
      "    _\\ \\/ _ \\/ _ `/ __/  '_/\n",
      "   /___/ .__/\\_,_/_/ /_/\\_\\   version 3.3.0-amzn-1\n",
      "      /_/\n",
      "                        \n",
      "Using Scala version 2.12.15, OpenJDK 64-Bit Server VM, 1.8.0_342\n",
      "Branch \n",
      "Compiled by user release on 2022-11-02T06:24:47Z\n",
      "Revision \n",
      "Url \n",
      "Type --help for more information.\n"
     ]
    }
   ],
   "source": [
    "%%sh\n",
    "spark-submit --version"
   ]
  },
  {
   "cell_type": "code",
   "execution_count": 3,
   "id": "bc5a471b-877a-4b1f-9c1f-a4cf1f36c9cb",
   "metadata": {
    "execution": {
     "iopub.execute_input": "2023-01-28T15:56:10.356099Z",
     "iopub.status.busy": "2023-01-28T15:56:10.355742Z",
     "iopub.status.idle": "2023-01-28T15:56:10.419994Z",
     "shell.execute_reply": "2023-01-28T15:56:10.419280Z",
     "shell.execute_reply.started": "2023-01-28T15:56:10.356056Z"
    },
    "tags": []
   },
   "outputs": [
    {
     "data": {
      "application/vnd.jupyter.widget-view+json": {
       "model_id": "e71179dc273542599efee93db5daa0b7",
       "version_major": 2,
       "version_minor": 0
      },
      "text/plain": [
       "VBox()"
      ]
     },
     "metadata": {},
     "output_type": "display_data"
    },
    {
     "data": {
      "application/vnd.jupyter.widget-view+json": {
       "model_id": "",
       "version_major": 2,
       "version_minor": 0
      },
      "text/plain": [
       "FloatProgress(value=0.0, bar_style='info', description='Progress:', layout=Layout(height='25px', width='50%'),…"
      ]
     },
     "metadata": {},
     "output_type": "display_data"
    }
   ],
   "source": [
    "from pyspark.sql import SparkSession\n",
    "from pyspark.sql import Row\n",
    "from pyspark.sql import functions as f\n",
    "from pyspark.sql import Window\n",
    "from pyspark.sql.types import StringType, DoubleType, IntegerType\n",
    "\n",
    "spark = SparkSession.builder \\\n",
    "                    .appName('PK_BigData_Project') \\\n",
    "                    .config('spark.jars.packages', 'com.amazonaws:aws-java-sdk-bundle:1.12.170') \\\n",
    "                    .config('spark.jars.packages', 'org.apache.hadoop:hadoop-aws:3.3.3') \\\n",
    "                    .config(\"spark.driver.memory\", \"12g\") \\\n",
    "                    .config(\"spark.executor.memory\", \"12g\") \\\n",
    "                    .master('local[3]') \\\n",
    "                    .getOrCreate()"
   ]
  },
  {
   "cell_type": "code",
   "execution_count": 4,
   "id": "dfb5696a-ca20-4057-a78c-8c6169e8125c",
   "metadata": {
    "execution": {
     "iopub.execute_input": "2023-01-28T15:56:10.421443Z",
     "iopub.status.busy": "2023-01-28T15:56:10.421221Z",
     "iopub.status.idle": "2023-01-28T15:56:10.482508Z",
     "shell.execute_reply": "2023-01-28T15:56:10.481828Z",
     "shell.execute_reply.started": "2023-01-28T15:56:10.421421Z"
    },
    "tags": []
   },
   "outputs": [
    {
     "data": {
      "application/vnd.jupyter.widget-view+json": {
       "model_id": "ce1ba6705f6a463b936e609acb1704d2",
       "version_major": 2,
       "version_minor": 0
      },
      "text/plain": [
       "VBox()"
      ]
     },
     "metadata": {},
     "output_type": "display_data"
    },
    {
     "data": {
      "application/vnd.jupyter.widget-view+json": {
       "model_id": "",
       "version_major": 2,
       "version_minor": 0
      },
      "text/plain": [
       "FloatProgress(value=0.0, bar_style='info', description='Progress:', layout=Layout(height='25px', width='50%'),…"
      ]
     },
     "metadata": {},
     "output_type": "display_data"
    }
   ],
   "source": [
    "filePath = \"s3a://pkruk-big-data/data/\"\n",
    "\n",
    "filenames = ['Badges', 'Comments', 'PostHistory', \\\n",
    "             'PostLinks', 'Posts', 'Tags', 'Users', \\\n",
    "             'Votes']"
   ]
  },
  {
   "cell_type": "code",
   "execution_count": 5,
   "id": "be543742-4963-4df5-a08d-e7ef41a70a2c",
   "metadata": {
    "execution": {
     "iopub.execute_input": "2023-01-28T15:56:10.483948Z",
     "iopub.status.busy": "2023-01-28T15:56:10.483630Z",
     "iopub.status.idle": "2023-01-28T15:56:55.934872Z",
     "shell.execute_reply": "2023-01-28T15:56:55.933915Z",
     "shell.execute_reply.started": "2023-01-28T15:56:10.483914Z"
    },
    "tags": []
   },
   "outputs": [
    {
     "data": {
      "application/vnd.jupyter.widget-view+json": {
       "model_id": "e027ec34f3b14073adda211f0f492acc",
       "version_major": 2,
       "version_minor": 0
      },
      "text/plain": [
       "VBox()"
      ]
     },
     "metadata": {},
     "output_type": "display_data"
    },
    {
     "data": {
      "application/vnd.jupyter.widget-view+json": {
       "model_id": "",
       "version_major": 2,
       "version_minor": 0
      },
      "text/plain": [
       "FloatProgress(value=0.0, bar_style='info', description='Progress:', layout=Layout(height='25px', width='50%'),…"
      ]
     },
     "metadata": {},
     "output_type": "display_data"
    }
   ],
   "source": [
    "dataframes = {}\n",
    "\n",
    "for name in filenames:\n",
    "    dataframes[name] = spark.read.format('com.databricks.spark.xml').option('rootTag', name.lower()).option('rowTag', 'row').load(filePath + name + '.xml')"
   ]
  },
  {
   "cell_type": "markdown",
   "id": "4738b303-08d0-480c-a50c-b4f6ef884c5d",
   "metadata": {},
   "source": [
    "## Zmiana nazw kolumn, sprawdzenie typów, czyszczenie wartości"
   ]
  },
  {
   "cell_type": "markdown",
   "id": "847a5251-e52e-4f77-b78e-392ac3b1a79c",
   "metadata": {},
   "source": [
    "### 1. Badges"
   ]
  },
  {
   "cell_type": "code",
   "execution_count": 6,
   "id": "bcf39af4-1105-4241-8af8-93c8a27d294c",
   "metadata": {
    "execution": {
     "iopub.execute_input": "2023-01-28T15:56:55.936960Z",
     "iopub.status.busy": "2023-01-28T15:56:55.936312Z",
     "iopub.status.idle": "2023-01-28T15:56:56.223016Z",
     "shell.execute_reply": "2023-01-28T15:56:56.222074Z",
     "shell.execute_reply.started": "2023-01-28T15:56:55.936920Z"
    },
    "tags": []
   },
   "outputs": [
    {
     "data": {
      "application/vnd.jupyter.widget-view+json": {
       "model_id": "4cf9fe1b09744640a9c069852b628538",
       "version_major": 2,
       "version_minor": 0
      },
      "text/plain": [
       "VBox()"
      ]
     },
     "metadata": {},
     "output_type": "display_data"
    },
    {
     "data": {
      "application/vnd.jupyter.widget-view+json": {
       "model_id": "",
       "version_major": 2,
       "version_minor": 0
      },
      "text/plain": [
       "FloatProgress(value=0.0, bar_style='info', description='Progress:', layout=Layout(height='25px', width='50%'),…"
      ]
     },
     "metadata": {},
     "output_type": "display_data"
    }
   ],
   "source": [
    "dataframes['Badges'] = dataframes['Badges'] \\\n",
    "                        .withColumnRenamed('_Date', 'badge_aquire_date') \\\n",
    "                        .withColumnRenamed('_Id', 'badge_id') \\\n",
    "                        .withColumnRenamed('_Name', 'badge_name') \\\n",
    "                        .withColumnRenamed('_TagBased', 'is_badge_tag_based') \\\n",
    "                        .withColumnRenamed('_UserId', 'badge_owner_id') \\\n",
    "                        .withColumnRenamed('_Class', 'badge_class') \\\n",
    "                        .dropDuplicates()"
   ]
  },
  {
   "cell_type": "code",
   "execution_count": 7,
   "id": "cf453d63-0774-497d-8669-e7ba14b32cff",
   "metadata": {
    "execution": {
     "iopub.execute_input": "2023-01-28T15:56:56.224757Z",
     "iopub.status.busy": "2023-01-28T15:56:56.224370Z",
     "iopub.status.idle": "2023-01-28T15:56:56.295341Z",
     "shell.execute_reply": "2023-01-28T15:56:56.294464Z",
     "shell.execute_reply.started": "2023-01-28T15:56:56.224665Z"
    },
    "tags": []
   },
   "outputs": [
    {
     "data": {
      "application/vnd.jupyter.widget-view+json": {
       "model_id": "c0b0134c7cb14281ace628bfe6d85a40",
       "version_major": 2,
       "version_minor": 0
      },
      "text/plain": [
       "VBox()"
      ]
     },
     "metadata": {},
     "output_type": "display_data"
    },
    {
     "data": {
      "application/vnd.jupyter.widget-view+json": {
       "model_id": "",
       "version_major": 2,
       "version_minor": 0
      },
      "text/plain": [
       "FloatProgress(value=0.0, bar_style='info', description='Progress:', layout=Layout(height='25px', width='50%'),…"
      ]
     },
     "metadata": {},
     "output_type": "display_data"
    }
   ],
   "source": [
    "# dataframes['Badges'].printSchema()"
   ]
  },
  {
   "cell_type": "code",
   "execution_count": 8,
   "id": "fbcf2c2f-2308-4744-8296-dedaa7b188c9",
   "metadata": {
    "execution": {
     "iopub.execute_input": "2023-01-28T15:56:56.299186Z",
     "iopub.status.busy": "2023-01-28T15:56:56.298868Z",
     "iopub.status.idle": "2023-01-28T15:57:03.602293Z",
     "shell.execute_reply": "2023-01-28T15:57:03.601266Z",
     "shell.execute_reply.started": "2023-01-28T15:56:56.299151Z"
    },
    "tags": []
   },
   "outputs": [
    {
     "data": {
      "application/vnd.jupyter.widget-view+json": {
       "model_id": "6ef99406f65543c6b75e4f31b66f08a4",
       "version_major": 2,
       "version_minor": 0
      },
      "text/plain": [
       "VBox()"
      ]
     },
     "metadata": {},
     "output_type": "display_data"
    },
    {
     "data": {
      "application/vnd.jupyter.widget-view+json": {
       "model_id": "",
       "version_major": 2,
       "version_minor": 0
      },
      "text/plain": [
       "FloatProgress(value=0.0, bar_style='info', description='Progress:', layout=Layout(height='25px', width='50%'),…"
      ]
     },
     "metadata": {},
     "output_type": "display_data"
    },
    {
     "name": "stdout",
     "output_type": "stream",
     "text": [
      "0"
     ]
    }
   ],
   "source": [
    "print(dataframes['Badges'].subtract(dataframes['Badges'].dropna()).count())"
   ]
  },
  {
   "cell_type": "code",
   "execution_count": 9,
   "id": "2170c34e-0d14-4fba-8485-c046e1f31143",
   "metadata": {
    "execution": {
     "iopub.execute_input": "2023-01-28T15:57:03.604812Z",
     "iopub.status.busy": "2023-01-28T15:57:03.604403Z",
     "iopub.status.idle": "2023-01-28T15:57:03.668850Z",
     "shell.execute_reply": "2023-01-28T15:57:03.668121Z",
     "shell.execute_reply.started": "2023-01-28T15:57:03.604772Z"
    },
    "tags": []
   },
   "outputs": [
    {
     "data": {
      "application/vnd.jupyter.widget-view+json": {
       "model_id": "b661b45395284104827b173ea2693ad7",
       "version_major": 2,
       "version_minor": 0
      },
      "text/plain": [
       "VBox()"
      ]
     },
     "metadata": {},
     "output_type": "display_data"
    },
    {
     "data": {
      "application/vnd.jupyter.widget-view+json": {
       "model_id": "",
       "version_major": 2,
       "version_minor": 0
      },
      "text/plain": [
       "FloatProgress(value=0.0, bar_style='info', description='Progress:', layout=Layout(height='25px', width='50%'),…"
      ]
     },
     "metadata": {},
     "output_type": "display_data"
    }
   ],
   "source": [
    "# nie ma null, typy są ok"
   ]
  },
  {
   "cell_type": "markdown",
   "id": "e6c5d8ad-c175-407b-afa8-bbf1e00b54f1",
   "metadata": {},
   "source": [
    "### 2. Comments"
   ]
  },
  {
   "cell_type": "code",
   "execution_count": 10,
   "id": "f32d7c09-49d0-482c-93d6-6af2d02d1ba3",
   "metadata": {
    "execution": {
     "iopub.execute_input": "2023-01-28T15:57:03.670108Z",
     "iopub.status.busy": "2023-01-28T15:57:03.669827Z",
     "iopub.status.idle": "2023-01-28T15:57:03.938967Z",
     "shell.execute_reply": "2023-01-28T15:57:03.938074Z",
     "shell.execute_reply.started": "2023-01-28T15:57:03.670083Z"
    },
    "tags": []
   },
   "outputs": [
    {
     "data": {
      "application/vnd.jupyter.widget-view+json": {
       "model_id": "f890bef8ac614488922edbe60949ae2e",
       "version_major": 2,
       "version_minor": 0
      },
      "text/plain": [
       "VBox()"
      ]
     },
     "metadata": {},
     "output_type": "display_data"
    },
    {
     "data": {
      "application/vnd.jupyter.widget-view+json": {
       "model_id": "",
       "version_major": 2,
       "version_minor": 0
      },
      "text/plain": [
       "FloatProgress(value=0.0, bar_style='info', description='Progress:', layout=Layout(height='25px', width='50%'),…"
      ]
     },
     "metadata": {},
     "output_type": "display_data"
    }
   ],
   "source": [
    "dataframes['Comments'] = dataframes['Comments'] \\\n",
    "                        .drop('_ContentLicense') \\\n",
    "                        .withColumnRenamed('_CreationDate', 'comment_creation_date') \\\n",
    "                        .withColumnRenamed('_Id', 'comment_id') \\\n",
    "                        .withColumnRenamed('_PostId', 'post_id') \\\n",
    "                        .withColumnRenamed('_Score', 'comment_score') \\\n",
    "                        .withColumnRenamed('_Text', 'comment_content') \\\n",
    "                        .withColumnRenamed('_UserId', 'user_id') \\\n",
    "                        .withColumnRenamed('_UserDisplayName', 'user_display_name') \\\n",
    "                        .dropDuplicates()"
   ]
  },
  {
   "cell_type": "code",
   "execution_count": 11,
   "id": "deaa4fb0-7166-445e-a7af-74dcfda84c2d",
   "metadata": {
    "execution": {
     "iopub.execute_input": "2023-01-28T15:57:03.940581Z",
     "iopub.status.busy": "2023-01-28T15:57:03.940251Z",
     "iopub.status.idle": "2023-01-28T15:57:04.004123Z",
     "shell.execute_reply": "2023-01-28T15:57:04.003471Z",
     "shell.execute_reply.started": "2023-01-28T15:57:03.940543Z"
    },
    "tags": []
   },
   "outputs": [
    {
     "data": {
      "application/vnd.jupyter.widget-view+json": {
       "model_id": "571297244b454f84a06697756dfd97fc",
       "version_major": 2,
       "version_minor": 0
      },
      "text/plain": [
       "VBox()"
      ]
     },
     "metadata": {},
     "output_type": "display_data"
    },
    {
     "data": {
      "application/vnd.jupyter.widget-view+json": {
       "model_id": "",
       "version_major": 2,
       "version_minor": 0
      },
      "text/plain": [
       "FloatProgress(value=0.0, bar_style='info', description='Progress:', layout=Layout(height='25px', width='50%'),…"
      ]
     },
     "metadata": {},
     "output_type": "display_data"
    }
   ],
   "source": [
    "# dataframes['Comments'].printSchema() typy sa ok"
   ]
  },
  {
   "cell_type": "code",
   "execution_count": 12,
   "id": "cf3a206a-281b-4ed0-af8c-29a26670fdce",
   "metadata": {
    "execution": {
     "iopub.execute_input": "2023-01-28T15:57:04.005506Z",
     "iopub.status.busy": "2023-01-28T15:57:04.005282Z",
     "iopub.status.idle": "2023-01-28T15:57:15.351473Z",
     "shell.execute_reply": "2023-01-28T15:57:15.350595Z",
     "shell.execute_reply.started": "2023-01-28T15:57:04.005484Z"
    },
    "tags": []
   },
   "outputs": [
    {
     "data": {
      "application/vnd.jupyter.widget-view+json": {
       "model_id": "280f959c44c44a3e9df38bb7df1937da",
       "version_major": 2,
       "version_minor": 0
      },
      "text/plain": [
       "VBox()"
      ]
     },
     "metadata": {},
     "output_type": "display_data"
    },
    {
     "data": {
      "application/vnd.jupyter.widget-view+json": {
       "model_id": "",
       "version_major": 2,
       "version_minor": 0
      },
      "text/plain": [
       "FloatProgress(value=0.0, bar_style='info', description='Progress:', layout=Layout(height='25px', width='50%'),…"
      ]
     },
     "metadata": {},
     "output_type": "display_data"
    },
    {
     "name": "stdout",
     "output_type": "stream",
     "text": [
      "70647\n",
      "70647"
     ]
    }
   ],
   "source": [
    "print(dataframes['Comments'].count())\n",
    "print(dataframes['Comments'].subtract(dataframes['Comments'].dropna()).count())"
   ]
  },
  {
   "cell_type": "code",
   "execution_count": 13,
   "id": "1c450258-d1af-4ef7-ac2f-2778daaf312c",
   "metadata": {
    "execution": {
     "iopub.execute_input": "2023-01-28T15:57:15.352940Z",
     "iopub.status.busy": "2023-01-28T15:57:15.352695Z",
     "iopub.status.idle": "2023-01-28T15:57:20.659893Z",
     "shell.execute_reply": "2023-01-28T15:57:20.659000Z",
     "shell.execute_reply.started": "2023-01-28T15:57:15.352917Z"
    },
    "tags": []
   },
   "outputs": [
    {
     "data": {
      "application/vnd.jupyter.widget-view+json": {
       "model_id": "0d09cf8157954fb6a04bfa4af082d2b4",
       "version_major": 2,
       "version_minor": 0
      },
      "text/plain": [
       "VBox()"
      ]
     },
     "metadata": {},
     "output_type": "display_data"
    },
    {
     "data": {
      "application/vnd.jupyter.widget-view+json": {
       "model_id": "",
       "version_major": 2,
       "version_minor": 0
      },
      "text/plain": [
       "FloatProgress(value=0.0, bar_style='info', description='Progress:', layout=Layout(height='25px', width='50%'),…"
      ]
     },
     "metadata": {},
     "output_type": "display_data"
    },
    {
     "name": "stdout",
     "output_type": "stream",
     "text": [
      "+---------------------+----------+-------+-------------+--------------------+-----------------+-------+\n",
      "|comment_creation_date|comment_id|post_id|comment_score|     comment_content|user_display_name|user_id|\n",
      "+---------------------+----------+-------+-------------+--------------------+-----------------+-------+\n",
      "| 2013-11-08 12:11:...|      1024|    894|            1|Sorry for a littl...|             null|    115|\n",
      "| 2013-11-17 01:01:...|      1114|    938|            0|@barrycarter *\"Th...|             null|    276|\n",
      "| 2013-12-30 17:51:...|      1826|   1274|            0|Mars is also -128...|             null|    538|\n",
      "| 2014-04-07 11:32:...|      3446|   2115|            2|from what is writ...|             null|    992|\n",
      "| 2014-07-11 07:27:...|      5901|   2489|            0|Which is why I ha...|             null|    864|\n",
      "| 2014-08-11 15:25:...|      6284|   6083|            0|Really good answe...|             null|   2153|\n",
      "| 2014-11-08 16:28:...|      7965|   7905|            2|Where did you get...|           user21|   null|\n",
      "| 2014-11-19 11:34:...|      8168|   5896|            0|That would still ...|             null|    823|\n",
      "| 2014-12-11 09:53:...|      9602|   8194|            0|That is a pretty ...|             null|   3001|\n",
      "| 2015-06-20 18:50:...|     14857|  11048|            0|Was this model [E...|             null|   2153|\n",
      "| 2015-06-21 13:12:...|     14886|  11060|            0|Classic APOD: CMB...|             null|   2031|\n",
      "| 2015-06-21 16:40:...|     14891|  11054|            0|Off the top of my...|           user21|   null|\n",
      "| 2015-06-26 19:42:...|     15010|  11099|            3|What do you mean ...|             null|      6|\n",
      "| 2015-08-06 14:23:...|     15717|  11463|            0|As your second li...|           user21|   null|\n",
      "| 2015-11-05 17:37:...|     17511|  12407|            0|@Mr.Cruz your quo...|             null|   9186|\n",
      "| 2015-12-14 14:33:...|     18428|  12848|            1|@VojtaKlimes Temp...|             null|   2531|\n",
      "| 2016-01-20 12:56:...|     19313|  13259|            0|I can't give you ...|             null|    746|\n",
      "| 2016-03-20 05:54:...|     21473|  14217|            0|While in terms of...|             null|   1577|\n",
      "| 2016-03-29 16:12:...|     21712|  14347|            0|Supernovae are th...|             null|   7491|\n",
      "| 2016-05-10 19:07:...|     22739|  14824|            0|@Tanenthor It mig...|             null|   2531|\n",
      "+---------------------+----------+-------+-------------+--------------------+-----------------+-------+\n",
      "only showing top 20 rows"
     ]
    }
   ],
   "source": [
    "dataframes['Comments'].show(20)"
   ]
  },
  {
   "cell_type": "code",
   "execution_count": 14,
   "id": "26db31ac-a23d-428e-941f-f566b52d9909",
   "metadata": {
    "execution": {
     "iopub.execute_input": "2023-01-28T15:57:20.661304Z",
     "iopub.status.busy": "2023-01-28T15:57:20.661071Z",
     "iopub.status.idle": "2023-01-28T15:57:20.713841Z",
     "shell.execute_reply": "2023-01-28T15:57:20.712851Z",
     "shell.execute_reply.started": "2023-01-28T15:57:20.661280Z"
    },
    "tags": []
   },
   "outputs": [
    {
     "data": {
      "application/vnd.jupyter.widget-view+json": {
       "model_id": "d6a626bd71394bb8aebdfaed16044766",
       "version_major": 2,
       "version_minor": 0
      },
      "text/plain": [
       "VBox()"
      ]
     },
     "metadata": {},
     "output_type": "display_data"
    },
    {
     "data": {
      "application/vnd.jupyter.widget-view+json": {
       "model_id": "",
       "version_major": 2,
       "version_minor": 0
      },
      "text/plain": [
       "FloatProgress(value=0.0, bar_style='info', description='Progress:', layout=Layout(height='25px', width='50%'),…"
      ]
     },
     "metadata": {},
     "output_type": "display_data"
    }
   ],
   "source": [
    "## wszystkie user_name gdzie user_id jest nullem\n",
    "# user_display_names_for_null_id = dataframes['Comments'].filter(dataframes['Comments'].user_id.isNull()).select(f.col('user_display_name')).distinct().withColumnRenamed('user_display_name', 'user_name')\n",
    "# user_display_names_for_null_id.show(3)"
   ]
  },
  {
   "cell_type": "code",
   "execution_count": 15,
   "id": "3bf473c3-8e0e-49c7-b212-1a6e5e2a06a9",
   "metadata": {
    "execution": {
     "iopub.execute_input": "2023-01-28T15:57:20.715167Z",
     "iopub.status.busy": "2023-01-28T15:57:20.714935Z",
     "iopub.status.idle": "2023-01-28T15:57:20.776928Z",
     "shell.execute_reply": "2023-01-28T15:57:20.776181Z",
     "shell.execute_reply.started": "2023-01-28T15:57:20.715144Z"
    },
    "tags": []
   },
   "outputs": [
    {
     "data": {
      "application/vnd.jupyter.widget-view+json": {
       "model_id": "1ac2bf90bf504470bcb72ea24461f606",
       "version_major": 2,
       "version_minor": 0
      },
      "text/plain": [
       "VBox()"
      ]
     },
     "metadata": {},
     "output_type": "display_data"
    },
    {
     "data": {
      "application/vnd.jupyter.widget-view+json": {
       "model_id": "",
       "version_major": 2,
       "version_minor": 0
      },
      "text/plain": [
       "FloatProgress(value=0.0, bar_style='info', description='Progress:', layout=Layout(height='25px', width='50%'),…"
      ]
     },
     "metadata": {},
     "output_type": "display_data"
    }
   ],
   "source": [
    "# teraz mam wszystkie user_display_name gdzie brakuje user_id i pasujące user_id\n",
    "# user_display_name_and_id = user_display_names_for_null_id.join(dataframes['Users'], user_display_names_for_null_id.user_name == dataframes['Users'].user_display_name, 'left') \\\n",
    "#                                 .select('user_name', 'user_id') \\\n",
    "#                                 .withColumnRenamed('user_id', 'missing_user_id') \\\n",
    "#                                 .withColumnRenamed('user_name', 'missing_id_user_name')"
   ]
  },
  {
   "cell_type": "code",
   "execution_count": 16,
   "id": "c86854d4-512a-43e4-9a72-ba38d68940c9",
   "metadata": {
    "execution": {
     "iopub.execute_input": "2023-01-28T15:57:20.778517Z",
     "iopub.status.busy": "2023-01-28T15:57:20.778194Z",
     "iopub.status.idle": "2023-01-28T15:57:20.829403Z",
     "shell.execute_reply": "2023-01-28T15:57:20.828731Z",
     "shell.execute_reply.started": "2023-01-28T15:57:20.778481Z"
    },
    "tags": []
   },
   "outputs": [
    {
     "data": {
      "application/vnd.jupyter.widget-view+json": {
       "model_id": "30d0a84cc3104f7b95952aeb683e8f01",
       "version_major": 2,
       "version_minor": 0
      },
      "text/plain": [
       "VBox()"
      ]
     },
     "metadata": {},
     "output_type": "display_data"
    },
    {
     "data": {
      "application/vnd.jupyter.widget-view+json": {
       "model_id": "",
       "version_major": 2,
       "version_minor": 0
      },
      "text/plain": [
       "FloatProgress(value=0.0, bar_style='info', description='Progress:', layout=Layout(height='25px', width='50%'),…"
      ]
     },
     "metadata": {},
     "output_type": "display_data"
    }
   ],
   "source": [
    "# dataframes_comments = dataframes['Comments'].join(user_display_name_and_id, user_display_name_and_id.missing_id_user_name == dataframes['Comments'].user_display_name, 'left') \\\n",
    "#                         .withColumn('user_id', f.coalesce(dataframes['Comments'].user_id, user_display_name_and_id.missing_user_id)) \\\n",
    "#                         .drop('user_display_name', 'missing_id_user_name', 'missing_user_id') \\\n",
    "#                         .dropDuplicates()\n",
    "# dataframes_comments.show()"
   ]
  },
  {
   "cell_type": "code",
   "execution_count": 17,
   "id": "6f134eb3-7b5c-4666-8af2-3d39e7e00f17",
   "metadata": {
    "execution": {
     "iopub.execute_input": "2023-01-28T15:57:20.830557Z",
     "iopub.status.busy": "2023-01-28T15:57:20.830328Z",
     "iopub.status.idle": "2023-01-28T15:57:30.122025Z",
     "shell.execute_reply": "2023-01-28T15:57:30.121163Z",
     "shell.execute_reply.started": "2023-01-28T15:57:20.830536Z"
    },
    "tags": []
   },
   "outputs": [
    {
     "data": {
      "application/vnd.jupyter.widget-view+json": {
       "model_id": "d33d0324c997473a9bf47424fbe65299",
       "version_major": 2,
       "version_minor": 0
      },
      "text/plain": [
       "VBox()"
      ]
     },
     "metadata": {},
     "output_type": "display_data"
    },
    {
     "data": {
      "application/vnd.jupyter.widget-view+json": {
       "model_id": "",
       "version_major": 2,
       "version_minor": 0
      },
      "text/plain": [
       "FloatProgress(value=0.0, bar_style='info', description='Progress:', layout=Layout(height='25px', width='50%'),…"
      ]
     },
     "metadata": {},
     "output_type": "display_data"
    },
    {
     "name": "stdout",
     "output_type": "stream",
     "text": [
      "3.414157713703342"
     ]
    }
   ],
   "source": [
    "all_comment_count = dataframes['Comments'].count()\n",
    "comment_where_user_is_null = dataframes['Comments'].where(f.col('user_id').isNull()).count()\n",
    "\n",
    "print(comment_where_user_is_null / all_comment_count * 100)"
   ]
  },
  {
   "cell_type": "code",
   "execution_count": 18,
   "id": "134fac61-f3dd-4a15-8069-f9217d83ec69",
   "metadata": {
    "execution": {
     "iopub.execute_input": "2023-01-28T15:57:30.123369Z",
     "iopub.status.busy": "2023-01-28T15:57:30.123125Z",
     "iopub.status.idle": "2023-01-28T15:57:30.379301Z",
     "shell.execute_reply": "2023-01-28T15:57:30.378616Z",
     "shell.execute_reply.started": "2023-01-28T15:57:30.123343Z"
    },
    "tags": []
   },
   "outputs": [
    {
     "data": {
      "application/vnd.jupyter.widget-view+json": {
       "model_id": "6e25584f09704da19c2e0b590df61df6",
       "version_major": 2,
       "version_minor": 0
      },
      "text/plain": [
       "VBox()"
      ]
     },
     "metadata": {},
     "output_type": "display_data"
    },
    {
     "data": {
      "application/vnd.jupyter.widget-view+json": {
       "model_id": "",
       "version_major": 2,
       "version_minor": 0
      },
      "text/plain": [
       "FloatProgress(value=0.0, bar_style='info', description='Progress:', layout=Layout(height='25px', width='50%'),…"
      ]
     },
     "metadata": {},
     "output_type": "display_data"
    }
   ],
   "source": [
    "dataframes['Comments'] = dataframes['Comments'] \\\n",
    "                            .drop('user_display_name') \\\n",
    "                            .dropna(subset='user_id')"
   ]
  },
  {
   "cell_type": "code",
   "execution_count": 19,
   "id": "6c008982-e0b8-4611-a5ce-8e2f4b56b3fb",
   "metadata": {
    "execution": {
     "iopub.execute_input": "2023-01-28T15:57:30.380547Z",
     "iopub.status.busy": "2023-01-28T15:57:30.380330Z",
     "iopub.status.idle": "2023-01-28T15:57:39.679024Z",
     "shell.execute_reply": "2023-01-28T15:57:39.678260Z",
     "shell.execute_reply.started": "2023-01-28T15:57:30.380525Z"
    },
    "tags": []
   },
   "outputs": [
    {
     "data": {
      "application/vnd.jupyter.widget-view+json": {
       "model_id": "c4628c01566748f3a06cd295578f306d",
       "version_major": 2,
       "version_minor": 0
      },
      "text/plain": [
       "VBox()"
      ]
     },
     "metadata": {},
     "output_type": "display_data"
    },
    {
     "data": {
      "application/vnd.jupyter.widget-view+json": {
       "model_id": "",
       "version_major": 2,
       "version_minor": 0
      },
      "text/plain": [
       "FloatProgress(value=0.0, bar_style='info', description='Progress:', layout=Layout(height='25px', width='50%'),…"
      ]
     },
     "metadata": {},
     "output_type": "display_data"
    },
    {
     "name": "stdout",
     "output_type": "stream",
     "text": [
      "0.0"
     ]
    }
   ],
   "source": [
    "all_comment_count = dataframes['Comments'].count()\n",
    "comment_where_user_is_null = dataframes['Comments'].where(f.col('user_id').isNull()).count()\n",
    "\n",
    "print(comment_where_user_is_null / all_comment_count * 100)"
   ]
  },
  {
   "cell_type": "markdown",
   "id": "f6df0709-136d-4a6c-ae28-58e5840b4479",
   "metadata": {},
   "source": [
    "### 3. PostHistory"
   ]
  },
  {
   "cell_type": "code",
   "execution_count": 20,
   "id": "eb7206d3-3633-41e6-9eb2-4a4850938f46",
   "metadata": {
    "execution": {
     "iopub.execute_input": "2023-01-28T15:57:39.680286Z",
     "iopub.status.busy": "2023-01-28T15:57:39.680044Z",
     "iopub.status.idle": "2023-01-28T15:57:39.947396Z",
     "shell.execute_reply": "2023-01-28T15:57:39.946580Z",
     "shell.execute_reply.started": "2023-01-28T15:57:39.680262Z"
    },
    "tags": []
   },
   "outputs": [
    {
     "data": {
      "application/vnd.jupyter.widget-view+json": {
       "model_id": "9bdba01d1e384b96933f1ee2a5073a70",
       "version_major": 2,
       "version_minor": 0
      },
      "text/plain": [
       "VBox()"
      ]
     },
     "metadata": {},
     "output_type": "display_data"
    },
    {
     "data": {
      "application/vnd.jupyter.widget-view+json": {
       "model_id": "",
       "version_major": 2,
       "version_minor": 0
      },
      "text/plain": [
       "FloatProgress(value=0.0, bar_style='info', description='Progress:', layout=Layout(height='25px', width='50%'),…"
      ]
     },
     "metadata": {},
     "output_type": "display_data"
    }
   ],
   "source": [
    "dataframes['PostHistory'] = dataframes['PostHistory'] \\\n",
    "                        .drop('_UserDisplayName', '_ContentLicense') \\\n",
    "                        .withColumnRenamed('_Comment', 'comment_content') \\\n",
    "                        .withColumnRenamed('_CreationDate', 'post_history_creation_date') \\\n",
    "                        .withColumnRenamed('_Id', 'post_history_id') \\\n",
    "                        .withColumnRenamed('_PostHistoryTypeId', 'post_history_type_id') \\\n",
    "                        .withColumnRenamed('_PostId', 'related_post_id') \\\n",
    "                        .withColumnRenamed('_RevisionGUID', 'revision_guid') \\\n",
    "                        .withColumnRenamed('_Text', 'post_history_text') \\\n",
    "                        .withColumnRenamed('_UserId', 'post_history_user_id') \\\n",
    "                        .dropDuplicates()"
   ]
  },
  {
   "cell_type": "code",
   "execution_count": 21,
   "id": "1d9182be-cd56-4f44-8157-53cff0ab725e",
   "metadata": {
    "execution": {
     "iopub.execute_input": "2023-01-28T15:57:39.949101Z",
     "iopub.status.busy": "2023-01-28T15:57:39.948769Z",
     "iopub.status.idle": "2023-01-28T15:57:40.199874Z",
     "shell.execute_reply": "2023-01-28T15:57:40.198972Z",
     "shell.execute_reply.started": "2023-01-28T15:57:39.949064Z"
    },
    "tags": []
   },
   "outputs": [
    {
     "data": {
      "application/vnd.jupyter.widget-view+json": {
       "model_id": "5bb06eb9eb6443ecaae6657dee3f4fd6",
       "version_major": 2,
       "version_minor": 0
      },
      "text/plain": [
       "VBox()"
      ]
     },
     "metadata": {},
     "output_type": "display_data"
    },
    {
     "data": {
      "application/vnd.jupyter.widget-view+json": {
       "model_id": "",
       "version_major": 2,
       "version_minor": 0
      },
      "text/plain": [
       "FloatProgress(value=0.0, bar_style='info', description='Progress:', layout=Layout(height='25px', width='50%'),…"
      ]
     },
     "metadata": {},
     "output_type": "display_data"
    }
   ],
   "source": [
    "# dataframes['PostHistory'].printSchema() typu danych sa ok"
   ]
  },
  {
   "cell_type": "code",
   "execution_count": 22,
   "id": "16cebf31-af37-47c9-990b-139ef4dff86a",
   "metadata": {
    "execution": {
     "iopub.execute_input": "2023-01-28T15:57:40.201153Z",
     "iopub.status.busy": "2023-01-28T15:57:40.200936Z",
     "iopub.status.idle": "2023-01-28T15:57:53.521028Z",
     "shell.execute_reply": "2023-01-28T15:57:53.520073Z",
     "shell.execute_reply.started": "2023-01-28T15:57:40.201130Z"
    },
    "tags": []
   },
   "outputs": [
    {
     "data": {
      "application/vnd.jupyter.widget-view+json": {
       "model_id": "1eab384bc92042bab473e4ce64efbc5f",
       "version_major": 2,
       "version_minor": 0
      },
      "text/plain": [
       "VBox()"
      ]
     },
     "metadata": {},
     "output_type": "display_data"
    },
    {
     "data": {
      "application/vnd.jupyter.widget-view+json": {
       "model_id": "",
       "version_major": 2,
       "version_minor": 0
      },
      "text/plain": [
       "FloatProgress(value=0.0, bar_style='info', description='Progress:', layout=Layout(height='25px', width='50%'),…"
      ]
     },
     "metadata": {},
     "output_type": "display_data"
    },
    {
     "name": "stdout",
     "output_type": "stream",
     "text": [
      "106074\n",
      "73837"
     ]
    }
   ],
   "source": [
    "print(dataframes['PostHistory'].count())\n",
    "print(dataframes['PostHistory'].subtract(dataframes['PostHistory'].dropna()).count())"
   ]
  },
  {
   "cell_type": "code",
   "execution_count": 23,
   "id": "885ec37f-10f4-4d08-8f5b-238265d54ac6",
   "metadata": {
    "execution": {
     "iopub.execute_input": "2023-01-28T15:57:53.525040Z",
     "iopub.status.busy": "2023-01-28T15:57:53.524805Z",
     "iopub.status.idle": "2023-01-28T15:58:00.821199Z",
     "shell.execute_reply": "2023-01-28T15:58:00.820324Z",
     "shell.execute_reply.started": "2023-01-28T15:57:53.525015Z"
    },
    "tags": []
   },
   "outputs": [
    {
     "data": {
      "application/vnd.jupyter.widget-view+json": {
       "model_id": "591d67ed24744298a373746de4ce0fc6",
       "version_major": 2,
       "version_minor": 0
      },
      "text/plain": [
       "VBox()"
      ]
     },
     "metadata": {},
     "output_type": "display_data"
    },
    {
     "data": {
      "application/vnd.jupyter.widget-view+json": {
       "model_id": "",
       "version_major": 2,
       "version_minor": 0
      },
      "text/plain": [
       "FloatProgress(value=0.0, bar_style='info', description='Progress:', layout=Layout(height='25px', width='50%'),…"
      ]
     },
     "metadata": {},
     "output_type": "display_data"
    },
    {
     "name": "stdout",
     "output_type": "stream",
     "text": [
      "+--------------------+--------------------------+---------------+--------------------+---------------+--------------------+--------------------+--------------------+\n",
      "|     comment_content|post_history_creation_date|post_history_id|post_history_type_id|related_post_id|       revision_guid|   post_history_text|post_history_user_id|\n",
      "+--------------------+--------------------------+---------------+--------------------+---------------+--------------------+--------------------+--------------------+\n",
      "|added 4 character...|      2013-09-25 12:56:...|            325|                   5|            122|7363fe22-a136-4f6...|I want to know th...|                  99|\n",
      "|Proposed by 19 ap...|      2013-09-27 14:14:...|            859|                  24|            290|727eb623-33b1-4d5...|                null|                null|\n",
      "|                null|      2013-10-03 08:36:...|           1343|                   2|            482|64f25b33-7497-4d1...|What you describe...|                  13|\n",
      "|Add link and pict...|      2013-11-14 16:31:...|           2966|                   5|            916|5566a3e1-cb9b-427...|What are newly di...|                  50|\n",
      "|some more profess...|      2014-01-11 18:09:...|           4601|                   6|           1375|93662c18-944a-498...|<light><general-r...|                  92|\n",
      "|http://twitter.co...|      2014-02-18 01:40:...|           5772|                  25|           1767|6ea08235-388e-4fc...|                null|                null|\n",
      "|          tag adding|      2014-06-21 01:26:...|          11779|                   6|           3714|7a8b1fda-4330-42f...| <planet><telescope>|                  -1|\n",
      "|                null|      2014-07-06 07:43:...|          12127|                   2|           4830|db9b4a20-e93d-4fb...|Could a spectrome...|                1030|\n",
      "|Proposed by 1862 ...|      2014-07-23 02:16:...|          14521|                  24|           5955|e8bceb13-cf11-413...|                null|                null|\n",
      "|                null|      2014-10-01 14:33:...|          16190|                   3|           6499|d96fe36d-b383-477...|       <dark-matter>|                2515|\n",
      "|                null|      2014-12-05 17:27:...|          19162|                   1|           8150|d78038bf-9f4c-41b...|Distance between ...|                2801|\n",
      "|                null|      2014-12-08 13:17:...|          19246|                   2|           8179|f440539e-8458-45a...|Pluto itself so b...|                 209|\n",
      "|                null|      2015-03-22 09:45:...|          24382|                   1|          10229|31fb1d19-3978-483...|Lack of planets i...|                4126|\n",
      "|                null|      2015-04-28 12:55:...|          25519|                   3|          10604|7adf6113-d29a-417...|           <the-sun>|                 271|\n",
      "|                null|      2015-06-20 20:26:...|          26875|                   2|          11053|c8e85b70-a3c0-422...|Is Metallicity lo...|                7509|\n",
      "|                null|      2015-08-21 15:11:...|          28567|                   3|          11609|9a7543c7-2d90-477...|<orbit><astrophys...|                8001|\n",
      "|                null|      2015-09-30 09:41:...|          29660|                   2|          11974|48cd8686-2251-43f...|For example:\\r\\n\\...|                8049|\n",
      "|              titles|      2015-10-09 07:36:...|          29982|                   5|          12052|b419c617-df8a-44f...|This is a follow-...|                9153|\n",
      "|edited body; edit...|      2015-11-05 16:30:...|          31197|                   5|          12407|eea6ad66-441a-4c9...|I cant find how f...|                9326|\n",
      "|Commented on the ...|      2015-11-30 09:03:...|          32177|                   5|          12679|2bcc8290-d4b1-4a4...|You are right tha...|                5264|\n",
      "+--------------------+--------------------------+---------------+--------------------+---------------+--------------------+--------------------+--------------------+\n",
      "only showing top 20 rows"
     ]
    }
   ],
   "source": [
    "dataframes['PostHistory'].show(20)"
   ]
  },
  {
   "cell_type": "code",
   "execution_count": 24,
   "id": "cdb0b040-4559-44be-899d-b30127808cea",
   "metadata": {
    "execution": {
     "iopub.execute_input": "2023-01-28T15:58:00.822948Z",
     "iopub.status.busy": "2023-01-28T15:58:00.822710Z",
     "iopub.status.idle": "2023-01-28T15:58:12.151324Z",
     "shell.execute_reply": "2023-01-28T15:58:12.150430Z",
     "shell.execute_reply.started": "2023-01-28T15:58:00.822923Z"
    },
    "tags": []
   },
   "outputs": [
    {
     "data": {
      "application/vnd.jupyter.widget-view+json": {
       "model_id": "4e3f909f0c924529889eddb2ddca655b",
       "version_major": 2,
       "version_minor": 0
      },
      "text/plain": [
       "VBox()"
      ]
     },
     "metadata": {},
     "output_type": "display_data"
    },
    {
     "data": {
      "application/vnd.jupyter.widget-view+json": {
       "model_id": "",
       "version_major": 2,
       "version_minor": 0
      },
      "text/plain": [
       "FloatProgress(value=0.0, bar_style='info', description='Progress:', layout=Layout(height='25px', width='50%'),…"
      ]
     },
     "metadata": {},
     "output_type": "display_data"
    },
    {
     "name": "stdout",
     "output_type": "stream",
     "text": [
      "12.68077002847069"
     ]
    }
   ],
   "source": [
    "all_post_history_row_count = dataframes['PostHistory'].count()\n",
    "post_history_rows_where_user_is_null = dataframes['PostHistory'].where(f.col('post_history_user_id').isNull()).count()\n",
    "\n",
    "print(post_history_rows_where_user_is_null / all_post_history_row_count * 100)"
   ]
  },
  {
   "cell_type": "markdown",
   "id": "3da24a5e-2f0c-4917-8619-5ef64bf592ff",
   "metadata": {},
   "source": [
    "### 4. PostLinks"
   ]
  },
  {
   "cell_type": "code",
   "execution_count": 25,
   "id": "7ef6743f-6901-4f1a-8647-3ef04468e601",
   "metadata": {
    "execution": {
     "iopub.execute_input": "2023-01-28T15:58:12.153066Z",
     "iopub.status.busy": "2023-01-28T15:58:12.152726Z",
     "iopub.status.idle": "2023-01-28T15:58:12.409588Z",
     "shell.execute_reply": "2023-01-28T15:58:12.408858Z",
     "shell.execute_reply.started": "2023-01-28T15:58:12.153028Z"
    },
    "tags": []
   },
   "outputs": [
    {
     "data": {
      "application/vnd.jupyter.widget-view+json": {
       "model_id": "1eece0e8a78d4ded89d1e6db00ffb2d0",
       "version_major": 2,
       "version_minor": 0
      },
      "text/plain": [
       "VBox()"
      ]
     },
     "metadata": {},
     "output_type": "display_data"
    },
    {
     "data": {
      "application/vnd.jupyter.widget-view+json": {
       "model_id": "",
       "version_major": 2,
       "version_minor": 0
      },
      "text/plain": [
       "FloatProgress(value=0.0, bar_style='info', description='Progress:', layout=Layout(height='25px', width='50%'),…"
      ]
     },
     "metadata": {},
     "output_type": "display_data"
    }
   ],
   "source": [
    "dataframes['PostLinks'] = dataframes['PostLinks'] \\\n",
    "                        .withColumnRenamed('_CreationDate', 'post_creation_date') \\\n",
    "                        .withColumnRenamed('_Id', 'post_links_id') \\\n",
    "                        .withColumnRenamed('_LinkTypeId', 'link_type_id') \\\n",
    "                        .withColumnRenamed('_PostId', 'post_id') \\\n",
    "                        .withColumnRenamed('_RelatedPostId', 'related_post_id') \\\n",
    "                        .dropDuplicates()"
   ]
  },
  {
   "cell_type": "code",
   "execution_count": 26,
   "id": "d7de5835-7a29-4bf7-9522-dbd20f9400ee",
   "metadata": {
    "execution": {
     "iopub.execute_input": "2023-01-28T15:58:12.411064Z",
     "iopub.status.busy": "2023-01-28T15:58:12.410744Z",
     "iopub.status.idle": "2023-01-28T15:58:12.468242Z",
     "shell.execute_reply": "2023-01-28T15:58:12.467588Z",
     "shell.execute_reply.started": "2023-01-28T15:58:12.411029Z"
    },
    "tags": []
   },
   "outputs": [
    {
     "data": {
      "application/vnd.jupyter.widget-view+json": {
       "model_id": "c87e8191701a431082fab87de0f9a0e7",
       "version_major": 2,
       "version_minor": 0
      },
      "text/plain": [
       "VBox()"
      ]
     },
     "metadata": {},
     "output_type": "display_data"
    },
    {
     "data": {
      "application/vnd.jupyter.widget-view+json": {
       "model_id": "",
       "version_major": 2,
       "version_minor": 0
      },
      "text/plain": [
       "FloatProgress(value=0.0, bar_style='info', description='Progress:', layout=Layout(height='25px', width='50%'),…"
      ]
     },
     "metadata": {},
     "output_type": "display_data"
    }
   ],
   "source": [
    "# dataframes['PostLinks'].printSchema()"
   ]
  },
  {
   "cell_type": "code",
   "execution_count": 27,
   "id": "f114af07-45b5-4190-bf2d-1ae78c0b1372",
   "metadata": {
    "execution": {
     "iopub.execute_input": "2023-01-28T15:58:12.469456Z",
     "iopub.status.busy": "2023-01-28T15:58:12.469225Z",
     "iopub.status.idle": "2023-01-28T15:58:14.772163Z",
     "shell.execute_reply": "2023-01-28T15:58:14.761925Z",
     "shell.execute_reply.started": "2023-01-28T15:58:12.469419Z"
    },
    "tags": []
   },
   "outputs": [
    {
     "data": {
      "application/vnd.jupyter.widget-view+json": {
       "model_id": "a6c3b0ea86cd4439a1689fbe31a1fa81",
       "version_major": 2,
       "version_minor": 0
      },
      "text/plain": [
       "VBox()"
      ]
     },
     "metadata": {},
     "output_type": "display_data"
    },
    {
     "data": {
      "application/vnd.jupyter.widget-view+json": {
       "model_id": "",
       "version_major": 2,
       "version_minor": 0
      },
      "text/plain": [
       "FloatProgress(value=0.0, bar_style='info', description='Progress:', layout=Layout(height='25px', width='50%'),…"
      ]
     },
     "metadata": {},
     "output_type": "display_data"
    },
    {
     "name": "stdout",
     "output_type": "stream",
     "text": [
      "6523\n",
      "0"
     ]
    }
   ],
   "source": [
    "print(dataframes['PostLinks'].count())\n",
    "print(dataframes['PostLinks'].subtract(dataframes['PostLinks'].dropna()).count())"
   ]
  },
  {
   "cell_type": "code",
   "execution_count": 28,
   "id": "4e214fb7-865f-4ebd-adc3-9cfa790b6fbc",
   "metadata": {
    "execution": {
     "iopub.execute_input": "2023-01-28T15:58:14.773812Z",
     "iopub.status.busy": "2023-01-28T15:58:14.773448Z",
     "iopub.status.idle": "2023-01-28T15:58:15.856120Z",
     "shell.execute_reply": "2023-01-28T15:58:15.821509Z",
     "shell.execute_reply.started": "2023-01-28T15:58:14.773773Z"
    },
    "tags": []
   },
   "outputs": [
    {
     "data": {
      "application/vnd.jupyter.widget-view+json": {
       "model_id": "17dae1bed0ed4b1ba82c5cbea8881adf",
       "version_major": 2,
       "version_minor": 0
      },
      "text/plain": [
       "VBox()"
      ]
     },
     "metadata": {},
     "output_type": "display_data"
    },
    {
     "data": {
      "application/vnd.jupyter.widget-view+json": {
       "model_id": "",
       "version_major": 2,
       "version_minor": 0
      },
      "text/plain": [
       "FloatProgress(value=0.0, bar_style='info', description='Progress:', layout=Layout(height='25px', width='50%'),…"
      ]
     },
     "metadata": {},
     "output_type": "display_data"
    },
    {
     "name": "stdout",
     "output_type": "stream",
     "text": [
      "+--------------------+-------------+------------+-------+---------------+\n",
      "|  post_creation_date|post_links_id|link_type_id|post_id|related_post_id|\n",
      "+--------------------+-------------+------------+-------+---------------+\n",
      "|2013-10-29 09:07:...|         1690|           1|    815|             24|\n",
      "|2015-10-08 14:01:...|        65312|           1|  12052|          11753|\n",
      "|2016-10-05 20:14:...|       113358|           1|  18592|           1801|\n",
      "|2017-08-18 04:00:...|       159741|           3|  22139|           8117|\n",
      "|2017-10-30 13:20:...|       184914|           3|  23355|          15026|\n",
      "|2019-04-12 08:38:...|       315502|           3|  30391|          30313|\n",
      "|2020-06-28 18:12:...|       401643|           1|  36719|          21284|\n",
      "|2021-08-04 02:45:...|       504636|           1|  45138|          44851|\n",
      "|2019-03-25 00:40:...|       311180|           1|  30096|          30110|\n",
      "|2019-12-04 06:58:...|       367704|           1|  34155|          28314|\n",
      "|2020-01-07 01:01:...|       371580|           1|  34608|          14492|\n",
      "|2020-11-02 14:19:...|       432706|           1|  39640|          20000|\n",
      "|2014-06-20 20:31:...|        16486|           1|   2441|           1007|\n",
      "|2016-08-30 04:57:...|       108560|           1|  18126|            539|\n",
      "|2018-11-13 15:57:...|       285211|           1|  28368|           7938|\n",
      "|2019-04-14 16:31:...|       316121|           1|  30449|          10384|\n",
      "|2020-12-30 14:22:...|       439673|           1|  40639|          28159|\n",
      "|2022-11-26 01:37:...|       574594|           1|  51136|          49873|\n",
      "|2015-08-11 07:18:...|        58630|           1|  11518|          10756|\n",
      "|2018-02-27 00:05:...|       215361|           1|  25301|          18535|\n",
      "+--------------------+-------------+------------+-------+---------------+\n",
      "only showing top 20 rows"
     ]
    }
   ],
   "source": [
    "dataframes['PostLinks'].show(20)"
   ]
  },
  {
   "cell_type": "markdown",
   "id": "19641306-013c-4d53-a7e8-5eb73e956191",
   "metadata": {},
   "source": [
    "### 5. Tags"
   ]
  },
  {
   "cell_type": "code",
   "execution_count": 29,
   "id": "1b5ff25a-61de-4c0f-bbcc-c5ce8825a2f0",
   "metadata": {
    "execution": {
     "iopub.execute_input": "2023-01-28T15:58:15.857765Z",
     "iopub.status.busy": "2023-01-28T15:58:15.857377Z",
     "iopub.status.idle": "2023-01-28T15:58:15.917867Z",
     "shell.execute_reply": "2023-01-28T15:58:15.917172Z",
     "shell.execute_reply.started": "2023-01-28T15:58:15.857682Z"
    },
    "tags": []
   },
   "outputs": [
    {
     "data": {
      "application/vnd.jupyter.widget-view+json": {
       "model_id": "b1ff00d98e4642648b93c1f22d118d7b",
       "version_major": 2,
       "version_minor": 0
      },
      "text/plain": [
       "VBox()"
      ]
     },
     "metadata": {},
     "output_type": "display_data"
    },
    {
     "data": {
      "application/vnd.jupyter.widget-view+json": {
       "model_id": "",
       "version_major": 2,
       "version_minor": 0
      },
      "text/plain": [
       "FloatProgress(value=0.0, bar_style='info', description='Progress:', layout=Layout(height='25px', width='50%'),…"
      ]
     },
     "metadata": {},
     "output_type": "display_data"
    }
   ],
   "source": [
    "# Tags\n",
    "\n",
    "dataframes['Tags'] = dataframes['Tags'] \\\n",
    "                        .withColumnRenamed('_Count', 'tag_count') \\\n",
    "                        .withColumnRenamed('_ExcerptPostId', 'tag_excerpt_post_id') \\\n",
    "                        .withColumnRenamed('_Id', 'tag_id') \\\n",
    "                        .withColumnRenamed('_TagName', 'tag_name') \\\n",
    "                        .withColumnRenamed('_WikiPostId', 'tag_wiki_post_id') \\\n",
    "                        .dropDuplicates()\n",
    "\n",
    "# dataframes['Tags'].printSchema()"
   ]
  },
  {
   "cell_type": "code",
   "execution_count": 30,
   "id": "94e3c5aa-69e1-419e-96b1-c78b2cc3b61e",
   "metadata": {
    "execution": {
     "iopub.execute_input": "2023-01-28T15:58:15.919058Z",
     "iopub.status.busy": "2023-01-28T15:58:15.918819Z",
     "iopub.status.idle": "2023-01-28T15:58:16.683778Z",
     "shell.execute_reply": "2023-01-28T15:58:16.682931Z",
     "shell.execute_reply.started": "2023-01-28T15:58:15.919035Z"
    },
    "tags": []
   },
   "outputs": [
    {
     "data": {
      "application/vnd.jupyter.widget-view+json": {
       "model_id": "10283b48b610473ea1d755567c10789d",
       "version_major": 2,
       "version_minor": 0
      },
      "text/plain": [
       "VBox()"
      ]
     },
     "metadata": {},
     "output_type": "display_data"
    },
    {
     "data": {
      "application/vnd.jupyter.widget-view+json": {
       "model_id": "",
       "version_major": 2,
       "version_minor": 0
      },
      "text/plain": [
       "FloatProgress(value=0.0, bar_style='info', description='Progress:', layout=Layout(height='25px', width='50%'),…"
      ]
     },
     "metadata": {},
     "output_type": "display_data"
    },
    {
     "name": "stdout",
     "output_type": "stream",
     "text": [
      "570\n",
      "179"
     ]
    }
   ],
   "source": [
    "print(dataframes['Tags'].count())\n",
    "print(dataframes['Tags'].subtract(dataframes['Tags'].dropna()).count())"
   ]
  },
  {
   "cell_type": "code",
   "execution_count": 31,
   "id": "e8888e72-a2da-4c9f-9812-56e33da4e4cb",
   "metadata": {
    "execution": {
     "iopub.execute_input": "2023-01-28T15:58:16.685410Z",
     "iopub.status.busy": "2023-01-28T15:58:16.685086Z",
     "iopub.status.idle": "2023-01-28T15:58:17.478499Z",
     "shell.execute_reply": "2023-01-28T15:58:17.477601Z",
     "shell.execute_reply.started": "2023-01-28T15:58:16.685375Z"
    },
    "tags": []
   },
   "outputs": [
    {
     "data": {
      "application/vnd.jupyter.widget-view+json": {
       "model_id": "16fc022424f540ffb261fc28aa100b8a",
       "version_major": 2,
       "version_minor": 0
      },
      "text/plain": [
       "VBox()"
      ]
     },
     "metadata": {},
     "output_type": "display_data"
    },
    {
     "data": {
      "application/vnd.jupyter.widget-view+json": {
       "model_id": "",
       "version_major": 2,
       "version_minor": 0
      },
      "text/plain": [
       "FloatProgress(value=0.0, bar_style='info', description='Progress:', layout=Layout(height='25px', width='50%'),…"
      ]
     },
     "metadata": {},
     "output_type": "display_data"
    },
    {
     "name": "stdout",
     "output_type": "stream",
     "text": [
      "+---------+-------------------+------+--------------------+----------------+\n",
      "|tag_count|tag_excerpt_post_id|tag_id|            tag_name|tag_wiki_post_id|\n",
      "+---------+-------------------+------+--------------------+----------------+\n",
      "|       20|               null|   658|         occultation|            null|\n",
      "|       12|              11221|   360|  impact-probability|           11220|\n",
      "|       29|              41639|   234|cosmological-horizon|           41638|\n",
      "|        3|               null|  1042|    v838-monocerotis|            null|\n",
      "|        9|              41439|   603|           hipparcos|           41438|\n",
      "|        5|               null|  1105|              simbad|            null|\n",
      "|        9|               null|   378|                disk|            null|\n",
      "|       38|              41502|   441|              crater|           41501|\n",
      "|       29|              41678|    92|             azimuth|           41677|\n",
      "|        3|              41332|   825|             nemesis|           41331|\n",
      "|       22|              11229|   373|     escape-velocity|           11228|\n",
      "|        8|               null|   843|            twilight|            null|\n",
      "|       14|                397|    72|    trojan-asteroids|             396|\n",
      "|       61|              41435|   190|  deep-sky-observing|           41434|\n",
      "|       30|               null|    89|             horizon|            null|\n",
      "|        9|                910|   246|       fermi-paradox|             909|\n",
      "|       83|               6450|   314|           satellite|            6449|\n",
      "|       41|              10804|    86|       dwarf-planets|           10803|\n",
      "|       12|                555|   136|        space-debris|             554|\n",
      "|       74|              24865|   517|  planetary-transits|           24864|\n",
      "+---------+-------------------+------+--------------------+----------------+\n",
      "only showing top 20 rows"
     ]
    }
   ],
   "source": [
    "dataframes['Tags'].show(20)"
   ]
  },
  {
   "cell_type": "markdown",
   "id": "573611ab-946b-4518-b873-73d70179e6b2",
   "metadata": {},
   "source": [
    "### 6. Users"
   ]
  },
  {
   "cell_type": "code",
   "execution_count": 32,
   "id": "85270d13-a97a-4396-91c4-96c84e0918fd",
   "metadata": {
    "execution": {
     "iopub.execute_input": "2023-01-28T15:58:17.479803Z",
     "iopub.status.busy": "2023-01-28T15:58:17.479581Z",
     "iopub.status.idle": "2023-01-28T15:58:17.742158Z",
     "shell.execute_reply": "2023-01-28T15:58:17.741446Z",
     "shell.execute_reply.started": "2023-01-28T15:58:17.479781Z"
    },
    "tags": []
   },
   "outputs": [
    {
     "data": {
      "application/vnd.jupyter.widget-view+json": {
       "model_id": "b6a5f81d53724d2db24491a1c3264757",
       "version_major": 2,
       "version_minor": 0
      },
      "text/plain": [
       "VBox()"
      ]
     },
     "metadata": {},
     "output_type": "display_data"
    },
    {
     "data": {
      "application/vnd.jupyter.widget-view+json": {
       "model_id": "",
       "version_major": 2,
       "version_minor": 0
      },
      "text/plain": [
       "FloatProgress(value=0.0, bar_style='info', description='Progress:', layout=Layout(height='25px', width='50%'),…"
      ]
     },
     "metadata": {},
     "output_type": "display_data"
    }
   ],
   "source": [
    "dataframes['Users'] = dataframes['Users'] \\\n",
    "                        .drop('_WebsiteUrl', '_ProfileImageUrl', '_Location', '_AboutMe') \\\n",
    "                        .withColumnRenamed('_AccountId', 'account_id') \\\n",
    "                        .withColumnRenamed('_CreationDate', 'user_creation_date') \\\n",
    "                        .withColumnRenamed('_DisplayName', 'user_display_name') \\\n",
    "                        .withColumnRenamed('_LastAccessDate', 'user_last_access_date') \\\n",
    "                        .withColumnRenamed('_Reputation', 'user_reputation') \\\n",
    "                        .withColumnRenamed('_UpVotes', 'user_upvotes') \\\n",
    "                        .withColumnRenamed('_Id', 'user_id') \\\n",
    "                        .withColumnRenamed('_DownVotes', 'user_downvotes') \\\n",
    "                        .withColumnRenamed('_Views', 'user_views') \\\n",
    "                        .dropDuplicates()\n",
    "\n",
    "# dataframes['Users'].printSchema()"
   ]
  },
  {
   "cell_type": "code",
   "execution_count": 33,
   "id": "632d1c65-32f9-4480-8074-3fdbeb514198",
   "metadata": {
    "execution": {
     "iopub.execute_input": "2023-01-28T15:58:17.743688Z",
     "iopub.status.busy": "2023-01-28T15:58:17.743350Z",
     "iopub.status.idle": "2023-01-28T15:58:25.061439Z",
     "shell.execute_reply": "2023-01-28T15:58:25.060738Z",
     "shell.execute_reply.started": "2023-01-28T15:58:17.743651Z"
    },
    "tags": []
   },
   "outputs": [
    {
     "data": {
      "application/vnd.jupyter.widget-view+json": {
       "model_id": "45db609df55d4710a680355a469e37a9",
       "version_major": 2,
       "version_minor": 0
      },
      "text/plain": [
       "VBox()"
      ]
     },
     "metadata": {},
     "output_type": "display_data"
    },
    {
     "data": {
      "application/vnd.jupyter.widget-view+json": {
       "model_id": "",
       "version_major": 2,
       "version_minor": 0
      },
      "text/plain": [
       "FloatProgress(value=0.0, bar_style='info', description='Progress:', layout=Layout(height='25px', width='50%'),…"
      ]
     },
     "metadata": {},
     "output_type": "display_data"
    },
    {
     "name": "stdout",
     "output_type": "stream",
     "text": [
      "34611\n",
      "34611"
     ]
    }
   ],
   "source": [
    "print(dataframes['Users'].count())\n",
    "print(dataframes['Users'].dropna().count())"
   ]
  },
  {
   "cell_type": "code",
   "execution_count": 34,
   "id": "eec273f2-5b0f-4b68-aca9-b9e0ee5b0e17",
   "metadata": {
    "execution": {
     "iopub.execute_input": "2023-01-28T15:58:25.062969Z",
     "iopub.status.busy": "2023-01-28T15:58:25.062739Z",
     "iopub.status.idle": "2023-01-28T15:58:28.481017Z",
     "shell.execute_reply": "2023-01-28T15:58:28.480306Z",
     "shell.execute_reply.started": "2023-01-28T15:58:25.062946Z"
    },
    "tags": []
   },
   "outputs": [
    {
     "data": {
      "application/vnd.jupyter.widget-view+json": {
       "model_id": "213b5685bd684b6aaf7f1cd0cbfec4cb",
       "version_major": 2,
       "version_minor": 0
      },
      "text/plain": [
       "VBox()"
      ]
     },
     "metadata": {},
     "output_type": "display_data"
    },
    {
     "data": {
      "application/vnd.jupyter.widget-view+json": {
       "model_id": "",
       "version_major": 2,
       "version_minor": 0
      },
      "text/plain": [
       "FloatProgress(value=0.0, bar_style='info', description='Progress:', layout=Layout(height='25px', width='50%'),…"
      ]
     },
     "metadata": {},
     "output_type": "display_data"
    },
    {
     "name": "stdout",
     "output_type": "stream",
     "text": [
      "+----------+--------------------+-----------------+--------------+-------+---------------------+---------------+------------+----------+\n",
      "|account_id|  user_creation_date|user_display_name|user_downvotes|user_id|user_last_access_date|user_reputation|user_upvotes|user_views|\n",
      "+----------+--------------------+-----------------+--------------+-------+---------------------+---------------+------------+----------+\n",
      "|    320233|2013-09-24 19:29:...|              Rob|             0|     41| 2021-01-16 08:24:...|            839|           5|        16|\n",
      "|    118337|2013-09-25 19:03:...|   Michael Mrozek|             0|    110| 2017-07-28 18:39:...|            101|           0|         0|\n",
      "|    204168|2013-12-11 05:10:...|        javabrett|             0|    575| 2021-07-03 01:31:...|            101|           0|         0|\n",
      "|     42183|2014-05-11 12:21:...|            Frank|             0|   1640| 2014-05-11 12:21:...|            101|           1|         0|\n",
      "|   3180787|2014-09-06 21:52:...|      dganesh2002|             0|   2370| 2014-09-07 20:39:...|            101|           1|         0|\n",
      "|   5466890|2014-12-10 21:01:...|        mtoadvine|             0|   3016| 2014-12-10 21:01:...|              1|           0|         0|\n",
      "|   1291339|2014-12-29 14:35:...|     Dennis Braga|             0|   4153| 2014-12-29 19:16:...|            101|           5|         0|\n",
      "|   2009330|2015-07-01 15:14:...|     Ariful Haque|             0|   7585|  2019-08-26 05:54:50|            101|           3|         0|\n",
      "|   3643911|2015-07-10 23:49:...|     Tristan King|             0|   7663| 2021-01-19 12:29:...|            153|           1|         5|\n",
      "|   7288463|2015-11-12 17:29:...|       quarkonium|             0|   9750| 2016-09-25 18:50:...|            101|           0|         0|\n",
      "|   2593838|2015-11-21 15:50:...|       Ravi Singh|             0|   9839| 2020-10-03 18:36:...|             13|           0|         1|\n",
      "|   5718349|2015-12-15 16:11:...|   Konnor Timmons|             0|  10114| 2020-02-29 04:12:...|              9|           0|         1|\n",
      "|   5463323|2015-12-18 13:17:...|         Minativ7|             0|  10183| 2016-01-10 03:38:...|            101|           0|         0|\n",
      "|   7220005|2016-09-03 16:13:...|             Pere|             1|  14097| 2022-12-03 16:10:...|           1590|         628|        25|\n",
      "|   6331603|2016-12-17 19:09:...|   Gaurav Agrawal|             0|  15206| 2016-12-18 15:47:...|            101|           0|         0|\n",
      "|   9961901|2017-01-03 18:54:...|     Potato Comet|             0|  15377| 2017-02-04 06:26:...|             11|           0|         3|\n",
      "|   7297802|2017-03-29 07:45:...|             Amit|             0|  16453| 2020-03-19 21:00:...|            141|           0|         4|\n",
      "|  10863876|2017-05-09 18:44:...|       user444871|             0|  16847| 2017-05-09 18:44:...|              1|           0|         0|\n",
      "|  11045152|2017-07-16 14:41:...|   Manasv Chhabra|             0|  17521| 2022-02-12 07:58:...|              1|           0|         0|\n",
      "|   9791900|2017-09-11 11:21:...|        zaidfazil|             0|  18461| 2018-07-18 06:46:...|            101|           0|         0|\n",
      "+----------+--------------------+-----------------+--------------+-------+---------------------+---------------+------------+----------+\n",
      "only showing top 20 rows"
     ]
    }
   ],
   "source": [
    "dataframes['Users'].show(20)"
   ]
  },
  {
   "cell_type": "markdown",
   "id": "c4fb0231-bece-43ce-b62c-71ac028c9c5d",
   "metadata": {},
   "source": [
    "### 7. Votes"
   ]
  },
  {
   "cell_type": "code",
   "execution_count": 35,
   "id": "796c239e-e70e-4ff4-ba12-18c8f8cd3a19",
   "metadata": {
    "execution": {
     "iopub.execute_input": "2023-01-28T15:58:28.482220Z",
     "iopub.status.busy": "2023-01-28T15:58:28.481994Z",
     "iopub.status.idle": "2023-01-28T15:58:28.741716Z",
     "shell.execute_reply": "2023-01-28T15:58:28.740566Z",
     "shell.execute_reply.started": "2023-01-28T15:58:28.482196Z"
    },
    "tags": []
   },
   "outputs": [
    {
     "data": {
      "application/vnd.jupyter.widget-view+json": {
       "model_id": "6f62243fbea549ebbd9984853247849b",
       "version_major": 2,
       "version_minor": 0
      },
      "text/plain": [
       "VBox()"
      ]
     },
     "metadata": {},
     "output_type": "display_data"
    },
    {
     "data": {
      "application/vnd.jupyter.widget-view+json": {
       "model_id": "",
       "version_major": 2,
       "version_minor": 0
      },
      "text/plain": [
       "FloatProgress(value=0.0, bar_style='info', description='Progress:', layout=Layout(height='25px', width='50%'),…"
      ]
     },
     "metadata": {},
     "output_type": "display_data"
    }
   ],
   "source": [
    "dataframes['Votes'] = dataframes['Votes'] \\\n",
    "                        .withColumnRenamed('_CreationDate', 'vote_creation_date') \\\n",
    "                        .withColumnRenamed('_Id', 'vote_id') \\\n",
    "                        .withColumnRenamed('_PostId', 'voted_post_id') \\\n",
    "                        .withColumnRenamed('_UserId', 'user_voter_id') \\\n",
    "                        .withColumnRenamed('_VoteTypeId', 'vote_type_id') \\\n",
    "                        .withColumnRenamed('_BountyAmount', 'count_bounty_amount') \\\n",
    "                        .dropDuplicates()\n",
    "\n",
    "# dataframes['Votes'].printSchema()"
   ]
  },
  {
   "cell_type": "code",
   "execution_count": 36,
   "id": "bc81608a-5992-4a25-aeb1-4aca78310fde",
   "metadata": {
    "execution": {
     "iopub.execute_input": "2023-01-28T15:58:28.743915Z",
     "iopub.status.busy": "2023-01-28T15:58:28.743315Z",
     "iopub.status.idle": "2023-01-28T15:58:42.058746Z",
     "shell.execute_reply": "2023-01-28T15:58:42.057977Z",
     "shell.execute_reply.started": "2023-01-28T15:58:28.743878Z"
    },
    "tags": []
   },
   "outputs": [
    {
     "data": {
      "application/vnd.jupyter.widget-view+json": {
       "model_id": "cfa5ac81dd31456fa6fc37cdc765b879",
       "version_major": 2,
       "version_minor": 0
      },
      "text/plain": [
       "VBox()"
      ]
     },
     "metadata": {},
     "output_type": "display_data"
    },
    {
     "data": {
      "application/vnd.jupyter.widget-view+json": {
       "model_id": "",
       "version_major": 2,
       "version_minor": 0
      },
      "text/plain": [
       "FloatProgress(value=0.0, bar_style='info', description='Progress:', layout=Layout(height='25px', width='50%'),…"
      ]
     },
     "metadata": {},
     "output_type": "display_data"
    },
    {
     "name": "stdout",
     "output_type": "stream",
     "text": [
      "210062\n",
      "209591"
     ]
    }
   ],
   "source": [
    "print(dataframes['Votes'].count())\n",
    "print(dataframes['Votes'].subtract(dataframes['Votes'].dropna()).count())"
   ]
  },
  {
   "cell_type": "code",
   "execution_count": 37,
   "id": "3e46bccb-ca33-4366-b176-5bc09af88ad5",
   "metadata": {
    "execution": {
     "iopub.execute_input": "2023-01-28T15:58:42.060024Z",
     "iopub.status.busy": "2023-01-28T15:58:42.059771Z",
     "iopub.status.idle": "2023-01-28T15:58:49.348400Z",
     "shell.execute_reply": "2023-01-28T15:58:49.347674Z",
     "shell.execute_reply.started": "2023-01-28T15:58:42.059993Z"
    },
    "tags": []
   },
   "outputs": [
    {
     "data": {
      "application/vnd.jupyter.widget-view+json": {
       "model_id": "c4afbc27388a4fb2ab42e8c9d97bb812",
       "version_major": 2,
       "version_minor": 0
      },
      "text/plain": [
       "VBox()"
      ]
     },
     "metadata": {},
     "output_type": "display_data"
    },
    {
     "data": {
      "application/vnd.jupyter.widget-view+json": {
       "model_id": "",
       "version_major": 2,
       "version_minor": 0
      },
      "text/plain": [
       "FloatProgress(value=0.0, bar_style='info', description='Progress:', layout=Layout(height='25px', width='50%'),…"
      ]
     },
     "metadata": {},
     "output_type": "display_data"
    },
    {
     "name": "stdout",
     "output_type": "stream",
     "text": [
      "+-------------------+-------------------+-------+-------------+-------------+------------+\n",
      "|count_bounty_amount| vote_creation_date|vote_id|voted_post_id|user_voter_id|vote_type_id|\n",
      "+-------------------+-------------------+-------+-------------+-------------+------------+\n",
      "|               null|2013-09-26 00:00:00|    783|           94|         null|           2|\n",
      "|               null|2013-10-04 00:00:00|   2293|          489|         null|           2|\n",
      "|               null|2013-12-04 00:00:00|   6701|         1054|         null|           2|\n",
      "|               null|2014-02-19 00:00:00|  10030|         1465|         null|           2|\n",
      "|               null|2014-03-11 00:00:00|  10502|         1862|         null|           2|\n",
      "|               null|2014-03-18 00:00:00|  10679|         1999|         null|           2|\n",
      "|               null|2014-04-22 00:00:00|  11705|         2222|         null|           2|\n",
      "|               null|2014-04-30 00:00:00|  12000|         2319|         null|           2|\n",
      "|               null|2014-05-06 00:00:00|  12244|         2376|         null|           2|\n",
      "|               null|2014-05-07 00:00:00|  12297|         2388|         null|           2|\n",
      "|               null|2014-06-06 00:00:00|  13219|         3621|         null|           2|\n",
      "|               null|2014-08-31 00:00:00|  17320|         5949|         null|           2|\n",
      "|               null|2014-09-19 00:00:00|  18212|         6352|         null|          16|\n",
      "|               null|2014-09-24 00:00:00|  18476|         6441|         null|           2|\n",
      "|               null|2014-12-29 00:00:00|  22456|         8392|         null|           2|\n",
      "|               null|2015-01-06 00:00:00|  22839|         8461|         null|           3|\n",
      "|               null|2015-02-04 00:00:00|  25159|         8767|         null|           2|\n",
      "|               null|2015-03-20 00:00:00|  27587|         7957|         null|           2|\n",
      "|               null|2015-04-15 00:00:00|  28559|        10484|         null|           2|\n",
      "|               null|2015-05-31 00:00:00|  29603|        10863|         null|           2|\n",
      "+-------------------+-------------------+-------+-------------+-------------+------------+\n",
      "only showing top 20 rows"
     ]
    }
   ],
   "source": [
    "dataframes['Votes'].show(20)"
   ]
  },
  {
   "cell_type": "markdown",
   "id": "0a75bf25-2519-405f-ae46-be70e92e6238",
   "metadata": {
    "execution": {
     "iopub.execute_input": "2023-01-27T21:39:30.743864Z",
     "iopub.status.busy": "2023-01-27T21:39:30.743171Z",
     "iopub.status.idle": "2023-01-27T21:39:30.820777Z",
     "shell.execute_reply": "2023-01-27T21:39:30.818311Z",
     "shell.execute_reply.started": "2023-01-27T21:39:30.743802Z"
    }
   },
   "source": [
    "## 8. Posts"
   ]
  },
  {
   "cell_type": "code",
   "execution_count": 38,
   "id": "6774912d-1dd1-43c2-99d1-6f8c24a322e7",
   "metadata": {
    "execution": {
     "iopub.execute_input": "2023-01-28T15:58:49.349643Z",
     "iopub.status.busy": "2023-01-28T15:58:49.349408Z",
     "iopub.status.idle": "2023-01-28T15:58:49.613925Z",
     "shell.execute_reply": "2023-01-28T15:58:49.613237Z",
     "shell.execute_reply.started": "2023-01-28T15:58:49.349619Z"
    },
    "tags": []
   },
   "outputs": [
    {
     "data": {
      "application/vnd.jupyter.widget-view+json": {
       "model_id": "cb2c0ff73f7e4bda8502074a35b43bde",
       "version_major": 2,
       "version_minor": 0
      },
      "text/plain": [
       "VBox()"
      ]
     },
     "metadata": {},
     "output_type": "display_data"
    },
    {
     "data": {
      "application/vnd.jupyter.widget-view+json": {
       "model_id": "",
       "version_major": 2,
       "version_minor": 0
      },
      "text/plain": [
       "FloatProgress(value=0.0, bar_style='info', description='Progress:', layout=Layout(height='25px', width='50%'),…"
      ]
     },
     "metadata": {},
     "output_type": "display_data"
    }
   ],
   "source": [
    "dataframes['Posts'] = dataframes['Posts'] \\\n",
    "                        .drop('_ContentLicense', '_LastEditorDisplayName', '_OwnerDisplayName') \\\n",
    "                        .withColumnRenamed('_AcceptedAnswerId', 'accepted_answer_id') \\\n",
    "                        .withColumnRenamed('_AnswerCount', 'post_answer_count') \\\n",
    "                        .withColumnRenamed('_Body', 'post_body') \\\n",
    "                        .withColumnRenamed('_ClosedDate', 'post_closed_date') \\\n",
    "                        .withColumnRenamed('_CommentCount', 'post_comment_count') \\\n",
    "                        .withColumnRenamed('_CommunityOwnedDate', 'post_community_owned_date') \\\n",
    "                        .withColumnRenamed('_CreationDate', 'post_creation_date') \\\n",
    "                        .withColumnRenamed('_FavoriteCount', 'post_favourite_count') \\\n",
    "                        .withColumnRenamed('_Id', 'post_id') \\\n",
    "                        .withColumnRenamed('_LastActivityDate', 'post_last_activity_date') \\\n",
    "                        .withColumnRenamed('_LastEditDate', 'post_last_edited_date') \\\n",
    "                        .withColumnRenamed('_LastEditorUserId', 'post_last_editor_user_id') \\\n",
    "                        .withColumnRenamed('_OwnerUserId', 'post_owner_user_id') \\\n",
    "                        .withColumnRenamed('_ParentId', 'post_parent_id') \\\n",
    "                        .withColumnRenamed('_PostTypeId', 'post_type_id') \\\n",
    "                        .withColumnRenamed('_Score', 'post_score') \\\n",
    "                        .withColumnRenamed('_Title', 'post_title') \\\n",
    "                        .withColumnRenamed('_ViewCount', 'post_view_count') \\\n",
    "                        .withColumnRenamed('_Tags', 'post_tags') \\\n",
    "                        .dropDuplicates()"
   ]
  },
  {
   "cell_type": "code",
   "execution_count": 41,
   "id": "b92e1b25-0864-48bc-a7ef-482267e95050",
   "metadata": {
    "execution": {
     "iopub.execute_input": "2023-01-28T16:04:52.213768Z",
     "iopub.status.busy": "2023-01-28T16:04:52.213452Z",
     "iopub.status.idle": "2023-01-28T16:05:47.677042Z",
     "shell.execute_reply": "2023-01-28T16:05:47.676166Z",
     "shell.execute_reply.started": "2023-01-28T16:04:52.213741Z"
    },
    "tags": []
   },
   "outputs": [
    {
     "data": {
      "application/vnd.jupyter.widget-view+json": {
       "model_id": "af3215619b164a6cbbe26f74c0da7872",
       "version_major": 2,
       "version_minor": 0
      },
      "text/plain": [
       "VBox()"
      ]
     },
     "metadata": {},
     "output_type": "display_data"
    },
    {
     "data": {
      "application/vnd.jupyter.widget-view+json": {
       "model_id": "",
       "version_major": 2,
       "version_minor": 0
      },
      "text/plain": [
       "FloatProgress(value=0.0, bar_style='info', description='Progress:', layout=Layout(height='25px', width='50%'),…"
      ]
     },
     "metadata": {},
     "output_type": "display_data"
    }
   ],
   "source": [
    "for name in filenames:\n",
    "    dataframes[name].write.parquet('s3://pkruk-big-data/processed/' + name + '.parquet')"
   ]
  },
  {
   "cell_type": "code",
   "execution_count": null,
   "id": "2486589e-913c-42ba-aaac-714b854abe7b",
   "metadata": {},
   "outputs": [],
   "source": []
  }
 ],
 "metadata": {
  "kernelspec": {
   "display_name": "PySpark",
   "language": "python",
   "name": "pysparkkernel"
  },
  "language_info": {
   "codemirror_mode": {
    "name": "python",
    "version": 3
   },
   "file_extension": ".py",
   "mimetype": "text/x-python",
   "name": "pyspark",
   "pygments_lexer": "python3"
  }
 },
 "nbformat": 4,
 "nbformat_minor": 5
}
