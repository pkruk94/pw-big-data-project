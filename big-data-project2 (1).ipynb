{
 "cells": [
  {
   "cell_type": "code",
   "execution_count": null,
   "id": "a93dd6a2-62c2-4138-a40b-f398918569ac",
   "metadata": {
    "tags": []
   },
   "outputs": [],
   "source": [
    "sc.install_pypi_package(\"pandas\")\n",
    "sc.install_pypi_package(\"matplotlib\")"
   ]
  },
  {
   "cell_type": "code",
   "execution_count": 2,
   "id": "c7b10e53-6a77-4af7-81f9-c88f03110f49",
   "metadata": {
    "execution": {
     "iopub.execute_input": "2023-01-30T21:44:32.086047Z",
     "iopub.status.busy": "2023-01-30T21:44:32.085717Z",
     "iopub.status.idle": "2023-01-30T21:44:37.388875Z",
     "shell.execute_reply": "2023-01-30T21:44:37.388117Z",
     "shell.execute_reply.started": "2023-01-30T21:44:32.086012Z"
    },
    "tags": []
   },
   "outputs": [
    {
     "data": {
      "application/vnd.jupyter.widget-view+json": {
       "model_id": "d3edad8b6d474cc5a9e40dafa3bacb01",
       "version_major": 2,
       "version_minor": 0
      },
      "text/plain": [
       "VBox()"
      ]
     },
     "metadata": {},
     "output_type": "display_data"
    },
    {
     "data": {
      "application/vnd.jupyter.widget-view+json": {
       "model_id": "",
       "version_major": 2,
       "version_minor": 0
      },
      "text/plain": [
       "FloatProgress(value=0.0, bar_style='info', description='Progress:', layout=Layout(height='25px', width='50%'),…"
      ]
     },
     "metadata": {},
     "output_type": "display_data"
    }
   ],
   "source": [
    "from pyspark.sql import SparkSession\n",
    "from pyspark.sql import Row\n",
    "from pyspark.sql import functions as f\n",
    "from pyspark.sql import Window\n",
    "from pyspark.sql.types import StringType, DoubleType, IntegerType\n",
    "\n",
    "import matplotlib.pyplot as plt\n",
    "import pandas as pd\n",
    "\n",
    "spark = SparkSession.builder \\\n",
    "                    .appName('PK_BigData_Project') \\\n",
    "                    .config('spark.jars.packages', 'com.amazonaws:aws-java-sdk-bundle:1.12.170') \\\n",
    "                    .config('spark.jars.packages', 'org.apache.hadoop:hadoop-aws:3.3.3') \\\n",
    "                    .config(\"spark.driver.memory\", \"12g\") \\\n",
    "                    .config(\"spark.executor.memory\", \"12g\") \\\n",
    "                    .master('local[3]') \\\n",
    "                    .getOrCreate()"
   ]
  },
  {
   "cell_type": "code",
   "execution_count": 3,
   "id": "29c44b73-3f9f-49ef-9368-269fcbe520d7",
   "metadata": {
    "execution": {
     "iopub.execute_input": "2023-01-30T21:44:37.390170Z",
     "iopub.status.busy": "2023-01-30T21:44:37.389918Z",
     "iopub.status.idle": "2023-01-30T21:44:37.481031Z",
     "shell.execute_reply": "2023-01-30T21:44:37.479916Z",
     "shell.execute_reply.started": "2023-01-30T21:44:37.390145Z"
    },
    "tags": []
   },
   "outputs": [
    {
     "data": {
      "application/vnd.jupyter.widget-view+json": {
       "model_id": "e7a45cd34a20431fa88e6b098f16e305",
       "version_major": 2,
       "version_minor": 0
      },
      "text/plain": [
       "VBox()"
      ]
     },
     "metadata": {},
     "output_type": "display_data"
    },
    {
     "data": {
      "application/vnd.jupyter.widget-view+json": {
       "model_id": "",
       "version_major": 2,
       "version_minor": 0
      },
      "text/plain": [
       "FloatProgress(value=0.0, bar_style='info', description='Progress:', layout=Layout(height='25px', width='50%'),…"
      ]
     },
     "metadata": {},
     "output_type": "display_data"
    }
   ],
   "source": [
    "filePath = \"s3a://pkruk-big-data/processed/\""
   ]
  },
  {
   "cell_type": "code",
   "execution_count": 4,
   "id": "83562468-cce5-4cb5-be5d-880a8cb982c3",
   "metadata": {
    "execution": {
     "iopub.execute_input": "2023-01-30T21:44:37.483064Z",
     "iopub.status.busy": "2023-01-30T21:44:37.482663Z",
     "iopub.status.idle": "2023-01-30T21:44:44.800582Z",
     "shell.execute_reply": "2023-01-30T21:44:44.799717Z",
     "shell.execute_reply.started": "2023-01-30T21:44:37.482963Z"
    },
    "tags": []
   },
   "outputs": [
    {
     "data": {
      "application/vnd.jupyter.widget-view+json": {
       "model_id": "5a9868320a2f4c608a6a0c130da8a1d1",
       "version_major": 2,
       "version_minor": 0
      },
      "text/plain": [
       "VBox()"
      ]
     },
     "metadata": {},
     "output_type": "display_data"
    },
    {
     "data": {
      "application/vnd.jupyter.widget-view+json": {
       "model_id": "",
       "version_major": 2,
       "version_minor": 0
      },
      "text/plain": [
       "FloatProgress(value=0.0, bar_style='info', description='Progress:', layout=Layout(height='25px', width='50%'),…"
      ]
     },
     "metadata": {},
     "output_type": "display_data"
    }
   ],
   "source": [
    "badges_df = spark.read.parquet(filePath + 'Badges.parquet')\n",
    "comments_df = spark.read.parquet(filePath + 'Comments.parquet')\n",
    "post_history_df = spark.read.parquet(filePath + 'PostHistory.parquet')\n",
    "post_links_df = spark.read.parquet(filePath + 'PostLinks.parquet')\n",
    "posts_df = spark.read.parquet(filePath + 'Posts.parquet')\n",
    "tags_df = spark.read.parquet(filePath + 'Tags.parquet')\n",
    "users_df = spark.read.parquet(filePath + 'Users.parquet')\n",
    "votes_df = spark.read.parquet(filePath + 'Votes.parquet')"
   ]
  },
  {
   "cell_type": "code",
   "execution_count": 5,
   "id": "64f81672-3c38-4be5-8e1c-001968097af7",
   "metadata": {
    "execution": {
     "iopub.execute_input": "2023-01-30T21:44:44.802141Z",
     "iopub.status.busy": "2023-01-30T21:44:44.801790Z",
     "iopub.status.idle": "2023-01-30T21:44:45.186801Z",
     "shell.execute_reply": "2023-01-30T21:44:45.092144Z",
     "shell.execute_reply.started": "2023-01-30T21:44:44.802106Z"
    },
    "tags": []
   },
   "outputs": [
    {
     "data": {
      "application/vnd.jupyter.widget-view+json": {
       "model_id": "0c2e32114e1b466f9b59f942349e7f25",
       "version_major": 2,
       "version_minor": 0
      },
      "text/plain": [
       "VBox()"
      ]
     },
     "metadata": {},
     "output_type": "display_data"
    },
    {
     "data": {
      "application/vnd.jupyter.widget-view+json": {
       "model_id": "",
       "version_major": 2,
       "version_minor": 0
      },
      "text/plain": [
       "FloatProgress(value=0.0, bar_style='info', description='Progress:', layout=Layout(height='25px', width='50%'),…"
      ]
     },
     "metadata": {},
     "output_type": "display_data"
    }
   ],
   "source": [
    "comments_df = comments_df.withColumnRenamed('post_id', 'related_post_id')"
   ]
  },
  {
   "cell_type": "code",
   "execution_count": 6,
   "id": "70575651-dc64-41bf-959c-7e9007885481",
   "metadata": {
    "execution": {
     "iopub.execute_input": "2023-01-30T21:44:45.206664Z",
     "iopub.status.busy": "2023-01-30T21:44:45.204497Z",
     "iopub.status.idle": "2023-01-30T21:44:45.903179Z",
     "shell.execute_reply": "2023-01-30T21:44:45.902471Z",
     "shell.execute_reply.started": "2023-01-30T21:44:45.206636Z"
    },
    "tags": []
   },
   "outputs": [
    {
     "data": {
      "application/vnd.jupyter.widget-view+json": {
       "model_id": "097c95d10fa74d48bce486311a8a4792",
       "version_major": 2,
       "version_minor": 0
      },
      "text/plain": [
       "VBox()"
      ]
     },
     "metadata": {},
     "output_type": "display_data"
    },
    {
     "data": {
      "application/vnd.jupyter.widget-view+json": {
       "model_id": "",
       "version_major": 2,
       "version_minor": 0
      },
      "text/plain": [
       "FloatProgress(value=0.0, bar_style='info', description='Progress:', layout=Layout(height='25px', width='50%'),…"
      ]
     },
     "metadata": {},
     "output_type": "display_data"
    }
   ],
   "source": [
    "# 1 = Question\n",
    "# 2 = Answer\n",
    "# 3 = Orphaned tag wiki\n",
    "# 4 = Tag wiki excerpt\n",
    "# 5 = Tag wiki\n",
    "# 6 = Moderator nomination\n",
    "# 7 = \"Wiki placeholder\" (seems to only be the election description)\n",
    "# 8 = Privilege wiki"
   ]
  },
  {
   "cell_type": "markdown",
   "id": "a27b9fee-f95d-4fc5-a25c-16ebaefb9967",
   "metadata": {},
   "source": [
    "## 1. Liczba postów na przestrzeni czasu"
   ]
  },
  {
   "cell_type": "code",
   "execution_count": 7,
   "id": "1fb82a06-e0ee-4f25-929e-5afb9053230d",
   "metadata": {
    "execution": {
     "iopub.execute_input": "2023-01-30T21:44:45.904489Z",
     "iopub.status.busy": "2023-01-30T21:44:45.904240Z",
     "iopub.status.idle": "2023-01-30T21:44:46.166975Z",
     "shell.execute_reply": "2023-01-30T21:44:46.166075Z",
     "shell.execute_reply.started": "2023-01-30T21:44:45.904464Z"
    },
    "tags": []
   },
   "outputs": [
    {
     "data": {
      "application/vnd.jupyter.widget-view+json": {
       "model_id": "f4bfab038b404eb9bf70e630c94830a8",
       "version_major": 2,
       "version_minor": 0
      },
      "text/plain": [
       "VBox()"
      ]
     },
     "metadata": {},
     "output_type": "display_data"
    },
    {
     "data": {
      "application/vnd.jupyter.widget-view+json": {
       "model_id": "",
       "version_major": 2,
       "version_minor": 0
      },
      "text/plain": [
       "FloatProgress(value=0.0, bar_style='info', description='Progress:', layout=Layout(height='25px', width='50%'),…"
      ]
     },
     "metadata": {},
     "output_type": "display_data"
    }
   ],
   "source": [
    "post_id_and_creation_date = posts_df.select('post_id', 'post_creation_date') \\\n",
    "                                    .orderBy('post_creation_date', 'post_id')\n",
    "\n",
    "post_id_and_creation_date = post_id_and_creation_date \\\n",
    "                                .withColumn('post_creation_date', f.to_date(post_id_and_creation_date.post_creation_date)) \\\n",
    "                                .groupBy('post_creation_date') \\\n",
    "                                .agg(f.count('post_id').alias('post_count')) \\\n",
    "                                .orderBy('post_creation_date')"
   ]
  },
  {
   "cell_type": "code",
   "execution_count": 8,
   "id": "38d79b66-dd73-4922-81fa-7a6699ded8a3",
   "metadata": {
    "execution": {
     "iopub.execute_input": "2023-01-30T21:44:46.168374Z",
     "iopub.status.busy": "2023-01-30T21:44:46.168121Z",
     "iopub.status.idle": "2023-01-30T21:44:54.162748Z",
     "shell.execute_reply": "2023-01-30T21:44:54.152736Z",
     "shell.execute_reply.started": "2023-01-30T21:44:46.168349Z"
    },
    "tags": []
   },
   "outputs": [
    {
     "data": {
      "application/vnd.jupyter.widget-view+json": {
       "model_id": "60a315422ef64bb18f2e93cde86345ae",
       "version_major": 2,
       "version_minor": 0
      },
      "text/plain": [
       "VBox()"
      ]
     },
     "metadata": {},
     "output_type": "display_data"
    },
    {
     "data": {
      "application/vnd.jupyter.widget-view+json": {
       "model_id": "",
       "version_major": 2,
       "version_minor": 0
      },
      "text/plain": [
       "FloatProgress(value=0.0, bar_style='info', description='Progress:', layout=Layout(height='25px', width='50%'),…"
      ]
     },
     "metadata": {},
     "output_type": "display_data"
    },
    {
     "name": "stdout",
     "output_type": "stream",
     "text": [
      "+------------------+---------------------+\n",
      "|post_creation_date|cumulative_post_count|\n",
      "+------------------+---------------------+\n",
      "|        2013-09-24|                   62|\n",
      "|        2013-09-25|                  136|\n",
      "|        2013-09-26|                  241|\n",
      "|        2013-09-27|                  316|\n",
      "|        2013-09-28|                  333|\n",
      "|        2013-09-29|                  367|\n",
      "|        2013-09-30|                  393|\n",
      "|        2013-10-01|                  417|\n",
      "|        2013-10-02|                  437|\n",
      "|        2013-10-03|                  444|\n",
      "|        2013-10-04|                  449|\n",
      "|        2013-10-05|                  453|\n",
      "|        2013-10-06|                  458|\n",
      "|        2013-10-07|                  480|\n",
      "|        2013-10-08|                  498|\n",
      "|        2013-10-09|                  548|\n",
      "|        2013-10-10|                  560|\n",
      "|        2013-10-11|                  576|\n",
      "|        2013-10-13|                  580|\n",
      "|        2013-10-14|                  590|\n",
      "+------------------+---------------------+\n",
      "only showing top 20 rows"
     ]
    }
   ],
   "source": [
    "window = Window.orderBy('post_creation_date')\n",
    "post_count_and_creation_date = post_id_and_creation_date.withColumn(\n",
    "    'cumulative_post_count',\n",
    "    f.sum('post_count').over(window)).drop('post_count')\n",
    "\n",
    "post_count_and_creation_date.show()"
   ]
  },
  {
   "cell_type": "code",
   "execution_count": 9,
   "id": "efd58a59-9dda-46d4-8e70-364a8d3dd431",
   "metadata": {
    "execution": {
     "iopub.execute_input": "2023-01-30T21:44:54.168134Z",
     "iopub.status.busy": "2023-01-30T21:44:54.167730Z",
     "iopub.status.idle": "2023-01-30T21:44:56.460968Z",
     "shell.execute_reply": "2023-01-30T21:44:56.460109Z",
     "shell.execute_reply.started": "2023-01-30T21:44:54.168093Z"
    },
    "tags": []
   },
   "outputs": [
    {
     "data": {
      "application/vnd.jupyter.widget-view+json": {
       "model_id": "82b419143bb94b219e954d91875be21f",
       "version_major": 2,
       "version_minor": 0
      },
      "text/plain": [
       "VBox()"
      ]
     },
     "metadata": {},
     "output_type": "display_data"
    },
    {
     "data": {
      "application/vnd.jupyter.widget-view+json": {
       "model_id": "",
       "version_major": 2,
       "version_minor": 0
      },
      "text/plain": [
       "FloatProgress(value=0.0, bar_style='info', description='Progress:', layout=Layout(height='25px', width='50%'),…"
      ]
     },
     "metadata": {},
     "output_type": "display_data"
    }
   ],
   "source": [
    "post_count_and_creation_date_pd = post_count_and_creation_date.toPandas()"
   ]
  },
  {
   "cell_type": "code",
   "execution_count": 10,
   "id": "215bf38f-c89c-48c5-812d-f98dc4c71e69",
   "metadata": {
    "execution": {
     "iopub.execute_input": "2023-01-30T21:44:56.463824Z",
     "iopub.status.busy": "2023-01-30T21:44:56.463471Z",
     "iopub.status.idle": "2023-01-30T21:44:59.826930Z",
     "shell.execute_reply": "2023-01-30T21:44:59.826053Z",
     "shell.execute_reply.started": "2023-01-30T21:44:56.463789Z"
    },
    "tags": []
   },
   "outputs": [
    {
     "data": {
      "application/vnd.jupyter.widget-view+json": {
       "model_id": "30006f384e4b45afa35bec6c839da886",
       "version_major": 2,
       "version_minor": 0
      },
      "text/plain": [
       "VBox()"
      ]
     },
     "metadata": {},
     "output_type": "display_data"
    },
    {
     "data": {
      "application/vnd.jupyter.widget-view+json": {
       "model_id": "",
       "version_major": 2,
       "version_minor": 0
      },
      "text/plain": [
       "FloatProgress(value=0.0, bar_style='info', description='Progress:', layout=Layout(height='25px', width='50%'),…"
      ]
     },
     "metadata": {},
     "output_type": "display_data"
    },
    {
     "data": {
      "image/png": "[encoded data removed]",
      "text/plain": [
       "<IPython.core.display.Image object>"
      ]
     },
     "metadata": {},
     "output_type": "display_data"
    }
   ],
   "source": [
    "plt.title('Cumulative number of posts over time')\n",
    "plt.xlabel('Post creation date')\n",
    "plt.ylabel('Cumulative number of posts')\n",
    "plt.bar(post_count_and_creation_date_pd['post_creation_date'],\n",
    "        post_count_and_creation_date_pd['cumulative_post_count'])\n",
    "plt.show()\n",
    "\n",
    "%matplot plt"
   ]
  },
  {
   "cell_type": "markdown",
   "id": "fe921036-ef6b-4e12-bb51-9dff15e65804",
   "metadata": {},
   "source": [
    "## 2. Czas na forum 10 najdłużej aktywnych użytkonikow pomijając boty"
   ]
  },
  {
   "cell_type": "code",
   "execution_count": 11,
   "id": "93475a37-4996-449a-8bf1-c779576b032d",
   "metadata": {
    "execution": {
     "iopub.execute_input": "2023-01-30T21:44:59.828347Z",
     "iopub.status.busy": "2023-01-30T21:44:59.828105Z",
     "iopub.status.idle": "2023-01-30T21:45:00.110936Z",
     "shell.execute_reply": "2023-01-30T21:45:00.110032Z",
     "shell.execute_reply.started": "2023-01-30T21:44:59.828322Z"
    },
    "tags": []
   },
   "outputs": [
    {
     "data": {
      "application/vnd.jupyter.widget-view+json": {
       "model_id": "bffd5d1f061846b08ee57e3112d78d13",
       "version_major": 2,
       "version_minor": 0
      },
      "text/plain": [
       "VBox()"
      ]
     },
     "metadata": {},
     "output_type": "display_data"
    },
    {
     "data": {
      "application/vnd.jupyter.widget-view+json": {
       "model_id": "",
       "version_major": 2,
       "version_minor": 0
      },
      "text/plain": [
       "FloatProgress(value=0.0, bar_style='info', description='Progress:', layout=Layout(height='25px', width='50%'),…"
      ]
     },
     "metadata": {},
     "output_type": "display_data"
    }
   ],
   "source": [
    "user_id_and_creation_date = users_df.select('user_id', 'user_creation_date')\n",
    "post_id_creation_date_and_post_owner_user_id = posts_df.select(\n",
    "    'post_creation_date', 'post_owner_user_id')\n",
    "comment_id_and_creation_date_and_user_id = comments_df.select(\n",
    "    'comment_creation_date',\n",
    "    'user_id').withColumnRenamed('user_id', 'comment_owner_id')\n",
    "\n",
    "temp = user_id_and_creation_date \\\n",
    "            .join(post_id_creation_date_and_post_owner_user_id, user_id_and_creation_date.user_id == post_id_creation_date_and_post_owner_user_id.post_owner_user_id, 'inner') \\\n",
    "            .drop('post_owner_user_id')"
   ]
  },
  {
   "cell_type": "code",
   "execution_count": 12,
   "id": "e777d7f1-016c-431c-8584-908fc9adf333",
   "metadata": {
    "execution": {
     "iopub.execute_input": "2023-01-30T21:45:00.112647Z",
     "iopub.status.busy": "2023-01-30T21:45:00.112315Z",
     "iopub.status.idle": "2023-01-30T21:45:13.472463Z",
     "shell.execute_reply": "2023-01-30T21:45:13.471543Z",
     "shell.execute_reply.started": "2023-01-30T21:45:00.112617Z"
    },
    "tags": []
   },
   "outputs": [
    {
     "data": {
      "application/vnd.jupyter.widget-view+json": {
       "model_id": "9fa80e73ee8c4a88b303ad47a59cf49c",
       "version_major": 2,
       "version_minor": 0
      },
      "text/plain": [
       "VBox()"
      ]
     },
     "metadata": {},
     "output_type": "display_data"
    },
    {
     "data": {
      "application/vnd.jupyter.widget-view+json": {
       "model_id": "",
       "version_major": 2,
       "version_minor": 0
      },
      "text/plain": [
       "FloatProgress(value=0.0, bar_style='info', description='Progress:', layout=Layout(height='25px', width='50%'),…"
      ]
     },
     "metadata": {},
     "output_type": "display_data"
    },
    {
     "name": "stdout",
     "output_type": "stream",
     "text": [
      "+-------+--------------------+--------------------+---------------------+\n",
      "|user_id|  user_creation_date|  post_creation_date|comment_creation_date|\n",
      "+-------+--------------------+--------------------+---------------------+\n",
      "|   2153|2014-07-31 19:37:...|2015-07-08 21:21:...| 2016-01-27 22:15:...|\n",
      "|   2153|2014-07-31 19:37:...|2015-07-08 21:21:...| 2014-12-30 14:51:...|\n",
      "|   2153|2014-07-31 19:37:...|2015-07-08 21:21:...| 2017-06-27 14:31:...|\n",
      "|   2153|2014-07-31 19:37:...|2015-07-08 21:28:...| 2015-07-26 01:38:...|\n",
      "|   2618|2014-10-16 09:03:...|2015-08-04 17:45:...| 2016-01-12 10:18:...|\n",
      "|   2618|2014-10-16 09:03:...|2015-08-04 17:45:...| 2018-08-01 19:14:...|\n",
      "|  13071|2016-06-05 18:47:...|2016-06-18 12:39:...| 2019-02-12 13:37:...|\n",
      "|   7411|2015-06-05 11:38:...|2016-09-19 15:59:...| 2022-02-18 11:50:...|\n",
      "|   7411|2015-06-05 11:38:...|2016-09-19 15:59:...| 2021-10-14 12:10:...|\n",
      "|   2365|2014-09-06 08:15:...|2017-09-24 16:16:...| 2021-02-15 12:37:...|\n",
      "|   2365|2014-09-06 08:15:...|2017-09-24 16:16:...| 2021-12-26 21:31:...|\n",
      "|   2531|2014-10-04 12:32:...|2018-02-05 16:51:...| 2018-08-17 18:22:...|\n",
      "|   2531|2014-10-04 12:32:...|2018-02-05 16:51:...| 2018-04-08 23:40:...|\n",
      "|   2531|2014-10-04 12:32:...|2018-02-05 16:51:...| 2020-01-29 11:06:...|\n",
      "|   2531|2014-10-04 12:32:...|2018-02-05 16:51:...| 2015-11-03 14:41:...|\n",
      "|   2531|2014-10-04 12:32:...|2018-02-05 16:51:...| 2021-11-02 17:21:...|\n",
      "|   2531|2014-10-04 12:32:...|2018-02-05 16:51:...| 2018-03-15 09:20:...|\n",
      "|   6841|2015-03-23 12:08:...|2018-03-25 11:46:...| 2017-10-05 06:04:...|\n",
      "|   6841|2015-03-23 12:08:...|2018-03-25 11:46:...| 2017-12-22 22:16:...|\n",
      "|   6841|2015-03-23 12:08:...|2018-03-25 11:46:...| 2017-06-04 23:50:...|\n",
      "+-------+--------------------+--------------------+---------------------+\n",
      "only showing top 20 rows"
     ]
    }
   ],
   "source": [
    "temp2 = temp \\\n",
    "            .join(comment_id_and_creation_date_and_user_id, temp.user_id == comment_id_and_creation_date_and_user_id.comment_owner_id, 'inner') \\\n",
    "            .drop('comment_owner_id') \\\n",
    "            .dropDuplicates()\n",
    "\n",
    "temp2.show()"
   ]
  },
  {
   "cell_type": "code",
   "execution_count": 13,
   "id": "dcdedd55-c5be-43f7-9239-aa29c5643f2d",
   "metadata": {
    "execution": {
     "iopub.execute_input": "2023-01-30T21:45:13.474225Z",
     "iopub.status.busy": "2023-01-30T21:45:13.473884Z",
     "iopub.status.idle": "2023-01-30T21:45:13.741860Z",
     "shell.execute_reply": "2023-01-30T21:45:13.740961Z",
     "shell.execute_reply.started": "2023-01-30T21:45:13.474189Z"
    },
    "tags": []
   },
   "outputs": [
    {
     "data": {
      "application/vnd.jupyter.widget-view+json": {
       "model_id": "849effa8e1f34eedbff19c811860fdd2",
       "version_major": 2,
       "version_minor": 0
      },
      "text/plain": [
       "VBox()"
      ]
     },
     "metadata": {},
     "output_type": "display_data"
    },
    {
     "data": {
      "application/vnd.jupyter.widget-view+json": {
       "model_id": "",
       "version_major": 2,
       "version_minor": 0
      },
      "text/plain": [
       "FloatProgress(value=0.0, bar_style='info', description='Progress:', layout=Layout(height='25px', width='50%'),…"
      ]
     },
     "metadata": {},
     "output_type": "display_data"
    }
   ],
   "source": [
    "user_id_and_last_post_date = temp2.select(\n",
    "    'user_id', 'post_creation_date').groupBy('user_id').agg(\n",
    "        f.max('post_creation_date').alias('last_post_date')).withColumnRenamed(\n",
    "            'user_id', 'user_id1')\n",
    "user_id_and_last_comment_date = temp2.select(\n",
    "    'user_id', 'comment_creation_date').groupBy('user_id').agg(\n",
    "        f.max('comment_creation_date').alias(\n",
    "            'last_comment_date')).withColumnRenamed('user_id', 'user_id2')"
   ]
  },
  {
   "cell_type": "code",
   "execution_count": 14,
   "id": "9d608909-4c8c-478b-ab0e-10e770eabc49",
   "metadata": {
    "execution": {
     "iopub.execute_input": "2023-01-30T21:45:13.743233Z",
     "iopub.status.busy": "2023-01-30T21:45:13.742996Z",
     "iopub.status.idle": "2023-01-30T21:45:23.115269Z",
     "shell.execute_reply": "2023-01-30T21:45:23.114201Z",
     "shell.execute_reply.started": "2023-01-30T21:45:13.743204Z"
    },
    "tags": []
   },
   "outputs": [
    {
     "data": {
      "application/vnd.jupyter.widget-view+json": {
       "model_id": "761ffedc706d449cbccddec09969ed33",
       "version_major": 2,
       "version_minor": 0
      },
      "text/plain": [
       "VBox()"
      ]
     },
     "metadata": {},
     "output_type": "display_data"
    },
    {
     "data": {
      "application/vnd.jupyter.widget-view+json": {
       "model_id": "",
       "version_major": 2,
       "version_minor": 0
      },
      "text/plain": [
       "FloatProgress(value=0.0, bar_style='info', description='Progress:', layout=Layout(height='25px', width='50%'),…"
      ]
     },
     "metadata": {},
     "output_type": "display_data"
    },
    {
     "name": "stdout",
     "output_type": "stream",
     "text": [
      "+-----------------+----------------+\n",
      "|user_display_name|time_passed_days|\n",
      "+-----------------+----------------+\n",
      "|       Rory Alsop|          3353.0|\n",
      "|        Community|          3342.0|\n",
      "|       dotancohen|          3326.0|\n",
      "|         astabada|          3313.0|\n",
      "|         pohuigin|          3311.0|\n",
      "|    Jason Goemaat|          3309.0|\n",
      "|          Gabriel|          3307.0|\n",
      "|           Jordan|          3272.0|\n",
      "|           Mike G|          3269.0|\n",
      "|   Ilmari Karonen|          3263.0|\n",
      "+-----------------+----------------+\n",
      "only showing top 10 rows"
     ]
    }
   ],
   "source": [
    "temp3 = temp2 \\\n",
    "                                .drop('post_creation_date', 'comment_creation_date') \\\n",
    "                                .distinct() \\\n",
    "                                .join(user_id_and_last_post_date, temp2.user_id == user_id_and_last_post_date.user_id1, 'inner') \\\n",
    "                                .drop('user_id1') \\\n",
    "                                .join(user_id_and_last_comment_date, temp2.user_id == user_id_and_last_comment_date.user_id2, 'inner') \\\n",
    "                                .drop('user_id2') \\\n",
    "                                .withColumn('last_activity', f.greatest('last_post_date', 'last_comment_date')) \\\n",
    "                                .drop('last_post_date', 'last_comment_date') \\\n",
    "                                .withColumn('time_passed', f.unix_timestamp(\"last_activity\") - f.unix_timestamp(\"user_creation_date\")) \\\n",
    "                                .drop('user_creation_date', 'last_activity') \\\n",
    "                                .withColumn('time_passed_days', f.round(f.col('time_passed') / (24*3600))) \\\n",
    "                                .drop('time_passed') \\\n",
    "                                .withColumnRenamed('user_id', 'user_id1') \\\n",
    "\n",
    "user_name_and_time_passed = temp3.join(users_df, users_df.user_id == temp3.user_id1, 'inner') \\\n",
    "                                .select('user_display_name', 'time_passed_days') \\\n",
    "                                .orderBy(f.col('time_passed_days').desc())\n",
    "\n",
    "user_name_and_time_passed.show(10)"
   ]
  },
  {
   "cell_type": "markdown",
   "id": "9a88aa20-70e9-4855-9d84-7edac32e1670",
   "metadata": {},
   "source": [
    "## 3. Porównanie najwyżej i najniżej ocenianych pytań (długość, tagi, liczba odpowiedzi)"
   ]
  },
  {
   "cell_type": "code",
   "execution_count": 15,
   "id": "5b820065-b942-433d-883d-eb45b0ec87ae",
   "metadata": {
    "execution": {
     "iopub.execute_input": "2023-01-30T21:45:23.117248Z",
     "iopub.status.busy": "2023-01-30T21:45:23.116893Z",
     "iopub.status.idle": "2023-01-30T21:45:23.385077Z",
     "shell.execute_reply": "2023-01-30T21:45:23.384325Z",
     "shell.execute_reply.started": "2023-01-30T21:45:23.117212Z"
    },
    "tags": []
   },
   "outputs": [
    {
     "data": {
      "application/vnd.jupyter.widget-view+json": {
       "model_id": "5c42baa6e2ca40e0a2dd1a830f7b6061",
       "version_major": 2,
       "version_minor": 0
      },
      "text/plain": [
       "VBox()"
      ]
     },
     "metadata": {},
     "output_type": "display_data"
    },
    {
     "data": {
      "application/vnd.jupyter.widget-view+json": {
       "model_id": "",
       "version_major": 2,
       "version_minor": 0
      },
      "text/plain": [
       "FloatProgress(value=0.0, bar_style='info', description='Progress:', layout=Layout(height='25px', width='50%'),…"
      ]
     },
     "metadata": {},
     "output_type": "display_data"
    }
   ],
   "source": [
    "lowest_rated_question = posts_df.filter(f.col('post_type_id') == 1) \\\n",
    "                                .select('post_id', 'post_title', 'post_body', 'post_answer_count', 'post_tags', 'post_view_count', 'post_score') \\\n",
    "                                .orderBy('post_score') \\\n",
    "                                .limit(1)\n",
    "\n",
    "highest_rated_question = posts_df.filter(f.col('post_type_id') == 1) \\\n",
    "                                .select('post_id', 'post_title', 'post_body', 'post_answer_count', 'post_tags', 'post_view_count', 'post_score') \\\n",
    "                                .orderBy(f.col('post_score').desc()) \\\n",
    "                                .limit(1)"
   ]
  },
  {
   "cell_type": "code",
   "execution_count": 16,
   "id": "0bf3b8f4-9ecc-447f-a0e1-3269523d9857",
   "metadata": {
    "execution": {
     "iopub.execute_input": "2023-01-30T21:45:23.386327Z",
     "iopub.status.busy": "2023-01-30T21:45:23.386100Z",
     "iopub.status.idle": "2023-01-30T21:45:28.700790Z",
     "shell.execute_reply": "2023-01-30T21:45:28.699880Z",
     "shell.execute_reply.started": "2023-01-30T21:45:23.386304Z"
    },
    "tags": []
   },
   "outputs": [
    {
     "data": {
      "application/vnd.jupyter.widget-view+json": {
       "model_id": "5dc54dcc61684763b8bee46f57d28738",
       "version_major": 2,
       "version_minor": 0
      },
      "text/plain": [
       "VBox()"
      ]
     },
     "metadata": {},
     "output_type": "display_data"
    },
    {
     "data": {
      "application/vnd.jupyter.widget-view+json": {
       "model_id": "",
       "version_major": 2,
       "version_minor": 0
      },
      "text/plain": [
       "FloatProgress(value=0.0, bar_style='info', description='Progress:', layout=Layout(height='25px', width='50%'),…"
      ]
     },
     "metadata": {},
     "output_type": "display_data"
    },
    {
     "name": "stdout",
     "output_type": "stream",
     "text": [
      "+-------+--------------------+--------------------+-----------------+---------------+---------------+----------+\n",
      "|post_id|          post_title|           post_body|post_answer_count|      post_tags|post_view_count|post_score|\n",
      "+-------+--------------------+--------------------+-----------------+---------------+---------------+----------+\n",
      "|  49891|What exact materi...|<p>Questions all ...|                3|<star><the-sun>|            145|       -11|\n",
      "+-------+--------------------+--------------------+-----------------+---------------+---------------+----------+\n",
      "\n",
      "+-------+--------------------+--------------------+-----------------+---------+---------------+----------+\n",
      "|post_id|          post_title|           post_body|post_answer_count|post_tags|post_view_count|post_score|\n",
      "+-------+--------------------+--------------------+-----------------+---------+---------------+----------+\n",
      "|  24590|How much gold is ...|<p><a href=\"https...|                2|<the-sun>|          24826|       149|\n",
      "+-------+--------------------+--------------------+-----------------+---------+---------------+----------+"
     ]
    }
   ],
   "source": [
    "lowest_rated_question.show()\n",
    "highest_rated_question.show()"
   ]
  },
  {
   "cell_type": "code",
   "execution_count": 17,
   "id": "221610b9-4a7a-4e1b-8ce1-52be45fe035c",
   "metadata": {
    "execution": {
     "iopub.execute_input": "2023-01-30T21:45:28.702566Z",
     "iopub.status.busy": "2023-01-30T21:45:28.702233Z",
     "iopub.status.idle": "2023-01-30T21:45:28.974827Z",
     "shell.execute_reply": "2023-01-30T21:45:28.974046Z",
     "shell.execute_reply.started": "2023-01-30T21:45:28.702531Z"
    },
    "tags": []
   },
   "outputs": [
    {
     "data": {
      "application/vnd.jupyter.widget-view+json": {
       "model_id": "2390cdfd516b4d99b82189e6bcee6a57",
       "version_major": 2,
       "version_minor": 0
      },
      "text/plain": [
       "VBox()"
      ]
     },
     "metadata": {},
     "output_type": "display_data"
    },
    {
     "data": {
      "application/vnd.jupyter.widget-view+json": {
       "model_id": "",
       "version_major": 2,
       "version_minor": 0
      },
      "text/plain": [
       "FloatProgress(value=0.0, bar_style='info', description='Progress:', layout=Layout(height='25px', width='50%'),…"
      ]
     },
     "metadata": {},
     "output_type": "display_data"
    }
   ],
   "source": [
    "highest_rated_question = highest_rated_question.withColumn(\n",
    "    \"total_length\",\n",
    "    f.length(\"post_title\") + f.length(\"post_body\"))\n",
    "lowest_rated_question = lowest_rated_question.withColumn(\n",
    "    \"total_length\",\n",
    "    f.length(\"post_title\") + f.length(\"post_body\"))"
   ]
  },
  {
   "cell_type": "code",
   "execution_count": 18,
   "id": "8072278f-c083-4264-acd7-703d1336c093",
   "metadata": {
    "execution": {
     "iopub.execute_input": "2023-01-30T21:45:28.976166Z",
     "iopub.status.busy": "2023-01-30T21:45:28.975915Z",
     "iopub.status.idle": "2023-01-30T21:45:34.272385Z",
     "shell.execute_reply": "2023-01-30T21:45:34.271435Z",
     "shell.execute_reply.started": "2023-01-30T21:45:28.976141Z"
    },
    "tags": []
   },
   "outputs": [
    {
     "data": {
      "application/vnd.jupyter.widget-view+json": {
       "model_id": "0722755822d449609fd0f19610f96953",
       "version_major": 2,
       "version_minor": 0
      },
      "text/plain": [
       "VBox()"
      ]
     },
     "metadata": {},
     "output_type": "display_data"
    },
    {
     "data": {
      "application/vnd.jupyter.widget-view+json": {
       "model_id": "",
       "version_major": 2,
       "version_minor": 0
      },
      "text/plain": [
       "FloatProgress(value=0.0, bar_style='info', description='Progress:', layout=Layout(height='25px', width='50%'),…"
      ]
     },
     "metadata": {},
     "output_type": "display_data"
    },
    {
     "name": "stdout",
     "output_type": "stream",
     "text": [
      "+-------+--------------------+--------------------+-----------------+---------------+---------------+----------+------------+\n",
      "|post_id|          post_title|           post_body|post_answer_count|      post_tags|post_view_count|post_score|total_length|\n",
      "+-------+--------------------+--------------------+-----------------+---------------+---------------+----------+------------+\n",
      "|  49891|What exact materi...|<p>Questions all ...|                3|<star><the-sun>|            145|       -11|         743|\n",
      "+-------+--------------------+--------------------+-----------------+---------------+---------------+----------+------------+\n",
      "\n",
      "+-------+--------------------+--------------------+-----------------+---------+---------------+----------+------------+\n",
      "|post_id|          post_title|           post_body|post_answer_count|post_tags|post_view_count|post_score|total_length|\n",
      "+-------+--------------------+--------------------+-----------------+---------+---------------+----------+------------+\n",
      "|  24590|How much gold is ...|<p><a href=\"https...|                2|<the-sun>|          24826|       149|         349|\n",
      "+-------+--------------------+--------------------+-----------------+---------+---------------+----------+------------+"
     ]
    }
   ],
   "source": [
    "lowest_rated_question.show()\n",
    "highest_rated_question.show()\n",
    "\n",
    "# sprawdzić liczbę komentarzy?"
   ]
  },
  {
   "cell_type": "markdown",
   "id": "5fd8b2b2-0987-4ffe-92a1-f85b4b3456d0",
   "metadata": {},
   "source": [
    "## 4. Procent przypadków kiedy najwyżej oceniana odpowiedź to nie zaakceptowana odpowiedź"
   ]
  },
  {
   "cell_type": "code",
   "execution_count": 19,
   "id": "2e5e1f93-9d76-49a1-ab4c-30317fdf13ae",
   "metadata": {
    "execution": {
     "iopub.execute_input": "2023-01-30T21:45:34.274113Z",
     "iopub.status.busy": "2023-01-30T21:45:34.273758Z",
     "iopub.status.idle": "2023-01-30T21:45:34.544852Z",
     "shell.execute_reply": "2023-01-30T21:45:34.543987Z",
     "shell.execute_reply.started": "2023-01-30T21:45:34.274076Z"
    },
    "tags": []
   },
   "outputs": [
    {
     "data": {
      "application/vnd.jupyter.widget-view+json": {
       "model_id": "bf414df771cd424385bf87a595288ccb",
       "version_major": 2,
       "version_minor": 0
      },
      "text/plain": [
       "VBox()"
      ]
     },
     "metadata": {},
     "output_type": "display_data"
    },
    {
     "data": {
      "application/vnd.jupyter.widget-view+json": {
       "model_id": "",
       "version_major": 2,
       "version_minor": 0
      },
      "text/plain": [
       "FloatProgress(value=0.0, bar_style='info', description='Progress:', layout=Layout(height='25px', width='50%'),…"
      ]
     },
     "metadata": {},
     "output_type": "display_data"
    }
   ],
   "source": [
    "just_answers = posts_df.select('post_id', 'post_parent_id', 'post_score').filter(f.col('post_type_id') == 2).withColumnRenamed('post_score', 'answer_score').withColumnRenamed('post_id', 'answer_id').withColumnRenamed('post_score', 'answer_score')\n",
    "just_questions = posts_df.select('post_id', 'accepted_answer_id').filter(f.col('post_type_id') == 1)"
   ]
  },
  {
   "cell_type": "code",
   "execution_count": 20,
   "id": "92107929-ea2d-4a99-9b47-9ac714abdadd",
   "metadata": {
    "execution": {
     "iopub.execute_input": "2023-01-30T21:45:34.546177Z",
     "iopub.status.busy": "2023-01-30T21:45:34.545953Z",
     "iopub.status.idle": "2023-01-30T21:45:37.830195Z",
     "shell.execute_reply": "2023-01-30T21:45:37.829469Z",
     "shell.execute_reply.started": "2023-01-30T21:45:34.546155Z"
    },
    "tags": []
   },
   "outputs": [
    {
     "data": {
      "application/vnd.jupyter.widget-view+json": {
       "model_id": "12fe2ee7f5eb46d6ab2817d93444ef08",
       "version_major": 2,
       "version_minor": 0
      },
      "text/plain": [
       "VBox()"
      ]
     },
     "metadata": {},
     "output_type": "display_data"
    },
    {
     "data": {
      "application/vnd.jupyter.widget-view+json": {
       "model_id": "",
       "version_major": 2,
       "version_minor": 0
      },
      "text/plain": [
       "FloatProgress(value=0.0, bar_style='info', description='Progress:', layout=Layout(height='25px', width='50%'),…"
      ]
     },
     "metadata": {},
     "output_type": "display_data"
    },
    {
     "name": "stdout",
     "output_type": "stream",
     "text": [
      "+-------+---------+------------------+------------+\n",
      "|post_id|answer_id|accepted_answer_id|answer_score|\n",
      "+-------+---------+------------------+------------+\n",
      "|      1|      879|               879|          16|\n",
      "|      1|      652|               879|           9|\n",
      "|      2|       45|                45|          13|\n",
      "|      3|       61|              null|           7|\n",
      "|      3|     1441|              null|           3|\n",
      "|      4|        5|                 5|          27|\n",
      "|      4|      343|                 5|           7|\n",
      "|      7|        8|                 8|          12|\n",
      "|      7|      817|                 8|           2|\n",
      "|      7|      818|                 8|          11|\n",
      "|      9|       41|                35|          12|\n",
      "|      9|       35|                35|          16|\n",
      "|      9|       46|                35|          14|\n",
      "|     14|       21|                21|          10|\n",
      "|     15|       28|                43|          19|\n",
      "|     15|     2068|                43|           2|\n",
      "|     15|       43|                43|          22|\n",
      "|     15|     1577|                43|           5|\n",
      "|     16|      519|                22|          19|\n",
      "|     16|       23|                22|          26|\n",
      "+-------+---------+------------------+------------+\n",
      "only showing top 20 rows"
     ]
    }
   ],
   "source": [
    "answers_with_question = just_questions.join(just_answers, just_answers.post_parent_id == just_questions.post_id, 'inner').select('post_id', 'answer_id', 'accepted_answer_id', 'answer_score').orderBy('post_id')\n",
    "answers_with_question.show()"
   ]
  },
  {
   "cell_type": "code",
   "execution_count": 21,
   "id": "62f86af5-4022-40bb-91bf-c2d1b8302f30",
   "metadata": {
    "execution": {
     "iopub.execute_input": "2023-01-30T21:45:37.831480Z",
     "iopub.status.busy": "2023-01-30T21:45:37.831225Z",
     "iopub.status.idle": "2023-01-30T21:45:43.121160Z",
     "shell.execute_reply": "2023-01-30T21:45:43.120326Z",
     "shell.execute_reply.started": "2023-01-30T21:45:37.831457Z"
    },
    "tags": []
   },
   "outputs": [
    {
     "data": {
      "application/vnd.jupyter.widget-view+json": {
       "model_id": "25d6a1fac666448daf86902171395e99",
       "version_major": 2,
       "version_minor": 0
      },
      "text/plain": [
       "VBox()"
      ]
     },
     "metadata": {},
     "output_type": "display_data"
    },
    {
     "data": {
      "application/vnd.jupyter.widget-view+json": {
       "model_id": "",
       "version_major": 2,
       "version_minor": 0
      },
      "text/plain": [
       "FloatProgress(value=0.0, bar_style='info', description='Progress:', layout=Layout(height='25px', width='50%'),…"
      ]
     },
     "metadata": {},
     "output_type": "display_data"
    },
    {
     "name": "stdout",
     "output_type": "stream",
     "text": [
      "+--------------+---------+\n",
      "|post_parent_id|max_score|\n",
      "+--------------+---------+\n",
      "|             1|       16|\n",
      "|             2|       13|\n",
      "|             3|        7|\n",
      "|             4|       27|\n",
      "|             7|       12|\n",
      "|             9|       16|\n",
      "|            14|       10|\n",
      "|            15|       22|\n",
      "|            16|       77|\n",
      "|            24|       37|\n",
      "|            26|       19|\n",
      "|            27|       14|\n",
      "|            33|       16|\n",
      "|            34|        9|\n",
      "|            38|       19|\n",
      "|            39|        7|\n",
      "|            42|       14|\n",
      "|            47|       11|\n",
      "|            52|       12|\n",
      "|            58|       12|\n",
      "+--------------+---------+\n",
      "only showing top 20 rows"
     ]
    }
   ],
   "source": [
    "max_scores = answers_with_question.groupBy('post_id').agg(f.max(answers_with_question.answer_score).alias('max_score')).withColumnRenamed('post_id', 'post_parent_id').orderBy('post_id')\n",
    "max_scores.show()"
   ]
  },
  {
   "cell_type": "code",
   "execution_count": 22,
   "id": "d2ade47f-1e46-4e4c-878a-0daf034c8f83",
   "metadata": {
    "execution": {
     "iopub.execute_input": "2023-01-30T21:45:43.122919Z",
     "iopub.status.busy": "2023-01-30T21:45:43.122585Z",
     "iopub.status.idle": "2023-01-30T21:45:50.421011Z",
     "shell.execute_reply": "2023-01-30T21:45:50.420212Z",
     "shell.execute_reply.started": "2023-01-30T21:45:43.122882Z"
    },
    "tags": []
   },
   "outputs": [
    {
     "data": {
      "application/vnd.jupyter.widget-view+json": {
       "model_id": "8eb969224298427bb01c142715ae2bb2",
       "version_major": 2,
       "version_minor": 0
      },
      "text/plain": [
       "VBox()"
      ]
     },
     "metadata": {},
     "output_type": "display_data"
    },
    {
     "data": {
      "application/vnd.jupyter.widget-view+json": {
       "model_id": "",
       "version_major": 2,
       "version_minor": 0
      },
      "text/plain": [
       "FloatProgress(value=0.0, bar_style='info', description='Progress:', layout=Layout(height='25px', width='50%'),…"
      ]
     },
     "metadata": {},
     "output_type": "display_data"
    },
    {
     "name": "stdout",
     "output_type": "stream",
     "text": [
      "+-----------+--------------+----------------------------+----------------+\n",
      "|question_id|best_answer_id|questions_accepted_answer_id|top_answer_score|\n",
      "+-----------+--------------+----------------------------+----------------+\n",
      "|         24|           224|                          40|              37|\n",
      "|         66|           120|                       18998|               5|\n",
      "|         75|            78|                         242|              15|\n",
      "|         94|            95|                         180|              34|\n",
      "|         96|           105|                          97|              12|\n",
      "|        101|           108|                       17933|               7|\n",
      "|        115|           127|                         236|               7|\n",
      "|        220|           711|                         235|              13|\n",
      "|        225|           230|                         250|               5|\n",
      "|        246|           258|                       13122|               5|\n",
      "|        253|           257|                         277|              15|\n",
      "|        266|           268|                         419|               7|\n",
      "|        332|          1337|                         353|               5|\n",
      "|        484|         18045|                         485|              15|\n",
      "|        498|           502|                        2011|              10|\n",
      "|        539|           592|                         544|              95|\n",
      "|        546|           578|                         547|              21|\n",
      "|        575|           577|                       22611|               8|\n",
      "|        609|           610|                       11625|               6|\n",
      "|        697|         25863|                         831|              11|\n",
      "+-----------+--------------+----------------------------+----------------+\n",
      "only showing top 20 rows"
     ]
    }
   ],
   "source": [
    "result = answers_with_question.join(max_scores, \n",
    "                                     (answers_with_question.post_id == max_scores.post_parent_id) & \n",
    "                                     (answers_with_question.answer_score == max_scores.max_score), \n",
    "                                     'inner') \\\n",
    "                                .drop('post_parent_id') \\\n",
    "                                .fillna(0, 'max_score') \\\n",
    "                                .withColumnRenamed('post_id', 'question_id') \\\n",
    "                                .withColumnRenamed('answer_score', 'top_answer_score') \\\n",
    "                                .withColumnRenamed('accepted_answer_id', 'questions_accepted_answer_id') \\\n",
    "                                .withColumnRenamed('answer_id', 'best_answer_id') \\\n",
    "                                .drop('max_score') \\\n",
    "                                .orderBy('question_id')\n",
    "\n",
    "result = result.filter(result.best_answer_id != result.questions_accepted_answer_id)\n",
    "result.show()"
   ]
  },
  {
   "cell_type": "code",
   "execution_count": 23,
   "id": "6d21772e-f990-4dad-be79-590828630464",
   "metadata": {
    "execution": {
     "iopub.execute_input": "2023-01-30T21:45:50.422285Z",
     "iopub.status.busy": "2023-01-30T21:45:50.422018Z",
     "iopub.status.idle": "2023-01-30T21:45:59.772660Z",
     "shell.execute_reply": "2023-01-30T21:45:59.771745Z",
     "shell.execute_reply.started": "2023-01-30T21:45:50.422260Z"
    },
    "tags": []
   },
   "outputs": [
    {
     "data": {
      "application/vnd.jupyter.widget-view+json": {
       "model_id": "e2c795d7e156430da838c51bb72fea4a",
       "version_major": 2,
       "version_minor": 0
      },
      "text/plain": [
       "VBox()"
      ]
     },
     "metadata": {},
     "output_type": "display_data"
    },
    {
     "data": {
      "application/vnd.jupyter.widget-view+json": {
       "model_id": "",
       "version_major": 2,
       "version_minor": 0
      },
      "text/plain": [
       "FloatProgress(value=0.0, bar_style='info', description='Progress:', layout=Layout(height='25px', width='50%'),…"
      ]
     },
     "metadata": {},
     "output_type": "display_data"
    },
    {
     "name": "stdout",
     "output_type": "stream",
     "text": [
      "+-----------+--------------+----------------------------+----------------+---------------------+\n",
      "|question_id|best_answer_id|questions_accepted_answer_id|top_answer_score|accepted_answer_score|\n",
      "+-----------+--------------+----------------------------+----------------+---------------------+\n",
      "|         24|           224|                          40|              37|                   24|\n",
      "|         66|           120|                       18998|               5|                    2|\n",
      "|         75|            78|                         242|              15|                   13|\n",
      "|         94|            95|                         180|              34|                   13|\n",
      "|         96|           105|                          97|              12|                   12|\n",
      "|        101|           108|                       17933|               7|                    2|\n",
      "|        115|           127|                         236|               7|                    5|\n",
      "|        220|           711|                         235|              13|                   11|\n",
      "|        225|           230|                         250|               5|                    5|\n",
      "|        246|           258|                       13122|               5|                    3|\n",
      "|        253|           257|                         277|              15|                    6|\n",
      "|        266|           268|                         419|               7|                    3|\n",
      "|        332|          1337|                         353|               5|                    5|\n",
      "|        484|         18045|                         485|              15|                   12|\n",
      "|        498|           502|                        2011|              10|                    7|\n",
      "|        539|           592|                         544|              95|                   84|\n",
      "|        546|           578|                         547|              21|                   18|\n",
      "|        575|           577|                       22611|               8|                    3|\n",
      "|        609|           610|                       11625|               6|                    4|\n",
      "|        697|         25863|                         831|              11|                   11|\n",
      "+-----------+--------------+----------------------------+----------------+---------------------+\n",
      "only showing top 20 rows"
     ]
    }
   ],
   "source": [
    "result = result.join(posts_df, result.questions_accepted_answer_id == posts_df.post_id, 'inner') \\\n",
    "                .select('question_id', 'best_answer_id', 'questions_accepted_answer_id', 'top_answer_score' , 'post_score') \\\n",
    "                .withColumnRenamed('post_score', 'accepted_answer_score') \\\n",
    "                .orderBy('question_id')\n",
    "\n",
    "result.show()"
   ]
  },
  {
   "cell_type": "code",
   "execution_count": 24,
   "id": "46c7c2d5-67f5-49df-8f8d-e586675c16ed",
   "metadata": {
    "execution": {
     "iopub.execute_input": "2023-01-30T21:45:59.774332Z",
     "iopub.status.busy": "2023-01-30T21:45:59.774001Z",
     "iopub.status.idle": "2023-01-30T21:46:11.087181Z",
     "shell.execute_reply": "2023-01-30T21:46:11.086356Z",
     "shell.execute_reply.started": "2023-01-30T21:45:59.774297Z"
    },
    "tags": []
   },
   "outputs": [
    {
     "data": {
      "application/vnd.jupyter.widget-view+json": {
       "model_id": "84b66ca6d3464f98ab98ca6e0e7e98a4",
       "version_major": 2,
       "version_minor": 0
      },
      "text/plain": [
       "VBox()"
      ]
     },
     "metadata": {},
     "output_type": "display_data"
    },
    {
     "data": {
      "application/vnd.jupyter.widget-view+json": {
       "model_id": "",
       "version_major": 2,
       "version_minor": 0
      },
      "text/plain": [
       "FloatProgress(value=0.0, bar_style='info', description='Progress:', layout=Layout(height='25px', width='50%'),…"
      ]
     },
     "metadata": {},
     "output_type": "display_data"
    },
    {
     "name": "stdout",
     "output_type": "stream",
     "text": [
      "3.8652076868637377"
     ]
    }
   ],
   "source": [
    "num_not_accepted = result.count()\n",
    "num_total = just_answers.count()\n",
    "percent = (num_not_accepted / num_total) * 100\n",
    "print(percent)"
   ]
  },
  {
   "cell_type": "markdown",
   "id": "03f68456-c269-49e4-b96a-b1fd53688806",
   "metadata": {},
   "source": [
    "## 5. Rozkład ocen odpowiedzi zaakceptowanych vs pozostałych (średnia, odchylenie, minimum, maksimum)"
   ]
  },
  {
   "cell_type": "code",
   "execution_count": 25,
   "id": "f406272b-b86c-41bb-882a-1ede4ac6ffe7",
   "metadata": {
    "execution": {
     "iopub.execute_input": "2023-01-30T21:46:11.088867Z",
     "iopub.status.busy": "2023-01-30T21:46:11.088534Z",
     "iopub.status.idle": "2023-01-30T21:46:11.855207Z",
     "shell.execute_reply": "2023-01-30T21:46:11.854457Z",
     "shell.execute_reply.started": "2023-01-30T21:46:11.088833Z"
    },
    "tags": []
   },
   "outputs": [
    {
     "data": {
      "application/vnd.jupyter.widget-view+json": {
       "model_id": "76f76ccaa9c1472ebdea27ed0c6b491a",
       "version_major": 2,
       "version_minor": 0
      },
      "text/plain": [
       "VBox()"
      ]
     },
     "metadata": {},
     "output_type": "display_data"
    },
    {
     "data": {
      "application/vnd.jupyter.widget-view+json": {
       "model_id": "",
       "version_major": 2,
       "version_minor": 0
      },
      "text/plain": [
       "FloatProgress(value=0.0, bar_style='info', description='Progress:', layout=Layout(height='25px', width='50%'),…"
      ]
     },
     "metadata": {},
     "output_type": "display_data"
    },
    {
     "name": "stdout",
     "output_type": "stream",
     "text": [
      "+---------+------------+\n",
      "|answer_id|answer_score|\n",
      "+---------+------------+\n",
      "|     1228|          10|\n",
      "|     6103|           3|\n",
      "|     6219|           4|\n",
      "|    12538|          11|\n",
      "|    19510|           6|\n",
      "|    24691|           1|\n",
      "|    25688|           3|\n",
      "|    26680|           1|\n",
      "|     6121|           2|\n",
      "|    11485|           5|\n",
      "|    16282|           6|\n",
      "|    18398|           1|\n",
      "|    19801|           4|\n",
      "|    20596|           8|\n",
      "|    20837|           1|\n",
      "|    22832|           5|\n",
      "|    24912|           2|\n",
      "|    25280|           5|\n",
      "|    25621|           1|\n",
      "|    33330|           1|\n",
      "+---------+------------+\n",
      "only showing top 20 rows"
     ]
    }
   ],
   "source": [
    "all_answers = posts_df \\\n",
    "            .filter(f.col('post_type_id') == 2) \\\n",
    "            .select('post_id', 'post_score') \\\n",
    "            .withColumnRenamed('post_id', 'answer_id') \\\n",
    "            .withColumnRenamed('post_score', 'answer_score')\n",
    "\n",
    "all_answers.show()"
   ]
  },
  {
   "cell_type": "code",
   "execution_count": 26,
   "id": "6648cef2-d577-4ea8-bcd6-70434d680d67",
   "metadata": {
    "execution": {
     "iopub.execute_input": "2023-01-30T21:46:11.856572Z",
     "iopub.status.busy": "2023-01-30T21:46:11.856337Z",
     "iopub.status.idle": "2023-01-30T21:46:17.171517Z",
     "shell.execute_reply": "2023-01-30T21:46:17.170769Z",
     "shell.execute_reply.started": "2023-01-30T21:46:11.856548Z"
    },
    "tags": []
   },
   "outputs": [
    {
     "data": {
      "application/vnd.jupyter.widget-view+json": {
       "model_id": "dd13dba73802428fa63bd7af9b022da4",
       "version_major": 2,
       "version_minor": 0
      },
      "text/plain": [
       "VBox()"
      ]
     },
     "metadata": {},
     "output_type": "display_data"
    },
    {
     "data": {
      "application/vnd.jupyter.widget-view+json": {
       "model_id": "",
       "version_major": 2,
       "version_minor": 0
      },
      "text/plain": [
       "FloatProgress(value=0.0, bar_style='info', description='Progress:', layout=Layout(height='25px', width='50%'),…"
      ]
     },
     "metadata": {},
     "output_type": "display_data"
    },
    {
     "name": "stdout",
     "output_type": "stream",
     "text": [
      "+-------+---------+------------+\n",
      "|post_id|answer_id|answer_score|\n",
      "+-------+---------+------------+\n",
      "|    539|      544|          84|\n",
      "|   1727|     1734|           6|\n",
      "|  15109|    15111|           5|\n",
      "|  47854|    47856|           6|\n",
      "|  13261|    13264|           0|\n",
      "|  34366|    34390|           8|\n",
      "|  44533|    44541|           3|\n",
      "|  15013|    15014|           1|\n",
      "|  28800|    28801|          12|\n",
      "|  31965|    31968|           4|\n",
      "|  34831|    34852|           4|\n",
      "|   9919|     9922|           4|\n",
      "|  24670|    26341|           0|\n",
      "|  37102|    37104|           4|\n",
      "|   8080|     8089|           4|\n",
      "|   1143|     1144|           3|\n",
      "|  39938|    39940|           4|\n",
      "|   4836|     4840|           2|\n",
      "|  18414|    18419|           1|\n",
      "|  47349|    47357|           3|\n",
      "+-------+---------+------------+\n",
      "only showing top 20 rows"
     ]
    }
   ],
   "source": [
    "accepted_answers = all_answers.join(\n",
    "    posts_df, posts_df.accepted_answer_id == all_answers.answer_id,\n",
    "    'inner').select('post_id', 'answer_id', 'answer_score').dropDuplicates()\n",
    "accepted_answers.show()\n",
    "accepted_answers = accepted_answers.drop('post_id')"
   ]
  },
  {
   "cell_type": "code",
   "execution_count": 27,
   "id": "2f236724-a284-42fd-905b-dddbdb15dbc4",
   "metadata": {
    "execution": {
     "iopub.execute_input": "2023-01-30T21:46:17.172793Z",
     "iopub.status.busy": "2023-01-30T21:46:17.172559Z",
     "iopub.status.idle": "2023-01-30T21:46:22.483379Z",
     "shell.execute_reply": "2023-01-30T21:46:22.482609Z",
     "shell.execute_reply.started": "2023-01-30T21:46:17.172770Z"
    },
    "tags": []
   },
   "outputs": [
    {
     "data": {
      "application/vnd.jupyter.widget-view+json": {
       "model_id": "2f381bbe10274105b55fcc34d40a0486",
       "version_major": 2,
       "version_minor": 0
      },
      "text/plain": [
       "VBox()"
      ]
     },
     "metadata": {},
     "output_type": "display_data"
    },
    {
     "data": {
      "application/vnd.jupyter.widget-view+json": {
       "model_id": "",
       "version_major": 2,
       "version_minor": 0
      },
      "text/plain": [
       "FloatProgress(value=0.0, bar_style='info', description='Progress:', layout=Layout(height='25px', width='50%'),…"
      ]
     },
     "metadata": {},
     "output_type": "display_data"
    },
    {
     "name": "stdout",
     "output_type": "stream",
     "text": [
      "+---------+------------+\n",
      "|answer_id|answer_score|\n",
      "+---------+------------+\n",
      "|    16526|           4|\n",
      "|    19187|           1|\n",
      "|    39683|           7|\n",
      "|    26442|           2|\n",
      "|    40008|           2|\n",
      "|    17828|          -3|\n",
      "|     6013|           4|\n",
      "|    16209|           2|\n",
      "|    13758|           0|\n",
      "|    49320|           3|\n",
      "|    11868|           9|\n",
      "|    14012|           1|\n",
      "|     8834|           2|\n",
      "|    19052|           2|\n",
      "|    45257|          -1|\n",
      "|    20940|           3|\n",
      "|    29074|          -2|\n",
      "|    50022|           4|\n",
      "|    44762|           8|\n",
      "|    19472|           3|\n",
      "+---------+------------+\n",
      "only showing top 20 rows"
     ]
    }
   ],
   "source": [
    "remaining_answers = all_answers.subtract(accepted_answers)\n",
    "remaining_answers.show()"
   ]
  },
  {
   "cell_type": "code",
   "execution_count": 28,
   "id": "e2997dd6-a0ae-4282-8ba5-a2fc431f6e64",
   "metadata": {
    "execution": {
     "iopub.execute_input": "2023-01-30T21:46:22.484788Z",
     "iopub.status.busy": "2023-01-30T21:46:22.484536Z",
     "iopub.status.idle": "2023-01-30T21:46:22.756887Z",
     "shell.execute_reply": "2023-01-30T21:46:22.756060Z",
     "shell.execute_reply.started": "2023-01-30T21:46:22.484764Z"
    },
    "tags": []
   },
   "outputs": [
    {
     "data": {
      "application/vnd.jupyter.widget-view+json": {
       "model_id": "d8ae1f915eee4e56b7354bced88b3eed",
       "version_major": 2,
       "version_minor": 0
      },
      "text/plain": [
       "VBox()"
      ]
     },
     "metadata": {},
     "output_type": "display_data"
    },
    {
     "data": {
      "application/vnd.jupyter.widget-view+json": {
       "model_id": "",
       "version_major": 2,
       "version_minor": 0
      },
      "text/plain": [
       "FloatProgress(value=0.0, bar_style='info', description='Progress:', layout=Layout(height='25px', width='50%'),…"
      ]
     },
     "metadata": {},
     "output_type": "display_data"
    }
   ],
   "source": [
    "accepted_agg_df = accepted_answers.select(\n",
    "    f.mean(\"answer_score\").alias(\"mean\"),\n",
    "    f.stddev(\"answer_score\").alias(\"stddev\"),\n",
    "    f.min(\"answer_score\").alias(\"min\"),\n",
    "    f.max(\"answer_score\").alias(\"max\"))\n",
    "\n",
    "remaining_agg_df = remaining_answers.select(\n",
    "    f.mean(\"answer_score\").alias(\"mean\"),\n",
    "    f.stddev(\"answer_score\").alias(\"stddev\"),\n",
    "    f.min(\"answer_score\").alias(\"min\"),\n",
    "    f.max(\"answer_score\").alias(\"max\"))"
   ]
  },
  {
   "cell_type": "code",
   "execution_count": 29,
   "id": "d0e6cf43-fb07-4b90-bbd4-4fed8496bd15",
   "metadata": {
    "execution": {
     "iopub.execute_input": "2023-01-30T21:46:22.758254Z",
     "iopub.status.busy": "2023-01-30T21:46:22.758012Z",
     "iopub.status.idle": "2023-01-30T21:46:32.089068Z",
     "shell.execute_reply": "2023-01-30T21:46:32.088195Z",
     "shell.execute_reply.started": "2023-01-30T21:46:22.758230Z"
    },
    "tags": []
   },
   "outputs": [
    {
     "data": {
      "application/vnd.jupyter.widget-view+json": {
       "model_id": "8a064b1857e746d785deafde288a6b7e",
       "version_major": 2,
       "version_minor": 0
      },
      "text/plain": [
       "VBox()"
      ]
     },
     "metadata": {},
     "output_type": "display_data"
    },
    {
     "data": {
      "application/vnd.jupyter.widget-view+json": {
       "model_id": "",
       "version_major": 2,
       "version_minor": 0
      },
      "text/plain": [
       "FloatProgress(value=0.0, bar_style='info', description='Progress:', layout=Layout(height='25px', width='50%'),…"
      ]
     },
     "metadata": {},
     "output_type": "display_data"
    },
    {
     "name": "stdout",
     "output_type": "stream",
     "text": [
      "+-----------------+-----------------+---+---+\n",
      "|             mean|           stddev|min|max|\n",
      "+-----------------+-----------------+---+---+\n",
      "|7.093415699864397|9.861305233491638|-13|170|\n",
      "+-----------------+-----------------+---+---+\n",
      "\n",
      "+------------------+-----------------+---+---+\n",
      "|              mean|           stddev|min|max|\n",
      "+------------------+-----------------+---+---+\n",
      "|3.9393965223320833|6.101700461621048|-12| 95|\n",
      "+------------------+-----------------+---+---+"
     ]
    }
   ],
   "source": [
    "accepted_agg_df.show()\n",
    "remaining_agg_df.show()"
   ]
  },
  {
   "cell_type": "markdown",
   "id": "6b7533b0-41ea-4802-849c-f0cb4f2bd0ad",
   "metadata": {},
   "source": [
    "## 6. Top 10 tagów które wygenerowały najwięcej wyświetleń"
   ]
  },
  {
   "cell_type": "code",
   "execution_count": 30,
   "id": "f4b0bdae-9d31-4b19-af03-652edf3a9e78",
   "metadata": {
    "execution": {
     "iopub.execute_input": "2023-01-30T21:46:32.090420Z",
     "iopub.status.busy": "2023-01-30T21:46:32.090177Z",
     "iopub.status.idle": "2023-01-30T21:46:32.359089Z",
     "shell.execute_reply": "2023-01-30T21:46:32.358305Z",
     "shell.execute_reply.started": "2023-01-30T21:46:32.090396Z"
    },
    "tags": []
   },
   "outputs": [
    {
     "data": {
      "application/vnd.jupyter.widget-view+json": {
       "model_id": "c30247a63a1048348fbdb8b09d1dac03",
       "version_major": 2,
       "version_minor": 0
      },
      "text/plain": [
       "VBox()"
      ]
     },
     "metadata": {},
     "output_type": "display_data"
    },
    {
     "data": {
      "application/vnd.jupyter.widget-view+json": {
       "model_id": "",
       "version_major": 2,
       "version_minor": 0
      },
      "text/plain": [
       "FloatProgress(value=0.0, bar_style='info', description='Progress:', layout=Layout(height='25px', width='50%'),…"
      ]
     },
     "metadata": {},
     "output_type": "display_data"
    }
   ],
   "source": [
    "temp = posts_df.select('post_id', 'post_tags', 'post_view_count') \\\n",
    "                .filter((f.col('post_tags').isNotNull()) & (f.col('post_view_count').isNotNull())) \\\n",
    "                .withColumn(\"tags\", f.split(f.col('post_tags'), '[<|>]')) \\\n",
    "                .drop('post_tags') \\\n",
    "                .select('post_id', f.explode('tags').alias('tag'), 'post_view_count') \\\n",
    "                .filter(f.col('tag') != '')"
   ]
  },
  {
   "cell_type": "code",
   "execution_count": 31,
   "id": "0326c7bb-16fd-406a-a207-d2e01cb84cd1",
   "metadata": {
    "execution": {
     "iopub.execute_input": "2023-01-30T21:46:32.364818Z",
     "iopub.status.busy": "2023-01-30T21:46:32.364563Z",
     "iopub.status.idle": "2023-01-30T21:46:34.657606Z",
     "shell.execute_reply": "2023-01-30T21:46:34.656865Z",
     "shell.execute_reply.started": "2023-01-30T21:46:32.364793Z"
    },
    "tags": []
   },
   "outputs": [
    {
     "data": {
      "application/vnd.jupyter.widget-view+json": {
       "model_id": "5903bca996d94eaf9acefd787afb0919",
       "version_major": 2,
       "version_minor": 0
      },
      "text/plain": [
       "VBox()"
      ]
     },
     "metadata": {},
     "output_type": "display_data"
    },
    {
     "data": {
      "application/vnd.jupyter.widget-view+json": {
       "model_id": "",
       "version_major": 2,
       "version_minor": 0
      },
      "text/plain": [
       "FloatProgress(value=0.0, bar_style='info', description='Progress:', layout=Layout(height='25px', width='50%'),…"
      ]
     },
     "metadata": {},
     "output_type": "display_data"
    },
    {
     "name": "stdout",
     "output_type": "stream",
     "text": [
      "+------------+----------+\n",
      "|         tag|view_count|\n",
      "+------------+----------+\n",
      "|        star|   1800133|\n",
      "|     the-sun|   1594160|\n",
      "|    the-moon|   1545112|\n",
      "|       orbit|   1059210|\n",
      "|solar-system|   1033084|\n",
      "|       earth|    996405|\n",
      "|   telescope|    969338|\n",
      "|      planet|    932704|\n",
      "|     gravity|    873593|\n",
      "|  black-hole|    846845|\n",
      "+------------+----------+\n",
      "only showing top 10 rows"
     ]
    }
   ],
   "source": [
    "tags_and_view_count = temp.groupBy('tag').agg(\n",
    "    f.sum('post_view_count').alias('view_count')).orderBy(\n",
    "        f.col('view_count').desc())\n",
    "tags_and_view_count.show(10)"
   ]
  },
  {
   "cell_type": "markdown",
   "id": "591215a3-41c0-42b0-9cd3-7b8dd7f7ebdb",
   "metadata": {},
   "source": [
    "## 7. Liczba postów w czasie dla każdego z top 10 tagów (lineplot/barplot)"
   ]
  },
  {
   "cell_type": "code",
   "execution_count": 32,
   "id": "e9c3caeb-c476-4424-bade-cba3b0fba78d",
   "metadata": {
    "execution": {
     "iopub.execute_input": "2023-01-30T21:46:34.660799Z",
     "iopub.status.busy": "2023-01-30T21:46:34.659876Z",
     "iopub.status.idle": "2023-01-30T21:46:36.389314Z",
     "shell.execute_reply": "2023-01-30T21:46:36.388537Z",
     "shell.execute_reply.started": "2023-01-30T21:46:34.660765Z"
    },
    "tags": []
   },
   "outputs": [
    {
     "data": {
      "application/vnd.jupyter.widget-view+json": {
       "model_id": "88818226332e42f7bc222abcc38c6573",
       "version_major": 2,
       "version_minor": 0
      },
      "text/plain": [
       "VBox()"
      ]
     },
     "metadata": {},
     "output_type": "display_data"
    },
    {
     "data": {
      "application/vnd.jupyter.widget-view+json": {
       "model_id": "",
       "version_major": 2,
       "version_minor": 0
      },
      "text/plain": [
       "FloatProgress(value=0.0, bar_style='info', description='Progress:', layout=Layout(height='25px', width='50%'),…"
      ]
     },
     "metadata": {},
     "output_type": "display_data"
    }
   ],
   "source": [
    "top_tags = [\n",
    "    data[0] for data in tags_and_view_count.select('tag').limit(10).collect()\n",
    "]"
   ]
  },
  {
   "cell_type": "code",
   "execution_count": 33,
   "id": "01d75532-6d05-4531-a9e7-e976a424d3f2",
   "metadata": {
    "execution": {
     "iopub.execute_input": "2023-01-30T21:46:36.390843Z",
     "iopub.status.busy": "2023-01-30T21:46:36.390509Z",
     "iopub.status.idle": "2023-01-30T21:46:36.465013Z",
     "shell.execute_reply": "2023-01-30T21:46:36.464059Z",
     "shell.execute_reply.started": "2023-01-30T21:46:36.390804Z"
    },
    "tags": []
   },
   "outputs": [
    {
     "data": {
      "application/vnd.jupyter.widget-view+json": {
       "model_id": "fce48280420a4ebc8e3a083a5156a1db",
       "version_major": 2,
       "version_minor": 0
      },
      "text/plain": [
       "VBox()"
      ]
     },
     "metadata": {},
     "output_type": "display_data"
    },
    {
     "data": {
      "application/vnd.jupyter.widget-view+json": {
       "model_id": "",
       "version_major": 2,
       "version_minor": 0
      },
      "text/plain": [
       "FloatProgress(value=0.0, bar_style='info', description='Progress:', layout=Layout(height='25px', width='50%'),…"
      ]
     },
     "metadata": {},
     "output_type": "display_data"
    },
    {
     "name": "stdout",
     "output_type": "stream",
     "text": [
      "['star', 'the-sun', 'the-moon', 'orbit', 'solar-system', 'earth', 'telescope', 'planet', 'gravity', 'black-hole']"
     ]
    }
   ],
   "source": [
    "top_tags"
   ]
  },
  {
   "cell_type": "code",
   "execution_count": 34,
   "id": "3df145dd-fd60-4ff9-8161-406d64ab4309",
   "metadata": {
    "execution": {
     "iopub.execute_input": "2023-01-30T21:46:36.468292Z",
     "iopub.status.busy": "2023-01-30T21:46:36.467686Z",
     "iopub.status.idle": "2023-01-30T21:46:37.799603Z",
     "shell.execute_reply": "2023-01-30T21:46:37.798800Z",
     "shell.execute_reply.started": "2023-01-30T21:46:36.468254Z"
    },
    "tags": []
   },
   "outputs": [
    {
     "data": {
      "application/vnd.jupyter.widget-view+json": {
       "model_id": "7ad5c29c63854bcf86e890bae60f539c",
       "version_major": 2,
       "version_minor": 0
      },
      "text/plain": [
       "VBox()"
      ]
     },
     "metadata": {},
     "output_type": "display_data"
    },
    {
     "data": {
      "application/vnd.jupyter.widget-view+json": {
       "model_id": "",
       "version_major": 2,
       "version_minor": 0
      },
      "text/plain": [
       "FloatProgress(value=0.0, bar_style='info', description='Progress:', layout=Layout(height='25px', width='50%'),…"
      ]
     },
     "metadata": {},
     "output_type": "display_data"
    },
    {
     "name": "stdout",
     "output_type": "stream",
     "text": [
      "+-------+--------------------+------------------+\n",
      "|post_id|           post_tags|post_creation_date|\n",
      "+-------+--------------------+------------------+\n",
      "|      1|<inclination><ama...|        2013-09-24|\n",
      "|      2|<exoplanet><plane...|        2013-09-24|\n",
      "|      3|<amateur-observin...|        2013-09-24|\n",
      "|      4| <the-sun><sunspots>|        2013-09-24|\n",
      "|      5|                null|        2013-09-24|\n",
      "|      7| <black-hole><light>|        2013-09-24|\n",
      "|      8|                null|        2013-09-24|\n",
      "|      9|<coordinate><asce...|        2013-09-24|\n",
      "|     10|                null|        2013-09-24|\n",
      "|     11|                null|        2013-09-24|\n",
      "|     14|<general-relativity>|        2013-09-24|\n",
      "|     15|<exoplanet><weather>|        2013-09-24|\n",
      "|     16|   <the-moon><orbit>|        2013-09-24|\n",
      "|     17|                null|        2013-09-24|\n",
      "|     18|                null|        2013-09-24|\n",
      "|     19|                null|        2013-09-24|\n",
      "|     20|                null|        2013-09-24|\n",
      "|     21|                null|        2013-09-24|\n",
      "|     22|                null|        2013-09-24|\n",
      "|     23|                null|        2013-09-24|\n",
      "+-------+--------------------+------------------+\n",
      "only showing top 20 rows"
     ]
    }
   ],
   "source": [
    "temp7 = posts_df.select('post_id', 'post_tags', 'post_creation_date') \\\n",
    "                .orderBy('post_creation_date', 'post_id')\n",
    "\n",
    "temp7 = temp7.withColumn('post_creation_date',\n",
    "                         f.to_date(temp7.post_creation_date))\n",
    "\n",
    "temp7.show()"
   ]
  },
  {
   "cell_type": "code",
   "execution_count": 35,
   "id": "3a860633-8a23-4129-9443-de355658070e",
   "metadata": {
    "execution": {
     "iopub.execute_input": "2023-01-30T21:46:37.800921Z",
     "iopub.status.busy": "2023-01-30T21:46:37.800672Z",
     "iopub.status.idle": "2023-01-30T21:46:37.865168Z",
     "shell.execute_reply": "2023-01-30T21:46:37.864429Z",
     "shell.execute_reply.started": "2023-01-30T21:46:37.800895Z"
    },
    "tags": []
   },
   "outputs": [
    {
     "data": {
      "application/vnd.jupyter.widget-view+json": {
       "model_id": "8d13316659cc4e479492f235e2cfb380",
       "version_major": 2,
       "version_minor": 0
      },
      "text/plain": [
       "VBox()"
      ]
     },
     "metadata": {},
     "output_type": "display_data"
    },
    {
     "data": {
      "application/vnd.jupyter.widget-view+json": {
       "model_id": "",
       "version_major": 2,
       "version_minor": 0
      },
      "text/plain": [
       "FloatProgress(value=0.0, bar_style='info', description='Progress:', layout=Layout(height='25px', width='50%'),…"
      ]
     },
     "metadata": {},
     "output_type": "display_data"
    }
   ],
   "source": [
    "def print_chart_of_posts_for_tag(df, tag_name):\n",
    "    plt.plot(df['post_creation_date'], df['cumulative_post_count'], label=tag_name)\n",
    "    plt.title('Cumulative number of posts over time')\n",
    "    plt.xlabel('Time')\n",
    "    plt.ylabel('Cumulative number of posts')\n",
    "    plt.legend()\n",
    "    plt.show()"
   ]
  },
  {
   "cell_type": "code",
   "execution_count": 36,
   "id": "a5ebe2bc-822d-41e2-b840-7c177b0e9105",
   "metadata": {
    "execution": {
     "iopub.execute_input": "2023-01-30T21:46:37.866909Z",
     "iopub.status.busy": "2023-01-30T21:46:37.866572Z",
     "iopub.status.idle": "2023-01-30T21:46:55.396185Z",
     "shell.execute_reply": "2023-01-30T21:46:55.395261Z",
     "shell.execute_reply.started": "2023-01-30T21:46:37.866873Z"
    },
    "tags": []
   },
   "outputs": [
    {
     "data": {
      "application/vnd.jupyter.widget-view+json": {
       "model_id": "1e797831091d4aa0897ef1d2442040a2",
       "version_major": 2,
       "version_minor": 0
      },
      "text/plain": [
       "VBox()"
      ]
     },
     "metadata": {},
     "output_type": "display_data"
    },
    {
     "data": {
      "application/vnd.jupyter.widget-view+json": {
       "model_id": "",
       "version_major": 2,
       "version_minor": 0
      },
      "text/plain": [
       "FloatProgress(value=0.0, bar_style='info', description='Progress:', layout=Layout(height='25px', width='50%'),…"
      ]
     },
     "metadata": {},
     "output_type": "display_data"
    }
   ],
   "source": [
    "plt.clf()\n",
    "\n",
    "for tag in top_tags:\n",
    "    temp7_1 = temp7.filter(f.col('post_tags').contains(tag)) \\\n",
    "            .groupBy('post_creation_date') \\\n",
    "            .agg(f.count('post_id').alias('post_count')) \\\n",
    "            .orderBy('post_creation_date')\n",
    "\n",
    "    window = Window.orderBy('post_creation_date')\n",
    "    df = temp7_1.withColumn(\n",
    "        'cumulative_post_count',\n",
    "        f.sum('post_count').over(window)).drop('post_count')\n",
    "    df_pd = df.toPandas()\n",
    "    print_chart_of_posts_for_tag(df_pd, tag)"
   ]
  },
  {
   "cell_type": "code",
   "execution_count": 37,
   "id": "0295b29e-293a-4984-be2c-917d03549b22",
   "metadata": {
    "execution": {
     "iopub.execute_input": "2023-01-30T21:46:55.397871Z",
     "iopub.status.busy": "2023-01-30T21:46:55.397405Z",
     "iopub.status.idle": "2023-01-30T21:46:57.852415Z",
     "shell.execute_reply": "2023-01-30T21:46:57.816005Z",
     "shell.execute_reply.started": "2023-01-30T21:46:55.397843Z"
    },
    "tags": []
   },
   "outputs": [
    {
     "data": {
      "application/vnd.jupyter.widget-view+json": {
       "model_id": "",
       "version_major": 2,
       "version_minor": 0
      },
      "text/plain": [
       "FloatProgress(value=0.0, bar_style='info', description='Progress:', layout=Layout(height='25px', width='50%'),…"
      ]
     },
     "metadata": {},
     "output_type": "display_data"
    },
    {
     "data": {
      "image/png": "[encoded data removed]",
      "text/plain": [
       "<IPython.core.display.Image object>"
      ]
     },
     "metadata": {},
     "output_type": "display_data"
    }
   ],
   "source": [
    "%matplot plt"
   ]
  },
  {
   "cell_type": "markdown",
   "id": "2acce82a-70c9-4588-915e-37775431152a",
   "metadata": {},
   "source": [
    "## 8. Najczęściej pojawiające się słowa w tytułach (z pominięciem stopwords)"
   ]
  },
  {
   "cell_type": "code",
   "execution_count": 38,
   "id": "bc0013d5-00df-4097-8625-504738dfe14f",
   "metadata": {
    "execution": {
     "iopub.execute_input": "2023-01-30T21:46:57.854465Z",
     "iopub.status.busy": "2023-01-30T21:46:57.854198Z",
     "iopub.status.idle": "2023-01-30T21:46:59.634978Z",
     "shell.execute_reply": "2023-01-30T21:46:59.615418Z",
     "shell.execute_reply.started": "2023-01-30T21:46:57.854440Z"
    },
    "tags": []
   },
   "outputs": [
    {
     "data": {
      "application/vnd.jupyter.widget-view+json": {
       "model_id": "8305ca43d5284ac9869742998035a2dd",
       "version_major": 2,
       "version_minor": 0
      },
      "text/plain": [
       "VBox()"
      ]
     },
     "metadata": {},
     "output_type": "display_data"
    },
    {
     "data": {
      "application/vnd.jupyter.widget-view+json": {
       "model_id": "",
       "version_major": 2,
       "version_minor": 0
      },
      "text/plain": [
       "FloatProgress(value=0.0, bar_style='info', description='Progress:', layout=Layout(height='25px', width='50%'),…"
      ]
     },
     "metadata": {},
     "output_type": "display_data"
    },
    {
     "name": "stdout",
     "output_type": "stream",
     "text": [
      "13155"
     ]
    }
   ],
   "source": [
    "post_titles_df = posts_df.select('post_title').dropna()\n",
    "post_titles_df.count()"
   ]
  },
  {
   "cell_type": "code",
   "execution_count": 39,
   "id": "a8017de7-1c25-4075-bc00-0bf244ba9f88",
   "metadata": {
    "execution": {
     "iopub.execute_input": "2023-01-30T21:46:59.687045Z",
     "iopub.status.busy": "2023-01-30T21:46:59.686789Z",
     "iopub.status.idle": "2023-01-30T21:47:00.960499Z",
     "shell.execute_reply": "2023-01-30T21:47:00.959081Z",
     "shell.execute_reply.started": "2023-01-30T21:46:59.687022Z"
    }
   },
   "outputs": [
    {
     "data": {
      "application/vnd.jupyter.widget-view+json": {
       "model_id": "3c4c038975d7480d926e99019d1a0f5a",
       "version_major": 2,
       "version_minor": 0
      },
      "text/plain": [
       "VBox()"
      ]
     },
     "metadata": {},
     "output_type": "display_data"
    },
    {
     "data": {
      "application/vnd.jupyter.widget-view+json": {
       "model_id": "",
       "version_major": 2,
       "version_minor": 0
      },
      "text/plain": [
       "FloatProgress(value=0.0, bar_style='info', description='Progress:', layout=Layout(height='25px', width='50%'),…"
      ]
     },
     "metadata": {},
     "output_type": "display_data"
    }
   ],
   "source": [
    "from pyspark.ml.feature import Tokenizer, StopWordsRemover"
   ]
  },
  {
   "cell_type": "code",
   "execution_count": 40,
   "id": "850c0360-c086-423f-be00-99fd5c0fcae0",
   "metadata": {
    "execution": {
     "iopub.execute_input": "2023-01-30T21:47:00.962056Z",
     "iopub.status.busy": "2023-01-30T21:47:00.961629Z",
     "iopub.status.idle": "2023-01-30T21:47:06.273493Z",
     "shell.execute_reply": "2023-01-30T21:47:06.271840Z",
     "shell.execute_reply.started": "2023-01-30T21:47:00.962017Z"
    },
    "tags": []
   },
   "outputs": [
    {
     "data": {
      "application/vnd.jupyter.widget-view+json": {
       "model_id": "92b64aae3ca2427dbe1681ccadd332d0",
       "version_major": 2,
       "version_minor": 0
      },
      "text/plain": [
       "VBox()"
      ]
     },
     "metadata": {},
     "output_type": "display_data"
    },
    {
     "data": {
      "application/vnd.jupyter.widget-view+json": {
       "model_id": "",
       "version_major": 2,
       "version_minor": 0
      },
      "text/plain": [
       "FloatProgress(value=0.0, bar_style='info', description='Progress:', layout=Layout(height='25px', width='50%'),…"
      ]
     },
     "metadata": {},
     "output_type": "display_data"
    },
    {
     "name": "stdout",
     "output_type": "stream",
     "text": [
      "+---------+----------+\n",
      "|     word|num_of_occ|\n",
      "+---------+----------+\n",
      "|     star|       704|\n",
      "|    black|       650|\n",
      "|    stars|       628|\n",
      "|    solar|       590|\n",
      "|    earth|       542|\n",
      "|     moon|       504|\n",
      "|      sun|       500|\n",
      "|  planets|       407|\n",
      "|   planet|       395|\n",
      "|     time|       381|\n",
      "| universe|       362|\n",
      "|telescope|       346|\n",
      "|    light|       326|\n",
      "|     mass|       314|\n",
      "|     hole|       294|\n",
      "|   system|       291|\n",
      "|    orbit|       286|\n",
      "|      see|       278|\n",
      "|calculate|       259|\n",
      "| distance|       258|\n",
      "+---------+----------+\n",
      "only showing top 20 rows"
     ]
    }
   ],
   "source": [
    "tokenizer = Tokenizer(inputCol=\"post_title\", outputCol=\"words\")\n",
    "wordsData = tokenizer.transform(post_titles_df)\n",
    "\n",
    "remover = StopWordsRemover(inputCol=\"words\", outputCol=\"filtered_words\")\n",
    "filtered_data = remover.transform(wordsData)\n",
    "\n",
    "word_counts = filtered_data.select(\"filtered_words\") \\\n",
    "    .select(f.explode('filtered_words').alias('word')) \\\n",
    "    .groupBy('word') \\\n",
    "    .agg(f.count('word').alias('num_of_occ')) \\\n",
    "    .orderBy(f.desc('num_of_occ'))\n",
    "\n",
    "word_counts.show()"
   ]
  },
  {
   "cell_type": "markdown",
   "id": "987b05e3-049f-41c6-be1a-0ea3e8bb955f",
   "metadata": {},
   "source": [
    "## 9. Procent użytkowników którzy nigdy nic nie zapostowali"
   ]
  },
  {
   "cell_type": "code",
   "execution_count": 41,
   "id": "22109c8b-dc88-4171-becb-f253332884f4",
   "metadata": {
    "execution": {
     "iopub.execute_input": "2023-01-30T21:47:06.275098Z",
     "iopub.status.busy": "2023-01-30T21:47:06.274739Z",
     "iopub.status.idle": "2023-01-30T21:47:06.356641Z",
     "shell.execute_reply": "2023-01-30T21:47:06.355712Z",
     "shell.execute_reply.started": "2023-01-30T21:47:06.275045Z"
    },
    "tags": []
   },
   "outputs": [
    {
     "data": {
      "application/vnd.jupyter.widget-view+json": {
       "model_id": "c959a613ee334d18b60b998f916dbd25",
       "version_major": 2,
       "version_minor": 0
      },
      "text/plain": [
       "VBox()"
      ]
     },
     "metadata": {},
     "output_type": "display_data"
    },
    {
     "data": {
      "application/vnd.jupyter.widget-view+json": {
       "model_id": "",
       "version_major": 2,
       "version_minor": 0
      },
      "text/plain": [
       "FloatProgress(value=0.0, bar_style='info', description='Progress:', layout=Layout(height='25px', width='50%'),…"
      ]
     },
     "metadata": {},
     "output_type": "display_data"
    }
   ],
   "source": [
    "# Tutaj będę musiał skorzystać z tabeli posts_df\n",
    "# Generalnie potrzebuję odnośnie każdego posta znać jego właściciela. Dlatego zdropuje wiersze w których nie ma info o autorze\n",
    "\n",
    "posts_filtered = posts_df.dropna(subset='post_owner_user_id')"
   ]
  },
  {
   "cell_type": "code",
   "execution_count": 42,
   "id": "2bc109a5-3ffa-4bfb-bf6c-56413f551989",
   "metadata": {
    "execution": {
     "iopub.execute_input": "2023-01-30T21:47:06.358091Z",
     "iopub.status.busy": "2023-01-30T21:47:06.357844Z",
     "iopub.status.idle": "2023-01-30T21:47:09.719165Z",
     "shell.execute_reply": "2023-01-30T21:47:09.718406Z",
     "shell.execute_reply.started": "2023-01-30T21:47:06.358067Z"
    },
    "tags": []
   },
   "outputs": [
    {
     "data": {
      "application/vnd.jupyter.widget-view+json": {
       "model_id": "81b8526e73704233b3002e9d28bd2b81",
       "version_major": 2,
       "version_minor": 0
      },
      "text/plain": [
       "VBox()"
      ]
     },
     "metadata": {},
     "output_type": "display_data"
    },
    {
     "data": {
      "application/vnd.jupyter.widget-view+json": {
       "model_id": "",
       "version_major": 2,
       "version_minor": 0
      },
      "text/plain": [
       "FloatProgress(value=0.0, bar_style='info', description='Progress:', layout=Layout(height='25px', width='50%'),…"
      ]
     },
     "metadata": {},
     "output_type": "display_data"
    }
   ],
   "source": [
    "all_users_count = users_df.count()\n",
    "\n",
    "user_ids = users_df.select('user_id')\n",
    "\n",
    "no_posts_users = user_ids.join(posts_df, user_ids.user_id == posts_filtered.post_owner_user_id, 'left').select('user_id', 'post_id').filter(f.col('post_id').isNull()).dropDuplicates().select('user_id')\n",
    "\n",
    "users_who_never_posted_count = no_posts_users.count()"
   ]
  },
  {
   "cell_type": "code",
   "execution_count": 43,
   "id": "fb241683-d99d-446c-96ba-935ecd09c05a",
   "metadata": {
    "execution": {
     "iopub.execute_input": "2023-01-30T21:47:09.720555Z",
     "iopub.status.busy": "2023-01-30T21:47:09.720295Z",
     "iopub.status.idle": "2023-01-30T21:47:09.789100Z",
     "shell.execute_reply": "2023-01-30T21:47:09.788272Z",
     "shell.execute_reply.started": "2023-01-30T21:47:09.720531Z"
    },
    "tags": []
   },
   "outputs": [
    {
     "data": {
      "application/vnd.jupyter.widget-view+json": {
       "model_id": "b91b18d0bc6d4dd4af3bb53bb8904ea9",
       "version_major": 2,
       "version_minor": 0
      },
      "text/plain": [
       "VBox()"
      ]
     },
     "metadata": {},
     "output_type": "display_data"
    },
    {
     "data": {
      "application/vnd.jupyter.widget-view+json": {
       "model_id": "",
       "version_major": 2,
       "version_minor": 0
      },
      "text/plain": [
       "FloatProgress(value=0.0, bar_style='info', description='Progress:', layout=Layout(height='25px', width='50%'),…"
      ]
     },
     "metadata": {},
     "output_type": "display_data"
    },
    {
     "name": "stdout",
     "output_type": "stream",
     "text": [
      "78.06766634884863"
     ]
    }
   ],
   "source": [
    "print(users_who_never_posted_count / all_users_count * 100)"
   ]
  },
  {
   "cell_type": "markdown",
   "id": "f5b97f57-bc69-4a93-8960-8a1ad8996f5c",
   "metadata": {},
   "source": [
    "## 10. Średni czas od pojawienia się pytania do pojawienia się zaakceptowanej odpowiedzi"
   ]
  },
  {
   "cell_type": "code",
   "execution_count": 44,
   "id": "e0888a03-c986-4ebe-adfd-104035dc846a",
   "metadata": {
    "execution": {
     "iopub.execute_input": "2023-01-30T21:47:09.790795Z",
     "iopub.status.busy": "2023-01-30T21:47:09.790456Z",
     "iopub.status.idle": "2023-01-30T21:47:10.824932Z",
     "shell.execute_reply": "2023-01-30T21:47:10.820723Z",
     "shell.execute_reply.started": "2023-01-30T21:47:09.790758Z"
    },
    "tags": []
   },
   "outputs": [
    {
     "data": {
      "application/vnd.jupyter.widget-view+json": {
       "model_id": "30128eb0d87f4ef7b1d553ceb3cb4850",
       "version_major": 2,
       "version_minor": 0
      },
      "text/plain": [
       "VBox()"
      ]
     },
     "metadata": {},
     "output_type": "display_data"
    },
    {
     "data": {
      "application/vnd.jupyter.widget-view+json": {
       "model_id": "",
       "version_major": 2,
       "version_minor": 0
      },
      "text/plain": [
       "FloatProgress(value=0.0, bar_style='info', description='Progress:', layout=Layout(height='25px', width='50%'),…"
      ]
     },
     "metadata": {},
     "output_type": "display_data"
    },
    {
     "name": "stdout",
     "output_type": "stream",
     "text": [
      "+-------+--------------------+------------------+\n",
      "|post_id|  post_creation_date|accepted_answer_id|\n",
      "+-------+--------------------+------------------+\n",
      "|     33|2013-09-24 20:00:...|                36|\n",
      "|     58|2013-09-24 22:29:...|                60|\n",
      "|   1018|2013-11-26 13:55:...|              1019|\n",
      "+-------+--------------------+------------------+\n",
      "only showing top 3 rows"
     ]
    }
   ],
   "source": [
    "posts_temp = posts_df.select('post_id', 'post_creation_date',\n",
    "                             'accepted_answer_id').filter(\n",
    "                                 f.col('accepted_answer_id').isNotNull())\n",
    "posts_temp.show(3)"
   ]
  },
  {
   "cell_type": "code",
   "execution_count": 45,
   "id": "cb3d519b-866a-48c0-864d-2adf09845e15",
   "metadata": {
    "execution": {
     "iopub.execute_input": "2023-01-30T21:47:10.826468Z",
     "iopub.status.busy": "2023-01-30T21:47:10.826125Z",
     "iopub.status.idle": "2023-01-30T21:47:10.930359Z",
     "shell.execute_reply": "2023-01-30T21:47:10.929224Z",
     "shell.execute_reply.started": "2023-01-30T21:47:10.826431Z"
    },
    "tags": []
   },
   "outputs": [
    {
     "data": {
      "application/vnd.jupyter.widget-view+json": {
       "model_id": "90f42a7f9c3b4454a2a55e5960774034",
       "version_major": 2,
       "version_minor": 0
      },
      "text/plain": [
       "VBox()"
      ]
     },
     "metadata": {},
     "output_type": "display_data"
    },
    {
     "data": {
      "application/vnd.jupyter.widget-view+json": {
       "model_id": "",
       "version_major": 2,
       "version_minor": 0
      },
      "text/plain": [
       "FloatProgress(value=0.0, bar_style='info', description='Progress:', layout=Layout(height='25px', width='50%'),…"
      ]
     },
     "metadata": {},
     "output_type": "display_data"
    }
   ],
   "source": [
    "answers_temp = posts_df.select('post_id',\n",
    "                               'post_creation_date').withColumnRenamed(\n",
    "                                   'post_creation_date',\n",
    "                                   'answer_creation_date').withColumnRenamed(\n",
    "                                       'post_id', 'answer_id')"
   ]
  },
  {
   "cell_type": "code",
   "execution_count": 46,
   "id": "1059cb68-1db8-452f-80c6-9bd11aaf58c8",
   "metadata": {
    "execution": {
     "iopub.execute_input": "2023-01-30T21:47:10.932179Z",
     "iopub.status.busy": "2023-01-30T21:47:10.931808Z",
     "iopub.status.idle": "2023-01-30T21:47:16.283212Z",
     "shell.execute_reply": "2023-01-30T21:47:16.282072Z",
     "shell.execute_reply.started": "2023-01-30T21:47:10.932143Z"
    },
    "tags": []
   },
   "outputs": [
    {
     "data": {
      "application/vnd.jupyter.widget-view+json": {
       "model_id": "8a0432cb66e34256822d2a88b077d6f3",
       "version_major": 2,
       "version_minor": 0
      },
      "text/plain": [
       "VBox()"
      ]
     },
     "metadata": {},
     "output_type": "display_data"
    },
    {
     "data": {
      "application/vnd.jupyter.widget-view+json": {
       "model_id": "",
       "version_major": 2,
       "version_minor": 0
      },
      "text/plain": [
       "FloatProgress(value=0.0, bar_style='info', description='Progress:', layout=Layout(height='25px', width='50%'),…"
      ]
     },
     "metadata": {},
     "output_type": "display_data"
    },
    {
     "name": "stdout",
     "output_type": "stream",
     "text": [
      "+-------+-----------------------+-----------------------+\n",
      "|post_id|post_creation_date     |answer_creation_date   |\n",
      "+-------+-----------------------+-----------------------+\n",
      "|36367  |2020-05-27 06:32:27.937|2021-03-26 04:21:06.17 |\n",
      "|10123  |2015-03-14 04:05:39.147|2015-03-14 20:52:57.497|\n",
      "|35052  |2020-02-12 15:04:43.637|2020-02-12 16:18:30.257|\n",
      "+-------+-----------------------+-----------------------+\n",
      "only showing top 3 rows"
     ]
    }
   ],
   "source": [
    "post_creation_date_and_accepted_answer_date = posts_temp \\\n",
    "                                                    .join(answers_temp, posts_temp.accepted_answer_id == answers_temp.answer_id, 'inner') \\\n",
    "                                                    .select('post_id', 'post_creation_date', 'answer_creation_date') \\\n",
    "                                                    .dropDuplicates()\n",
    "\n",
    "post_creation_date_and_accepted_answer_date.show(3, truncate=False)"
   ]
  },
  {
   "cell_type": "code",
   "execution_count": 47,
   "id": "173d113d-b976-4d6f-9025-71fe972ebcbe",
   "metadata": {
    "execution": {
     "iopub.execute_input": "2023-01-30T21:47:16.285078Z",
     "iopub.status.busy": "2023-01-30T21:47:16.284741Z",
     "iopub.status.idle": "2023-01-30T21:47:19.633924Z",
     "shell.execute_reply": "2023-01-30T21:47:19.633036Z",
     "shell.execute_reply.started": "2023-01-30T21:47:16.285040Z"
    },
    "tags": []
   },
   "outputs": [
    {
     "data": {
      "application/vnd.jupyter.widget-view+json": {
       "model_id": "89879dfc8c0d4ae1869b0a3970462b0b",
       "version_major": 2,
       "version_minor": 0
      },
      "text/plain": [
       "VBox()"
      ]
     },
     "metadata": {},
     "output_type": "display_data"
    },
    {
     "data": {
      "application/vnd.jupyter.widget-view+json": {
       "model_id": "",
       "version_major": 2,
       "version_minor": 0
      },
      "text/plain": [
       "FloatProgress(value=0.0, bar_style='info', description='Progress:', layout=Layout(height='25px', width='50%'),…"
      ]
     },
     "metadata": {},
     "output_type": "display_data"
    },
    {
     "name": "stdout",
     "output_type": "stream",
     "text": [
      "+-------+---------------+\n",
      "|post_id|time_diff_hours|\n",
      "+-------+---------------+\n",
      "|  36367|         7270.0|\n",
      "|  10123|           17.0|\n",
      "|  35052|            1.0|\n",
      "|  29011|            1.0|\n",
      "|  26424|           22.0|\n",
      "|  28664|            4.0|\n",
      "|  13653|            2.0|\n",
      "|  44752|            4.0|\n",
      "|  50282|          765.0|\n",
      "|  39136|           32.0|\n",
      "|  18784|           54.0|\n",
      "|  32440|            9.0|\n",
      "|  30234|            8.0|\n",
      "|  23730|           24.0|\n",
      "|   6336|            3.0|\n",
      "|  48828|           15.0|\n",
      "|   8571|            0.0|\n",
      "|  16286|            1.0|\n",
      "|  47285|          877.0|\n",
      "|  21261|            9.0|\n",
      "+-------+---------------+\n",
      "only showing top 20 rows"
     ]
    }
   ],
   "source": [
    "post_and_time_diff = post_creation_date_and_accepted_answer_date \\\n",
    "                        .withColumn(\"time_diff\", f.unix_timestamp(\"answer_creation_date\") - f.unix_timestamp(\"post_creation_date\")) \\\n",
    "                        .select('post_id', 'time_diff') \\\n",
    "                        .withColumn('time_diff_hours', f.round(f.col('time_diff') / 3600)) \\\n",
    "                        .drop('time_diff')\n",
    "\n",
    "post_and_time_diff.show()"
   ]
  },
  {
   "cell_type": "code",
   "execution_count": 48,
   "id": "7e6e5da2-4dd6-4bf6-8875-5293e31661f7",
   "metadata": {
    "execution": {
     "iopub.execute_input": "2023-01-30T21:47:19.635684Z",
     "iopub.status.busy": "2023-01-30T21:47:19.635360Z",
     "iopub.status.idle": "2023-01-30T21:47:22.948450Z",
     "shell.execute_reply": "2023-01-30T21:47:22.947625Z",
     "shell.execute_reply.started": "2023-01-30T21:47:19.635648Z"
    },
    "tags": []
   },
   "outputs": [
    {
     "data": {
      "application/vnd.jupyter.widget-view+json": {
       "model_id": "eb3cf36b06ca45e1bc357cd2e5f7fad7",
       "version_major": 2,
       "version_minor": 0
      },
      "text/plain": [
       "VBox()"
      ]
     },
     "metadata": {},
     "output_type": "display_data"
    },
    {
     "data": {
      "application/vnd.jupyter.widget-view+json": {
       "model_id": "",
       "version_major": 2,
       "version_minor": 0
      },
      "text/plain": [
       "FloatProgress(value=0.0, bar_style='info', description='Progress:', layout=Layout(height='25px', width='50%'),…"
      ]
     },
     "metadata": {},
     "output_type": "display_data"
    }
   ],
   "source": [
    "avg_answer_time_in_hrs = post_and_time_diff.select(\n",
    "    f.mean('time_diff_hours')).first()[0]"
   ]
  },
  {
   "cell_type": "code",
   "execution_count": 49,
   "id": "720bb2d8-974f-4024-8793-59dfc8c6b840",
   "metadata": {
    "execution": {
     "iopub.execute_input": "2023-01-30T21:47:22.949695Z",
     "iopub.status.busy": "2023-01-30T21:47:22.949450Z",
     "iopub.status.idle": "2023-01-30T21:47:23.019019Z",
     "shell.execute_reply": "2023-01-30T21:47:23.018098Z",
     "shell.execute_reply.started": "2023-01-30T21:47:22.949671Z"
    }
   },
   "outputs": [
    {
     "data": {
      "application/vnd.jupyter.widget-view+json": {
       "model_id": "cd0ec34191b04c1ba19c0a8fe98f332a",
       "version_major": 2,
       "version_minor": 0
      },
      "text/plain": [
       "VBox()"
      ]
     },
     "metadata": {},
     "output_type": "display_data"
    },
    {
     "data": {
      "application/vnd.jupyter.widget-view+json": {
       "model_id": "",
       "version_major": 2,
       "version_minor": 0
      },
      "text/plain": [
       "FloatProgress(value=0.0, bar_style='info', description='Progress:', layout=Layout(height='25px', width='50%'),…"
      ]
     },
     "metadata": {},
     "output_type": "display_data"
    }
   ],
   "source": [
    "avg_time_days = round(avg_answer_time_in_hrs / 24)"
   ]
  },
  {
   "cell_type": "code",
   "execution_count": 50,
   "id": "f1593999-3353-43dc-8257-52ff0afb9019",
   "metadata": {
    "execution": {
     "iopub.execute_input": "2023-01-30T21:47:23.020684Z",
     "iopub.status.busy": "2023-01-30T21:47:23.020341Z",
     "iopub.status.idle": "2023-01-30T21:47:23.745738Z",
     "shell.execute_reply": "2023-01-30T21:47:23.733531Z",
     "shell.execute_reply.started": "2023-01-30T21:47:23.020648Z"
    },
    "tags": []
   },
   "outputs": [
    {
     "data": {
      "application/vnd.jupyter.widget-view+json": {
       "model_id": "8f5dcabde72542c89896c31d3ae1adbd",
       "version_major": 2,
       "version_minor": 0
      },
      "text/plain": [
       "VBox()"
      ]
     },
     "metadata": {},
     "output_type": "display_data"
    },
    {
     "data": {
      "application/vnd.jupyter.widget-view+json": {
       "model_id": "",
       "version_major": 2,
       "version_minor": 0
      },
      "text/plain": [
       "FloatProgress(value=0.0, bar_style='info', description='Progress:', layout=Layout(height='25px', width='50%'),…"
      ]
     },
     "metadata": {},
     "output_type": "display_data"
    },
    {
     "name": "stdout",
     "output_type": "stream",
     "text": [
      "22"
     ]
    }
   ],
   "source": [
    "print(avg_time_days)"
   ]
  },
  {
   "cell_type": "markdown",
   "id": "906266d1-38ef-4ba7-b671-428384020450",
   "metadata": {},
   "source": [
    "## 11. Ile zadano pytań bez tagów?"
   ]
  },
  {
   "cell_type": "code",
   "execution_count": 51,
   "id": "b7a7b9e9-8712-4a63-aae3-92508c2b3c1e",
   "metadata": {
    "execution": {
     "iopub.execute_input": "2023-01-30T21:47:23.750284Z",
     "iopub.status.busy": "2023-01-30T21:47:23.749897Z",
     "iopub.status.idle": "2023-01-30T21:47:26.068203Z",
     "shell.execute_reply": "2023-01-30T21:47:26.066978Z",
     "shell.execute_reply.started": "2023-01-30T21:47:23.750242Z"
    },
    "tags": []
   },
   "outputs": [
    {
     "data": {
      "application/vnd.jupyter.widget-view+json": {
       "model_id": "564d69fbc40444eba8e18ec94b25de57",
       "version_major": 2,
       "version_minor": 0
      },
      "text/plain": [
       "VBox()"
      ]
     },
     "metadata": {},
     "output_type": "display_data"
    },
    {
     "data": {
      "application/vnd.jupyter.widget-view+json": {
       "model_id": "",
       "version_major": 2,
       "version_minor": 0
      },
      "text/plain": [
       "FloatProgress(value=0.0, bar_style='info', description='Progress:', layout=Layout(height='25px', width='50%'),…"
      ]
     },
     "metadata": {},
     "output_type": "display_data"
    }
   ],
   "source": [
    "questions = posts_df.filter(f.col('post_type_id') == 1).select('post_id', 'post_tags')\n",
    "questions_without_tags_count = questions.filter((f.col('post_tags').isNull()) | (f.col('post_tags') == '')).count()"
   ]
  },
  {
   "cell_type": "code",
   "execution_count": 52,
   "id": "aef28daa-4357-4aba-905a-412463118173",
   "metadata": {
    "execution": {
     "iopub.execute_input": "2023-01-30T21:47:26.069884Z",
     "iopub.status.busy": "2023-01-30T21:47:26.069495Z",
     "iopub.status.idle": "2023-01-30T21:47:27.372308Z",
     "shell.execute_reply": "2023-01-30T21:47:27.371411Z",
     "shell.execute_reply.started": "2023-01-30T21:47:26.069843Z"
    },
    "tags": []
   },
   "outputs": [
    {
     "data": {
      "application/vnd.jupyter.widget-view+json": {
       "model_id": "0538c66ad8fb436d9d6e2221fe80c16e",
       "version_major": 2,
       "version_minor": 0
      },
      "text/plain": [
       "VBox()"
      ]
     },
     "metadata": {},
     "output_type": "display_data"
    },
    {
     "data": {
      "application/vnd.jupyter.widget-view+json": {
       "model_id": "",
       "version_major": 2,
       "version_minor": 0
      },
      "text/plain": [
       "FloatProgress(value=0.0, bar_style='info', description='Progress:', layout=Layout(height='25px', width='50%'),…"
      ]
     },
     "metadata": {},
     "output_type": "display_data"
    },
    {
     "name": "stdout",
     "output_type": "stream",
     "text": [
      "0.0"
     ]
    }
   ],
   "source": [
    "all_questions_count = questions.count()\n",
    "no_tags_percent = questions_without_tags_count / all_questions_count * 100\n",
    "print(no_tags_percent)"
   ]
  },
  {
   "cell_type": "markdown",
   "id": "bbd75a76-b246-4325-9d63-bf4b13727a6f",
   "metadata": {},
   "source": [
    "## 12. Jaka jest zależność między liczbą wyświetleń a liczbą odpowiedzi?"
   ]
  },
  {
   "cell_type": "code",
   "execution_count": 53,
   "id": "6ca53c9d-f454-483c-ad10-266f4ebdf947",
   "metadata": {
    "execution": {
     "iopub.execute_input": "2023-01-30T21:47:27.373998Z",
     "iopub.status.busy": "2023-01-30T21:47:27.373657Z",
     "iopub.status.idle": "2023-01-30T21:47:28.184687Z",
     "shell.execute_reply": "2023-01-30T21:47:28.183710Z",
     "shell.execute_reply.started": "2023-01-30T21:47:27.373961Z"
    },
    "tags": []
   },
   "outputs": [
    {
     "data": {
      "application/vnd.jupyter.widget-view+json": {
       "model_id": "1fa832cecdef4c46874ca8129b1919b6",
       "version_major": 2,
       "version_minor": 0
      },
      "text/plain": [
       "VBox()"
      ]
     },
     "metadata": {},
     "output_type": "display_data"
    },
    {
     "data": {
      "application/vnd.jupyter.widget-view+json": {
       "model_id": "",
       "version_major": 2,
       "version_minor": 0
      },
      "text/plain": [
       "FloatProgress(value=0.0, bar_style='info', description='Progress:', layout=Layout(height='25px', width='50%'),…"
      ]
     },
     "metadata": {},
     "output_type": "display_data"
    },
    {
     "name": "stdout",
     "output_type": "stream",
     "text": [
      "+-------+-----------------+---------------+\n",
      "|post_id|post_answer_count|post_view_count|\n",
      "+-------+-----------------+---------------+\n",
      "|     33|                4|          12183|\n",
      "|  14700|                0|            552|\n",
      "|  18666|                1|            358|\n",
      "|  24241|                1|            129|\n",
      "|  25699|                1|            100|\n",
      "|     58|                2|            767|\n",
      "|   1018|                2|          30683|\n",
      "|   5907|                2|            366|\n",
      "|  10854|                0|            471|\n",
      "|  11486|                1|           1008|\n",
      "|  14035|                1|             60|\n",
      "|  20654|                3|            855|\n",
      "|  20682|                2|            712|\n",
      "|  23508|                1|            111|\n",
      "|  26054|                2|            184|\n",
      "|  32190|                0|            142|\n",
      "|   7663|                2|           2619|\n",
      "|   8531|                1|            284|\n",
      "|  17984|                3|            367|\n",
      "|  19039|                5|           1483|\n",
      "+-------+-----------------+---------------+\n",
      "only showing top 20 rows"
     ]
    }
   ],
   "source": [
    "temp12 = posts_df.select('post_id', 'post_answer_count', 'post_view_count').dropna(how='any', subset=['post_answer_count', 'post_view_count'])\n",
    "temp12.show()"
   ]
  },
  {
   "cell_type": "code",
   "execution_count": 54,
   "id": "9d6dccb2-bc4f-418f-a5de-207afdf8796e",
   "metadata": {
    "execution": {
     "iopub.execute_input": "2023-01-30T21:47:28.186110Z",
     "iopub.status.busy": "2023-01-30T21:47:28.185865Z",
     "iopub.status.idle": "2023-01-30T21:47:31.489110Z",
     "shell.execute_reply": "2023-01-30T21:47:31.488165Z",
     "shell.execute_reply.started": "2023-01-30T21:47:28.186083Z"
    },
    "tags": []
   },
   "outputs": [
    {
     "data": {
      "application/vnd.jupyter.widget-view+json": {
       "model_id": "1309c99eeea9480785d90a8e7011d172",
       "version_major": 2,
       "version_minor": 0
      },
      "text/plain": [
       "VBox()"
      ]
     },
     "metadata": {},
     "output_type": "display_data"
    },
    {
     "data": {
      "application/vnd.jupyter.widget-view+json": {
       "model_id": "",
       "version_major": 2,
       "version_minor": 0
      },
      "text/plain": [
       "FloatProgress(value=0.0, bar_style='info', description='Progress:', layout=Layout(height='25px', width='50%'),…"
      ]
     },
     "metadata": {},
     "output_type": "display_data"
    }
   ],
   "source": [
    "mean = temp12.select(f.mean(f.col(\"post_view_count\"))).collect()[0][0]\n",
    "stddev = temp12.select(f.stddev(f.col(\"post_view_count\"))).collect()[0][0]\n",
    "\n",
    "temp12_filtered = temp12.filter((f.col(\"post_view_count\") > (mean - 3 * stddev)) & (f.col(\"post_view_count\") < (mean + 3 * stddev)))\n"
   ]
  },
  {
   "cell_type": "code",
   "execution_count": 55,
   "id": "2e51788f-bfb0-426b-ba33-0deda7e714f2",
   "metadata": {
    "execution": {
     "iopub.execute_input": "2023-01-30T21:47:31.490536Z",
     "iopub.status.busy": "2023-01-30T21:47:31.490286Z",
     "iopub.status.idle": "2023-01-30T21:47:36.838708Z",
     "shell.execute_reply": "2023-01-30T21:47:36.837858Z",
     "shell.execute_reply.started": "2023-01-30T21:47:31.490513Z"
    },
    "tags": []
   },
   "outputs": [
    {
     "data": {
      "application/vnd.jupyter.widget-view+json": {
       "model_id": "4f6756de5aea459c8ceddbb4eb2e9069",
       "version_major": 2,
       "version_minor": 0
      },
      "text/plain": [
       "VBox()"
      ]
     },
     "metadata": {},
     "output_type": "display_data"
    },
    {
     "data": {
      "application/vnd.jupyter.widget-view+json": {
       "model_id": "",
       "version_major": 2,
       "version_minor": 0
      },
      "text/plain": [
       "FloatProgress(value=0.0, bar_style='info', description='Progress:', layout=Layout(height='25px', width='50%'),…"
      ]
     },
     "metadata": {},
     "output_type": "display_data"
    },
    {
     "data": {
      "image/png": "[encoded data removed]",
      "text/plain": [
       "<IPython.core.display.Image object>"
      ]
     },
     "metadata": {},
     "output_type": "display_data"
    }
   ],
   "source": [
    "from pyspark.ml.feature import VectorAssembler\n",
    "\n",
    "plt.clf()\n",
    "\n",
    "x = temp12_filtered.select(\"post_view_count\").collect()\n",
    "y = temp12_filtered.select(\"post_answer_count\").collect()\n",
    "\n",
    "plt.scatter(x, y)\n",
    "plt.xlabel(\"Post View Count\")\n",
    "plt.ylabel(\"Post Answer Count\")\n",
    "plt.show()\n",
    "\n",
    "%matplot plt"
   ]
  },
  {
   "cell_type": "markdown",
   "id": "85c97300-7f37-4c8d-a9cc-38fc9d6b3267",
   "metadata": {},
   "source": [
    "## 13. Jak wygląda liczba odznak na przestrzeni lat? (TODO - osobno dla odznak)"
   ]
  },
  {
   "cell_type": "code",
   "execution_count": 56,
   "id": "67ac9121-acd4-4f9c-8915-a62eee69a69c",
   "metadata": {
    "execution": {
     "iopub.execute_input": "2023-01-30T21:47:36.840436Z",
     "iopub.status.busy": "2023-01-30T21:47:36.839938Z",
     "iopub.status.idle": "2023-01-30T21:47:37.670959Z",
     "shell.execute_reply": "2023-01-30T21:47:37.670208Z",
     "shell.execute_reply.started": "2023-01-30T21:47:36.840400Z"
    },
    "tags": []
   },
   "outputs": [
    {
     "data": {
      "application/vnd.jupyter.widget-view+json": {
       "model_id": "eecc2a65c4474f25a8b5ceb174599b8c",
       "version_major": 2,
       "version_minor": 0
      },
      "text/plain": [
       "VBox()"
      ]
     },
     "metadata": {},
     "output_type": "display_data"
    },
    {
     "data": {
      "application/vnd.jupyter.widget-view+json": {
       "model_id": "",
       "version_major": 2,
       "version_minor": 0
      },
      "text/plain": [
       "FloatProgress(value=0.0, bar_style='info', description='Progress:', layout=Layout(height='25px', width='50%'),…"
      ]
     },
     "metadata": {},
     "output_type": "display_data"
    },
    {
     "name": "stdout",
     "output_type": "stream",
     "text": [
      "+----+-----+\n",
      "|year|count|\n",
      "+----+-----+\n",
      "|2013| 1515|\n",
      "|2014| 4195|\n",
      "|2015| 4713|\n",
      "|2016| 6264|\n",
      "|2017| 6215|\n",
      "|2018| 6242|\n",
      "|2019| 7231|\n",
      "|2020| 6911|\n",
      "|2021| 7717|\n",
      "|2022| 5907|\n",
      "+----+-----+"
     ]
    }
   ],
   "source": [
    "temp13 = badges_df.withColumn(\"year\", f.year(badges_df[\"badge_aquire_date\"]))\n",
    "result = temp13.groupBy(\"year\").count().orderBy('year')\n",
    "result.show()"
   ]
  },
  {
   "cell_type": "code",
   "execution_count": 57,
   "id": "90fe7fe0-bba9-4ebf-b960-abce71531b62",
   "metadata": {
    "execution": {
     "iopub.execute_input": "2023-01-30T21:47:37.672403Z",
     "iopub.status.busy": "2023-01-30T21:47:37.672077Z",
     "iopub.status.idle": "2023-01-30T21:47:38.443591Z",
     "shell.execute_reply": "2023-01-30T21:47:38.442777Z",
     "shell.execute_reply.started": "2023-01-30T21:47:37.672369Z"
    },
    "tags": []
   },
   "outputs": [
    {
     "data": {
      "application/vnd.jupyter.widget-view+json": {
       "model_id": "a46db1f80d354a1b968a69cb5f85f583",
       "version_major": 2,
       "version_minor": 0
      },
      "text/plain": [
       "VBox()"
      ]
     },
     "metadata": {},
     "output_type": "display_data"
    },
    {
     "data": {
      "application/vnd.jupyter.widget-view+json": {
       "model_id": "",
       "version_major": 2,
       "version_minor": 0
      },
      "text/plain": [
       "FloatProgress(value=0.0, bar_style='info', description='Progress:', layout=Layout(height='25px', width='50%'),…"
      ]
     },
     "metadata": {},
     "output_type": "display_data"
    },
    {
     "data": {
      "image/png": "[encoded data removed]",
      "text/plain": [
       "<IPython.core.display.Image object>"
      ]
     },
     "metadata": {},
     "output_type": "display_data"
    }
   ],
   "source": [
    "plt.clf()\n",
    "result_pdf = result.toPandas()\n",
    "\n",
    "plt.bar(result_pdf[\"year\"], result_pdf[\"count\"])\n",
    "plt.xlabel(\"Year\")\n",
    "plt.ylabel(\"New badges aqquired in this year\")\n",
    "plt.title(\"New badges across years\")\n",
    "plt.show()\n",
    "%matplot plt"
   ]
  },
  {
   "cell_type": "markdown",
   "id": "e6d98a7c-f93d-4e81-a37c-4159e806380f",
   "metadata": {},
   "source": [
    "## 14. W jaki dzień tygodnia/o jakiej porze pojawia się najwięcej odpowiedzi?"
   ]
  },
  {
   "cell_type": "code",
   "execution_count": 68,
   "id": "0314cf95-38b8-4229-b60e-97b4c5aa5e3a",
   "metadata": {
    "execution": {
     "iopub.execute_input": "2023-01-30T21:48:55.451105Z",
     "iopub.status.busy": "2023-01-30T21:48:55.450779Z",
     "iopub.status.idle": "2023-01-30T21:48:55.530377Z",
     "shell.execute_reply": "2023-01-30T21:48:55.529673Z",
     "shell.execute_reply.started": "2023-01-30T21:48:55.451078Z"
    },
    "tags": []
   },
   "outputs": [
    {
     "data": {
      "application/vnd.jupyter.widget-view+json": {
       "model_id": "f784f88c52154b318450f973af328948",
       "version_major": 2,
       "version_minor": 0
      },
      "text/plain": [
       "VBox()"
      ]
     },
     "metadata": {},
     "output_type": "display_data"
    },
    {
     "data": {
      "application/vnd.jupyter.widget-view+json": {
       "model_id": "",
       "version_major": 2,
       "version_minor": 0
      },
      "text/plain": [
       "FloatProgress(value=0.0, bar_style='info', description='Progress:', layout=Layout(height='25px', width='50%'),…"
      ]
     },
     "metadata": {},
     "output_type": "display_data"
    }
   ],
   "source": [
    "def categorize_time(time_str):\n",
    "    hour = int(time_str.split(\":\")[0])\n",
    "    if 5 <= hour < 9:\n",
    "        return \"early morning\"\n",
    "    elif 9 <= hour < 12:\n",
    "        return \"late morning\"\n",
    "    elif 12 <= hour < 14:\n",
    "        return \"noon\"\n",
    "    elif 14 <= hour < 17:\n",
    "        return \"early afternoon\"\n",
    "    elif 17 <= hour < 21:\n",
    "        return \"late afternoon\"\n",
    "    elif 21 <= hour < 23:\n",
    "        return \"evening\"\n",
    "    else:\n",
    "        return \"night\""
   ]
  },
  {
   "cell_type": "code",
   "execution_count": 69,
   "id": "bf2126ea-4373-4053-a0b4-707cb933953c",
   "metadata": {
    "execution": {
     "iopub.execute_input": "2023-01-30T21:48:56.896825Z",
     "iopub.status.busy": "2023-01-30T21:48:56.896485Z",
     "iopub.status.idle": "2023-01-30T21:48:56.954777Z",
     "shell.execute_reply": "2023-01-30T21:48:56.954042Z",
     "shell.execute_reply.started": "2023-01-30T21:48:56.896797Z"
    },
    "tags": []
   },
   "outputs": [
    {
     "data": {
      "application/vnd.jupyter.widget-view+json": {
       "model_id": "b3288ee6f0f441cdb322b90fa2f34e4a",
       "version_major": 2,
       "version_minor": 0
      },
      "text/plain": [
       "VBox()"
      ]
     },
     "metadata": {},
     "output_type": "display_data"
    },
    {
     "data": {
      "application/vnd.jupyter.widget-view+json": {
       "model_id": "",
       "version_major": 2,
       "version_minor": 0
      },
      "text/plain": [
       "FloatProgress(value=0.0, bar_style='info', description='Progress:', layout=Layout(height='25px', width='50%'),…"
      ]
     },
     "metadata": {},
     "output_type": "display_data"
    }
   ],
   "source": [
    "udf_categorize_time = f.udf(categorize_time, StringType())"
   ]
  },
  {
   "cell_type": "code",
   "execution_count": 70,
   "id": "00ba7999-3089-446b-86cc-0a1744f78a7a",
   "metadata": {
    "execution": {
     "iopub.execute_input": "2023-01-30T21:48:58.428976Z",
     "iopub.status.busy": "2023-01-30T21:48:58.428645Z",
     "iopub.status.idle": "2023-01-30T21:48:58.494446Z",
     "shell.execute_reply": "2023-01-30T21:48:58.493543Z",
     "shell.execute_reply.started": "2023-01-30T21:48:58.428947Z"
    },
    "tags": []
   },
   "outputs": [
    {
     "data": {
      "application/vnd.jupyter.widget-view+json": {
       "model_id": "6cf787e5569548248a339096f26d0b9c",
       "version_major": 2,
       "version_minor": 0
      },
      "text/plain": [
       "VBox()"
      ]
     },
     "metadata": {},
     "output_type": "display_data"
    },
    {
     "data": {
      "application/vnd.jupyter.widget-view+json": {
       "model_id": "",
       "version_major": 2,
       "version_minor": 0
      },
      "text/plain": [
       "FloatProgress(value=0.0, bar_style='info', description='Progress:', layout=Layout(height='25px', width='50%'),…"
      ]
     },
     "metadata": {},
     "output_type": "display_data"
    }
   ],
   "source": [
    "temp14 = posts_df.select('post_id', 'post_parent_id', 'accepted_answer_id', 'post_type_id', 'post_creation_date').withColumnRenamed('post_parent_id', 'original_post_id')"
   ]
  },
  {
   "cell_type": "code",
   "execution_count": 71,
   "id": "f60b4675-1ef3-4bd6-b10f-5ec40bd65f19",
   "metadata": {
    "execution": {
     "iopub.execute_input": "2023-01-30T21:49:02.064789Z",
     "iopub.status.busy": "2023-01-30T21:49:02.064475Z",
     "iopub.status.idle": "2023-01-30T21:49:02.327007Z",
     "shell.execute_reply": "2023-01-30T21:49:02.326122Z",
     "shell.execute_reply.started": "2023-01-30T21:49:02.064764Z"
    },
    "tags": []
   },
   "outputs": [
    {
     "data": {
      "application/vnd.jupyter.widget-view+json": {
       "model_id": "f825f35210a34001a8720735aac48ec1",
       "version_major": 2,
       "version_minor": 0
      },
      "text/plain": [
       "VBox()"
      ]
     },
     "metadata": {},
     "output_type": "display_data"
    },
    {
     "data": {
      "application/vnd.jupyter.widget-view+json": {
       "model_id": "",
       "version_major": 2,
       "version_minor": 0
      },
      "text/plain": [
       "FloatProgress(value=0.0, bar_style='info', description='Progress:', layout=Layout(height='25px', width='50%'),…"
      ]
     },
     "metadata": {},
     "output_type": "display_data"
    }
   ],
   "source": [
    "answers_14 = temp14.filter(f.col('post_type_id') == 2) \\\n",
    "                    .select('post_id', 'post_creation_date') \\\n",
    "                    .withColumnRenamed('post_id', 'answer_id') \\\n",
    "                    .withColumnRenamed('post_creation_date', 'answer_creation_date')"
   ]
  },
  {
   "cell_type": "code",
   "execution_count": 72,
   "id": "d49c4797-c47b-429b-9847-ec36beb69566",
   "metadata": {
    "execution": {
     "iopub.execute_input": "2023-01-30T21:49:04.004600Z",
     "iopub.status.busy": "2023-01-30T21:49:04.004288Z",
     "iopub.status.idle": "2023-01-30T21:49:27.348724Z",
     "shell.execute_reply": "2023-01-30T21:49:27.347784Z",
     "shell.execute_reply.started": "2023-01-30T21:49:04.004576Z"
    },
    "tags": []
   },
   "outputs": [
    {
     "data": {
      "application/vnd.jupyter.widget-view+json": {
       "model_id": "d763578a990945a690ed0afb229e2255",
       "version_major": 2,
       "version_minor": 0
      },
      "text/plain": [
       "VBox()"
      ]
     },
     "metadata": {},
     "output_type": "display_data"
    },
    {
     "data": {
      "application/vnd.jupyter.widget-view+json": {
       "model_id": "",
       "version_major": 2,
       "version_minor": 0
      },
      "text/plain": [
       "FloatProgress(value=0.0, bar_style='info', description='Progress:', layout=Layout(height='25px', width='50%'),…"
      ]
     },
     "metadata": {},
     "output_type": "display_data"
    },
    {
     "name": "stdout",
     "output_type": "stream",
     "text": [
      "+---------+-------+---------------+\n",
      "|answer_id|weekday|        daytime|\n",
      "+---------+-------+---------------+\n",
      "|     1228|    Sat|        evening|\n",
      "|     6103|    Mon| late afternoon|\n",
      "|     6219|    Fri|early afternoon|\n",
      "|    12538|    Wed|   late morning|\n",
      "|    19510|    Sun|   late morning|\n",
      "|    24691|    Wed|early afternoon|\n",
      "|    25688|    Fri|  early morning|\n",
      "|    26680|    Mon|        evening|\n",
      "|     6121|    Wed|          night|\n",
      "|    11485|    Tue| late afternoon|\n",
      "|    16282|    Sat|           noon|\n",
      "|    18398|    Mon|early afternoon|\n",
      "|    19801|    Wed|           noon|\n",
      "|    20596|    Sat|  early morning|\n",
      "|    20837|    Mon| late afternoon|\n",
      "|    22832|    Sun|early afternoon|\n",
      "|    24912|    Mon|early afternoon|\n",
      "|    25280|    Sun|early afternoon|\n",
      "|    25621|    Sun|   late morning|\n",
      "|    33330|    Wed| late afternoon|\n",
      "+---------+-------+---------------+\n",
      "only showing top 20 rows"
     ]
    }
   ],
   "source": [
    "answers_14 = answers_14 \\\n",
    "                .withColumn('weekday', f.date_format('answer_creation_date', 'E')) \\\n",
    "                .withColumn('hour_minute', f.date_format('answer_creation_date', \"HH:mm\")) \\\n",
    "                .withColumn(\"daytime\", udf_categorize_time(f.col('hour_minute'))) \\\n",
    "                .drop('answer_creation_date', 'hour_minute')\n",
    "\n",
    "answers_14.show()"
   ]
  },
  {
   "cell_type": "code",
   "execution_count": 73,
   "id": "20aa632b-f3fe-40a2-b1b9-5b27a627d717",
   "metadata": {
    "execution": {
     "iopub.execute_input": "2023-01-30T21:51:50.474712Z",
     "iopub.status.busy": "2023-01-30T21:51:50.474402Z",
     "iopub.status.idle": "2023-01-30T21:52:15.826150Z",
     "shell.execute_reply": "2023-01-30T21:52:15.825428Z",
     "shell.execute_reply.started": "2023-01-30T21:51:50.474686Z"
    },
    "tags": []
   },
   "outputs": [
    {
     "data": {
      "application/vnd.jupyter.widget-view+json": {
       "model_id": "b8db2c4693114ed7a7d29d080a12d7cd",
       "version_major": 2,
       "version_minor": 0
      },
      "text/plain": [
       "VBox()"
      ]
     },
     "metadata": {},
     "output_type": "display_data"
    },
    {
     "data": {
      "application/vnd.jupyter.widget-view+json": {
       "model_id": "",
       "version_major": 2,
       "version_minor": 0
      },
      "text/plain": [
       "FloatProgress(value=0.0, bar_style='info', description='Progress:', layout=Layout(height='25px', width='50%'),…"
      ]
     },
     "metadata": {},
     "output_type": "display_data"
    },
    {
     "name": "stdout",
     "output_type": "stream",
     "text": [
      "+-------+---------------+-----+\n",
      "|weekday|        daytime|count|\n",
      "+-------+---------------+-----+\n",
      "|    Tue| late afternoon|  656|\n",
      "|    Wed| late afternoon|  651|\n",
      "|    Mon| late afternoon|  649|\n",
      "|    Thu| late afternoon|  643|\n",
      "|    Fri| late afternoon|  588|\n",
      "|    Wed|          night|  502|\n",
      "|    Sun| late afternoon|  501|\n",
      "|    Sat| late afternoon|  492|\n",
      "|    Tue|early afternoon|  485|\n",
      "|    Tue|          night|  469|\n",
      "|    Wed|early afternoon|  459|\n",
      "|    Fri|          night|  457|\n",
      "|    Mon|early afternoon|  453|\n",
      "|    Thu|          night|  452|\n",
      "|    Thu|early afternoon|  430|\n",
      "|    Sat|          night|  426|\n",
      "|    Mon|          night|  421|\n",
      "|    Fri|early afternoon|  414|\n",
      "|    Sun|          night|  404|\n",
      "|    Wed|  early morning|  403|\n",
      "+-------+---------------+-----+\n",
      "only showing top 20 rows"
     ]
    }
   ],
   "source": [
    "grouped_answers = answers_14.groupBy([\"weekday\", \"daytime\"]).count().orderBy(f.col('count').desc())\n",
    "grouped_answers.show()"
   ]
  },
  {
   "cell_type": "markdown",
   "id": "80806429-9856-4baa-ae4b-aebfe380b40b",
   "metadata": {},
   "source": [
    "## 15. Badanie podobieństw między tagami"
   ]
  },
  {
   "cell_type": "markdown",
   "id": "0c88925a-94c3-4c0d-8754-66628e510cf1",
   "metadata": {},
   "source": [
    "### Klasteryzacja słów za pomocą k-means"
   ]
  },
  {
   "cell_type": "code",
   "execution_count": 64,
   "id": "172456c3-3cef-4fd0-ae9b-8328f0d0feab",
   "metadata": {
    "execution": {
     "iopub.execute_input": "2023-01-30T21:47:40.510900Z",
     "iopub.status.busy": "2023-01-30T21:47:40.510546Z",
     "iopub.status.idle": "2023-01-30T21:47:40.972342Z",
     "shell.execute_reply": "2023-01-30T21:47:40.971377Z",
     "shell.execute_reply.started": "2023-01-30T21:47:40.510864Z"
    },
    "tags": []
   },
   "outputs": [
    {
     "data": {
      "application/vnd.jupyter.widget-view+json": {
       "model_id": "f96c638c272745ff9e551d52fa6ca64e",
       "version_major": 2,
       "version_minor": 0
      },
      "text/plain": [
       "VBox()"
      ]
     },
     "metadata": {},
     "output_type": "display_data"
    },
    {
     "data": {
      "application/vnd.jupyter.widget-view+json": {
       "model_id": "",
       "version_major": 2,
       "version_minor": 0
      },
      "text/plain": [
       "FloatProgress(value=0.0, bar_style='info', description='Progress:', layout=Layout(height='25px', width='50%'),…"
      ]
     },
     "metadata": {},
     "output_type": "display_data"
    }
   ],
   "source": [
    "tags_15 = tags_df.select('tag_name').distinct()\n",
    "tags_unique = [data[0] for data in tags_15.select('tag_name').collect()]"
   ]
  },
  {
   "cell_type": "code",
   "execution_count": 105,
   "id": "f60bd7a3-462a-45b2-ba84-b66118acf813",
   "metadata": {
    "execution": {
     "iopub.execute_input": "2023-01-30T22:23:38.376017Z",
     "iopub.status.busy": "2023-01-30T22:23:38.375672Z",
     "iopub.status.idle": "2023-01-30T22:23:38.439511Z",
     "shell.execute_reply": "2023-01-30T22:23:38.438792Z",
     "shell.execute_reply.started": "2023-01-30T22:23:38.375987Z"
    },
    "tags": []
   },
   "outputs": [
    {
     "data": {
      "application/vnd.jupyter.widget-view+json": {
       "model_id": "59ed2ebb6d414b1086508992070a0498",
       "version_major": 2,
       "version_minor": 0
      },
      "text/plain": [
       "VBox()"
      ]
     },
     "metadata": {},
     "output_type": "display_data"
    },
    {
     "data": {
      "application/vnd.jupyter.widget-view+json": {
       "model_id": "",
       "version_major": 2,
       "version_minor": 0
      },
      "text/plain": [
       "FloatProgress(value=0.0, bar_style='info', description='Progress:', layout=Layout(height='25px', width='50%'),…"
      ]
     },
     "metadata": {},
     "output_type": "display_data"
    }
   ],
   "source": [
    "def group_by_second(lst):\n",
    "    return {k: [x for x, y in lst if y == k] for k in {y for x, y in lst}}"
   ]
  },
  {
   "cell_type": "code",
   "execution_count": 131,
   "id": "099dfc6b-df84-46bb-bb0b-13d0d539782b",
   "metadata": {
    "execution": {
     "iopub.execute_input": "2023-01-30T22:37:17.261100Z",
     "iopub.status.busy": "2023-01-30T22:37:17.260793Z",
     "iopub.status.idle": "2023-01-30T22:37:17.515408Z",
     "shell.execute_reply": "2023-01-30T22:37:17.514592Z",
     "shell.execute_reply.started": "2023-01-30T22:37:17.261077Z"
    },
    "tags": []
   },
   "outputs": [
    {
     "data": {
      "application/vnd.jupyter.widget-view+json": {
       "model_id": "2bba9f536ab244cbbd76a5b5df65ca4c",
       "version_major": 2,
       "version_minor": 0
      },
      "text/plain": [
       "VBox()"
      ]
     },
     "metadata": {},
     "output_type": "display_data"
    },
    {
     "data": {
      "application/vnd.jupyter.widget-view+json": {
       "model_id": "",
       "version_major": 2,
       "version_minor": 0
      },
      "text/plain": [
       "FloatProgress(value=0.0, bar_style='info', description='Progress:', layout=Layout(height='25px', width='50%'),…"
      ]
     },
     "metadata": {},
     "output_type": "display_data"
    }
   ],
   "source": [
    "from sklearn.feature_extraction.text import TfidfVectorizer\n",
    "from sklearn.cluster import KMeans\n",
    "\n",
    "vectorizer = TfidfVectorizer()\n",
    "X = vectorizer.fit_transform(tags_unique)\n",
    "\n",
    "kmeans = KMeans(n_clusters=10)\n",
    "kmeans.fit(X)\n",
    "\n",
    "labels = kmeans.labels_\n",
    "\n",
    "word_and_group = list(zip(tags_unique, labels))"
   ]
  },
  {
   "cell_type": "code",
   "execution_count": 132,
   "id": "08b2ec8b-982c-42e4-959d-187481e70b25",
   "metadata": {
    "execution": {
     "iopub.execute_input": "2023-01-30T22:37:20.871504Z",
     "iopub.status.busy": "2023-01-30T22:37:20.871071Z",
     "iopub.status.idle": "2023-01-30T22:37:20.944045Z",
     "shell.execute_reply": "2023-01-30T22:37:20.942567Z",
     "shell.execute_reply.started": "2023-01-30T22:37:20.871466Z"
    },
    "tags": []
   },
   "outputs": [
    {
     "data": {
      "application/vnd.jupyter.widget-view+json": {
       "model_id": "7884a8f4dbe54f4e8afe228edb3d5774",
       "version_major": 2,
       "version_minor": 0
      },
      "text/plain": [
       "VBox()"
      ]
     },
     "metadata": {},
     "output_type": "display_data"
    },
    {
     "data": {
      "application/vnd.jupyter.widget-view+json": {
       "model_id": "",
       "version_major": 2,
       "version_minor": 0
      },
      "text/plain": [
       "FloatProgress(value=0.0, bar_style='info', description='Progress:', layout=Layout(height='25px', width='50%'),…"
      ]
     },
     "metadata": {},
     "output_type": "display_data"
    }
   ],
   "source": [
    "result = group_by_second(word_and_group)"
   ]
  },
  {
   "cell_type": "code",
   "execution_count": 133,
   "id": "d5905843-b8cc-497b-88dc-2305709434ab",
   "metadata": {
    "execution": {
     "iopub.execute_input": "2023-01-30T22:37:21.684573Z",
     "iopub.status.busy": "2023-01-30T22:37:21.684256Z",
     "iopub.status.idle": "2023-01-30T22:37:21.756450Z",
     "shell.execute_reply": "2023-01-30T22:37:21.755612Z",
     "shell.execute_reply.started": "2023-01-30T22:37:21.684546Z"
    },
    "tags": []
   },
   "outputs": [
    {
     "data": {
      "application/vnd.jupyter.widget-view+json": {
       "model_id": "7e6207c98f9f4aef95ac1a4ff0b1bc4a",
       "version_major": 2,
       "version_minor": 0
      },
      "text/plain": [
       "VBox()"
      ]
     },
     "metadata": {},
     "output_type": "display_data"
    },
    {
     "data": {
      "application/vnd.jupyter.widget-view+json": {
       "model_id": "",
       "version_major": 2,
       "version_minor": 0
      },
      "text/plain": [
       "FloatProgress(value=0.0, bar_style='info', description='Progress:', layout=Layout(height='25px', width='50%'),…"
      ]
     },
     "metadata": {},
     "output_type": "display_data"
    },
    {
     "name": "stdout",
     "output_type": "stream",
     "text": [
      "['m31', 'transits-other-than-sun', 'planetary-science', 'image-processing', 'frame-of-reference', 'infrared', 'detectors', 'standard-candle', 'asteroid-belt', 'albedo', 'kuiper-belt', 'differentiation', 'hypergiants', 'temperature', 'ascension', 'quantum-mechanics', 'ecliptic', 'parallax', 'distances', 'universe', 'interstellar-travel', 'circumgalactic-medium', 'astropy', 'neutrinos', 'correction', 'gas', 'horizon', 'mond', 'sloan-dss', 'globular-clusters', 'gravitational-lensing', '99942-apophis', 'origin-of-life', 'multiverse', 'oumuamua', 'planetary-transits', 'future', 'betelgeuse', 'angular-resolution', 'asteroids', 'magnetic-field', 'tidal-forces', 'solar-system', 'resource-request', 'particles', 'earth', 'software', 'nebulae', 'nicer', 'ice', 'solar-wind', 'water', 'radial-velocity', 'nebula', 'parker-solar-probe', 'mass-loss', 'umbra', 'elliptic', 'mars', 'axion', 'inclination', 'tess', 'proton', 'plasma-physics', 'azimuth', 'alignment', 'velocity', 'nasa', 'app', 'right-ascension', 'magnetar', 'angular-diameter', 'fits-header', 'sunrise', 'synodic-period', 'pole', 'brown-dwarf', 'earths-orbit', 'redshift', 'astrometry', 'ngc', 'astrochemistry', 'photosphere', 'period', 'galaxy-cluster', 'wormhole', 'theories', 'sound', '9th-planet', 'wcs', 'extra-terrestrial', 'data-pipeline', 'solstice', 'gedr3', 'geology', 'theia', 'exposure', 'chicxulub', 'singularity', 'roche-limit', 'bolometric-magnitude', 'meteor-shower', 'outer-solar-system', 'time', 'orrery', 'hyperion', 'naming', 'earendel-whl0137-ls', 'galileo-probe', 'weather', 'volcanism', 'spiral-arms', 'cosmological-principle', 'deep-sky-observing', 'exoplanet', 'europa', 'impact-probability', 'elemental-abundances', 'thorne-zytkow-object', 'size', 'coordinate', 'blueshift', 'entropy', 'planetary-systems', 'speed', 'starspot', 'ephemeris', 'kepler', 'active-galaxy', 'map', 'brightness', 'muon', 'gamma-ray-bursts', 'element', 'algorithm', 'magnitude', 'chthonian', 'microlensing', 'ligo', 'archaeoastronomy', 'core', 'v838-monocerotis', 'near-earth-object', 'absolute-magnitude', 'charge-coupled-devices', 'high-energy-astrophysics', 'fusion', 'impact', 'keplers-laws', 'collimation', 'instruments', 'flare', 'csst', 'eyepiece', 'k2', 'hypothetical', 'proto-planetary-disk', 'seyfert-galaxy', 'orbital-migration', 'sidereal-period', 'alma', 'big-bang-theory', 'prediction', 'javascript', 'nucleosynthesis', 'barlow', 'observable-universe', 'pulsar', 'kbo', 'history', 'movement', 'artificial-satellite', 'mathematics', 'cosmic-ray', 'ceres', 'diy', 'dispersion', 'moon-phases', 'planet', 'sunspots', 'modeling', 'quasars', 'enceladus', 'axial-tilt', 'gravity-vlt-interferometer', 'binoculars', 'rotation', 'science-communication', 'nice-model', 'tidal-locking', 'galilean-moons', 'topographic-map', 'astrobiology', 'general-relativity', 'hr-diagram', 'methane', 'ds9', 'of', 'orion', 'lunar-libration', 'identify-this-object', 'zodiac', 'white-hole', 'galactic-halo', 'cosmological-horizon', 'olympus-mons', 'aurora', 'antimatter', 'twilight', 'sky-survey', 'interferometry', 'johannes-kepler', 'standards', 'big-rip', 'great-red-spot', 'spectral-type', 'iau', 'callisto', 'mass', 'fate-of-universe', 'meteoroid', 'heat', 'special-relativity', 'gamma-rays', 'collision', 'lhb', 'wolf-rayet', 'messier-catalog', 'observation-campaign', 'mirror', 'potential-energy', 'parsec', 'navigation', 'meteorite', 'extinction', 'adaptive-optics', 'astrophysics', 'analemma', 'cosmic-microwave-background', 'spectroscopy', 'neural-networks', 'kilonova', 'hipparcos', 'contact-binaries', 'n-body-simulations', 'lofar', 'moonlet', 'iss', 'opacity', 'life', 'trojan-asteroids', 'earth-like-planet', 'seti', 'photometry', 'eccentric-orbit', 'main-sequence', 'polaris', 'skyfield', 'liquid', 'c2014-un271-bernardinelli-bernstein', '67p', 'asteroseismology', 'gravitation', 'celestial-mechanics', 'weak-lensing', 'metallicity', 'atmospheric-effects', 'gravity', 'interstellar-medium', 'theory', 'moonlanding', 'sofia', 'bortle-scale', 'neutrons', 'gaia', 'newtonian-gravity', 'fu-orionis', 'gravitational-waves', 'precession', 'spectra', 'satellite', 'night-sky', 'classification', 'helium', 'mercury', 'definition', 'communication', 'eccentricity', 'untagged', 'explosion', 'apparent-motion', 'xmm-newton', 'fermi-paradox', 'atmospheric-escape', 'obliquity', 'equinox', 'quantum-field-theory', 'red-giant', 'radar', 'pluto', 'halleys-comet', 'hubble-constant', 'python', 'merger', 'hydrostatic-equilibrium', 'habitable-zone', 'constellations', 'rogue-planet', 'interstellar', 'nova', 'orbital-resonance', 'lunar-eclipse', 'light-curve', 'vera-c-rubin-observatory', 'spectral', 'neptune', 'infinite', 'orbital-elements', 'holographic-principle', 'nemesis', 'vacuum', 'projection', 'soho', 'thermodynamics', 'visible-light', 'wavelength', 'astronomical-unit', 'dwarf-planets', 'conjunction', 'pressure', 'drake-equation', 'tweakreg', 'density', 'clock', 'observatory', 'dust', 'declination', 'trappist-1', 'ions', 'solar-storm', 'interplanetary-medium', 'climate', 'corona', 'friedmann-equations', 'data-analysis', 'dwarf-galaxy', 'the-moon', 'centaur', 'bow-shock', 'galactic-center', 'distribution-function', 'galaxy', 'sombrero-galaxy', 'geysers', 'age', 'white-dwarf', 'optics', 'esa', 'cepheids', 'naked-eye', 'saturn-rings', 'metal', 'grand-tack-hypothesis', 'radiative-transfer', 'uranus', 'saturn', 'pisces', 'local-group', 'terrestrial-planets', 'electromagnetic-spectrum', 'solar-flare', 'coronal-mass-ejection', 'molecules', 'x-ray', 'hypernova', 'flux', 'homogeneity', 'geocentrism', 'dust-storm', 'amateur-observing', 'orbital-decay', 'the-sun', 'gas-giants', 'mirror-making', 'astronomical-jet', 'vlbi', 'symbols', 'meteor', 'orbital-mechanics', 'fits', 'galaxy-center', 'smell', 'galactic-dynamics', 'h-alpha', 'synchrotron-radiation', 'hydrogen', 'drizzle', 'luminosity', 'magellanic-cloud', 'orbit', 'serendipity', 'escape-velocity', 'notation', 'doppler-effect', 'sun-rays', 'eddington-luminosity', 'gravitational-force', 'units', 'tracker', 'light-pollution', 'accretion-discs', 'cyclones', 'mass-gap', 'carbon-cycle', 'early-universe', 'retrograde-orbit', 'education', 'trans-neptunian-object', 'nomenclature', 'io', 'blazars', 'protostar', 'milky-way', 'sunyaev-zeldovich-effect', 'terminology', 'crater', 'planetary-atmosphere', 'stellarium', 'event-horizon', 'cartography', 'surface', 'zodiacal-light', 'no-hair-conjecture', 'turbulence', 'comets', 'm87', 'light', 'e-elt', 'estimate', 't-tauri-stars', 'formation', 'dark-energy', 'photography', 'cosmological-inflation', 'initial-mass-function', 'oort-cloud', 'radius', 'red-supergiant', 'triton', 'accretion', 'sunset', 'post-processing', 'abiogenesis', 'solar-eclipse', 'chandra', 'alerts', 'universe-sandbox', 'photons', 'eclipse-non-earth-related', 'hawking-radiation', 'spectrometry', 'raw-data', 'supermassive-black-hole', 'sagittarius-a', 'supernova', 'planetary-ring', 'apsidal-precession', 'phobos', 'kinematics', 'radiation', 'graviton', 'polarization', 'red-dwarf', 'time-dilation', 'simbad', 'hill-sphere', 'deimos', 'planetary-formation', 'inverse-square-law', 'lagrange-point', 'cosmology', 'apparent-magnitude', 'black-hole', 'expansion', 'natural-satellites', 'black-body', 'coronograph', 'information', 'venus', 'stefan-boltzmann-law', 'quake', 'titan', 'charon', 'cheops', 'cassini', 'disk', 'very-high-energetic-event', 'occultation']\n",
      "\n",
      "['gravitational-wave-astronomy', 'positional-astronomy', 'time-domain-astronomy', 'astronomy-site', 'observational-astronomy', 'fast-radio-bursts', 'radio', 'radio-astronomy', 'fundamental-astronomy']\n",
      "\n",
      "['large-binocular-telescope', 'newtonian-telescope', 'telescope-making', 'radio-telescope', 'cassegrain-telescope', 'very-large-telescope', 'telescope-care', 'giant-magellan-telescope', 'telescope', 'dobsonian-telescope', 'telescope-lens', 'nancy-grace-roman-telescope', 'refractor-telescope', 'rc-telescope', 'hubble-telescope', 'event-horizon-telescope']\n",
      "\n",
      "['space', 'james-webb-space-telescope', 'intergalactic-space', 'space-time', 'space-debris', 'space-probe', 'space-travel', 'space-telescope', 'space-geometry']\n",
      "\n",
      "['degenerate-matter', 'dark-matter', 'matter', 'exotic-matter']\n",
      "\n",
      "['star', 'eclipsing-star-systems', 'star-formation', 'neutron-star', 'star-systems', 'binary-star', 'dwarf-star', 'runaway-star', 'star-cluster', 'multiple-star-systems', 'carbon-star', 'star-evolution', 'star-catalogues', 'star-maps', 'variable-star', 'star-gazing']\n",
      "\n",
      "['hot-jupiter', 'jupiter', 'cold-jupiter']\n",
      "\n",
      "['stellar-evolution', 'asteroid-evolution', 'stellar-density', 'stellar-astrophysics', 'stellar-population', 'stellar-remnants', 'galactic-evolution', 'stellar-classification', 'solar-system-evolution', 'stellar-atmospheres', 'stellar-dynamics', 'stellar-structure']\n",
      "\n",
      "['visualization']\n",
      "\n",
      "['color-index', 'color']"
     ]
    }
   ],
   "source": [
    "for key in result.keys():\n",
    "    print(result[key])\n",
    "    print()"
   ]
  },
  {
   "cell_type": "markdown",
   "id": "df76579a-3d35-4a03-ae1f-322ae5bd7a62",
   "metadata": {},
   "source": [
    "### Model semantyczny: Można użyć modelu semantycznego, takiego jak word2vec lub GloVe, aby porównać semantyczne relacje między słowami i zobaczyć, czy są blisko siebie."
   ]
  },
  {
   "cell_type": "code",
   "execution_count": null,
   "id": "ba464e46-4783-4e01-b197-d1eca6ecfe20",
   "metadata": {},
   "outputs": [],
   "source": []
  },
  {
   "cell_type": "markdown",
   "id": "4036cfe1-8dac-4cc4-8eba-d033e31f9d1d",
   "metadata": {},
   "source": [
    "### Słownik synonimów: Można użyć gotowego słownika synonimów, aby zobaczyć, czy dane słowa są zdefiniowane jako synonimy."
   ]
  },
  {
   "cell_type": "code",
   "execution_count": null,
   "id": "4326780d-5aa8-47b8-a871-80dd73e83e5f",
   "metadata": {},
   "outputs": [],
   "source": []
  }
 ],
 "metadata": {
  "kernelspec": {
   "display_name": "PySpark",
   "language": "python",
   "name": "pysparkkernel"
  },
  "language_info": {
   "codemirror_mode": {
    "name": "python",
    "version": 3
   },
   "file_extension": ".py",
   "mimetype": "text/x-python",
   "name": "pyspark",
   "pygments_lexer": "python3"
  }
 },
 "nbformat": 4,
 "nbformat_minor": 5
}
